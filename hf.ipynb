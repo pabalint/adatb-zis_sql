{
    "metadata": {
        "kernelspec": {
            "name": "SQL",
            "display_name": "SQL",
            "language": "sql"
        },
        "language_info": {
            "name": "sql",
            "version": ""
        }
    },
    "nbformat_minor": 2,
    "nbformat": 4,
    "cells": [
        {
            "cell_type": "code",
            "source": [
                "SELECT sor_típus,\r\n",
                "    COUNT(*) darabszám\r\n",
                "FROM \r\n",
                "    (SELECT \r\n",
                "        CASE WHEN Tantárgyfelelős IS NULL THEN 'Null'\r\n",
                "            ELSE 'Kitöltött' \r\n",
                "            END AS sor_típus\r\n",
                "        FROM Tantárgyak) rows\r\n",
                "GROUP BY sor_típus"
            ],
            "metadata": {
                "azdata_cell_guid": "a85ebe23-4984-40e1-b74a-87f0c6e72cf5",
                "language": "sql"
            },
            "outputs": [
                {
                    "output_type": "display_data",
                    "data": {
                        "text/html": "(1 row affected)"
                    },
                    "metadata": {}
                },
                {
                    "output_type": "display_data",
                    "data": {
                        "text/html": "Total execution time: 00:00:00.032"
                    },
                    "metadata": {}
                },
                {
                    "output_type": "execute_result",
                    "metadata": {},
                    "execution_count": 5,
                    "data": {
                        "application/vnd.dataresource+json": {
                            "schema": {
                                "fields": [
                                    {
                                        "name": "sor_típus"
                                    },
                                    {
                                        "name": "darabszám"
                                    }
                                ]
                            },
                            "data": [
                                {
                                    "sor_típus": "Kitöltött",
                                    "darabszám": "13"
                                }
                            ]
                        },
                        "text/html": [
                            "<table>",
                            "<tr><th>sor_típus</th><th>darabszám</th></tr>",
                            "<tr><td>Kitöltött</td><td>13</td></tr>",
                            "</table>"
                        ]
                    }
                }
            ],
            "execution_count": 5
        }
    ]
}