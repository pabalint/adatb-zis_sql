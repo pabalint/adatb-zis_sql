{
    "metadata": {
        "kernelspec": {
            "name": "SQL",
            "display_name": "SQL",
            "language": "sql"
        },
        "language_info": {
            "name": "sql",
            "version": ""
        }
    },
    "nbformat_minor": 2,
    "nbformat": 4,
    "cells": [
        {
            "cell_type": "markdown",
            "source": [
                "A bike\\_store adatbázis products tábla model\\_year oszlopának adatprofilozása"
            ],
            "metadata": {
                "azdata_cell_guid": "008567ac-8961-4dbc-85eb-7c2287a83f02"
            },
            "attachments": {}
        },
        {
            "cell_type": "code",
            "source": [
                "SELECT sor_típus,\r\n",
                "    COUNT(*) darabszám\r\n",
                "FROM \r\n",
                "    (SELECT \r\n",
                "        CASE WHEN model_year IS NULL THEN 'Null'\r\n",
                "            ELSE 'Kitöltött' \r\n",
                "            END AS sor_típus\r\n",
                "        FROM products) rows\r\n",
                "GROUP BY sor_típus"
            ],
            "metadata": {
                "azdata_cell_guid": "a85ebe23-4984-40e1-b74a-87f0c6e72cf5",
                "language": "sql"
            },
            "outputs": [
                {
                    "output_type": "display_data",
                    "data": {
                        "text/html": "(1 row affected)"
                    },
                    "metadata": {}
                },
                {
                    "output_type": "display_data",
                    "data": {
                        "text/html": "Total execution time: 00:00:00.036"
                    },
                    "metadata": {}
                },
                {
                    "output_type": "execute_result",
                    "metadata": {},
                    "execution_count": 10,
                    "data": {
                        "application/vnd.dataresource+json": {
                            "schema": {
                                "fields": [
                                    {
                                        "name": "sor_típus"
                                    },
                                    {
                                        "name": "darabszám"
                                    }
                                ]
                            },
                            "data": [
                                {
                                    "sor_típus": "Kitöltött",
                                    "darabszám": "321"
                                }
                            ]
                        },
                        "text/html": [
                            "<table>",
                            "<tr><th>sor_típus</th><th>darabszám</th></tr>",
                            "<tr><td>Kitöltött</td><td>321</td></tr>",
                            "</table>"
                        ]
                    }
                }
            ],
            "execution_count": 10
        },
        {
            "cell_type": "code",
            "source": [
                "SELECT\r\n",
                "    model_year AS Kiadás_éve, \r\n",
                "    COUNT(*) darabszám\r\n",
                "from products\r\n",
                "WHERE model_year IS NOT null\r\n",
                "GROUP BY model_year\r\n",
                "ORDER BY COUNT(*) desc"
            ],
            "metadata": {
                "language": "sql",
                "azdata_cell_guid": "2e38980e-6a6e-4557-8b9d-f72bf9939328"
            },
            "outputs": [
                {
                    "output_type": "display_data",
                    "data": {
                        "text/html": "(4 rows affected)"
                    },
                    "metadata": {}
                },
                {
                    "output_type": "display_data",
                    "data": {
                        "text/html": "Total execution time: 00:00:00.074"
                    },
                    "metadata": {}
                },
                {
                    "output_type": "execute_result",
                    "metadata": {},
                    "execution_count": 13,
                    "data": {
                        "application/vnd.dataresource+json": {
                            "schema": {
                                "fields": [
                                    {
                                        "name": "Kiadás_éve"
                                    },
                                    {
                                        "name": "darabszám"
                                    }
                                ]
                            },
                            "data": [
                                {
                                    "Kiadás_éve": "2018",
                                    "darabszám": "204"
                                },
                                {
                                    "Kiadás_éve": "2017",
                                    "darabszám": "85"
                                },
                                {
                                    "Kiadás_éve": "2016",
                                    "darabszám": "26"
                                },
                                {
                                    "Kiadás_éve": "2019",
                                    "darabszám": "6"
                                }
                            ]
                        },
                        "text/html": [
                            "<table>",
                            "<tr><th>Kiadás_éve</th><th>darabszám</th></tr>",
                            "<tr><td>2018</td><td>204</td></tr>",
                            "<tr><td>2017</td><td>85</td></tr>",
                            "<tr><td>2016</td><td>26</td></tr>",
                            "<tr><td>2019</td><td>6</td></tr>",
                            "</table>"
                        ]
                    }
                }
            ],
            "execution_count": 13
        },
        {
            "cell_type": "markdown",
            "source": [
                "A fenti lekérdezést ábrázoltam diagrammon, Lásd a házi\\_feladat mappában diagramm1.png néven"
            ],
            "metadata": {
                "azdata_cell_guid": "5d872ba4-2c35-4dba-9217-a9f9a0820798"
            },
            "attachments": {}
        },
        {
            "cell_type": "code",
            "source": [
                "SELECT MIN(model_year) AS Legrégebbi_model, \r\n",
                "       MAX(model_year) AS Legújabb_model\r\n",
                "FROM products\r\n",
                "WHERE model_year IS NOT NULL"
            ],
            "metadata": {
                "language": "sql",
                "azdata_cell_guid": "92d202b7-41ce-4f30-b4e0-4daeb9b3062e",
                "tags": []
            },
            "outputs": [
                {
                    "output_type": "display_data",
                    "data": {
                        "text/html": "(1 row affected)"
                    },
                    "metadata": {}
                },
                {
                    "output_type": "display_data",
                    "data": {
                        "text/html": "Total execution time: 00:00:00.033"
                    },
                    "metadata": {}
                },
                {
                    "output_type": "execute_result",
                    "metadata": {},
                    "execution_count": 14,
                    "data": {
                        "application/vnd.dataresource+json": {
                            "schema": {
                                "fields": [
                                    {
                                        "name": "Legrégebbi_model"
                                    },
                                    {
                                        "name": "Legújabb_model"
                                    }
                                ]
                            },
                            "data": [
                                {
                                    "Legrégebbi_model": "2016",
                                    "Legújabb_model": "2019"
                                }
                            ]
                        },
                        "text/html": [
                            "<table>",
                            "<tr><th>Legrégebbi_model</th><th>Legújabb_model</th></tr>",
                            "<tr><td>2016</td><td>2019</td></tr>",
                            "</table>"
                        ]
                    }
                }
            ],
            "execution_count": 14
        },
        {
            "cell_type": "markdown",
            "source": [
                "A bike\\_store adatbázis products tábla list\\_price oszlopának adatprofilozása"
            ],
            "metadata": {
                "azdata_cell_guid": "87cdce34-40e5-414f-8ab1-f669984d96ca"
            },
            "attachments": {}
        },
        {
            "cell_type": "code",
            "source": [
                "SELECT MIN(list_price) AS Minimum_érték, \r\n",
                "       MAX(list_price) AS Maximum_érték, \r\n",
                "       AVG(list_price) AS Átlagos_érték, \r\n",
                "       STDEV(list_price) AS Szórás, \r\n",
                "       VAR(list_price) AS Variancia\r\n",
                "FROM products\r\n",
                "WHERE list_price IS NOT NULL"
            ],
            "metadata": {
                "azdata_cell_guid": "e957f23e-8b7c-4a01-9a9b-d207ade97b4e",
                "language": "sql"
            },
            "outputs": [
                {
                    "output_type": "display_data",
                    "data": {
                        "text/html": "(1 row affected)"
                    },
                    "metadata": {}
                },
                {
                    "output_type": "display_data",
                    "data": {
                        "text/html": "Total execution time: 00:00:00.034"
                    },
                    "metadata": {}
                },
                {
                    "output_type": "execute_result",
                    "metadata": {},
                    "execution_count": 16,
                    "data": {
                        "application/vnd.dataresource+json": {
                            "schema": {
                                "fields": [
                                    {
                                        "name": "Minimum_érték"
                                    },
                                    {
                                        "name": "Maximum_érték"
                                    },
                                    {
                                        "name": "Átlagos_érték"
                                    },
                                    {
                                        "name": "Szórás"
                                    },
                                    {
                                        "name": "Variancia"
                                    }
                                ]
                            },
                            "data": [
                                {
                                    "Minimum_érték": "89.99",
                                    "Maximum_érték": "11999.99",
                                    "Átlagos_érték": "1520.591401",
                                    "Szórás": "1612,1527653545156",
                                    "Variancia": "2599036,538840212"
                                }
                            ]
                        },
                        "text/html": [
                            "<table>",
                            "<tr><th>Minimum_érték</th><th>Maximum_érték</th><th>Átlagos_érték</th><th>Szórás</th><th>Variancia</th></tr>",
                            "<tr><td>89.99</td><td>11999.99</td><td>1520.591401</td><td>1612,1527653545156</td><td>2599036,538840212</td></tr>",
                            "</table>"
                        ]
                    }
                }
            ],
            "execution_count": 16
        },
        {
            "cell_type": "code",
            "source": [
                "DECLARE \r\n",
                "@avrg int = 1520.59;\r\n",
                "\r\n",
                "SELECT \r\n",
                "    SUM(CASE WHEN list_price < @avrg THEN 1 ELSE 0 end) AS átlagnál_olcsóbb,\r\n",
                "    SUM(CASE WHEN list_price > @avrg THEN 1 ELSE 0 end) AS átlagnál_drágább\r\n",
                "FROM products"
            ],
            "metadata": {
                "azdata_cell_guid": "69ee7c38-eace-4e2e-ba04-7fd27da6418a",
                "language": "sql"
            },
            "outputs": [
                {
                    "output_type": "display_data",
                    "data": {
                        "text/html": "(1 row affected)"
                    },
                    "metadata": {}
                },
                {
                    "output_type": "display_data",
                    "data": {
                        "text/html": "Total execution time: 00:00:00.040"
                    },
                    "metadata": {}
                },
                {
                    "output_type": "execute_result",
                    "metadata": {},
                    "execution_count": 24,
                    "data": {
                        "application/vnd.dataresource+json": {
                            "schema": {
                                "fields": [
                                    {
                                        "name": "átlagnál_olcsóbb"
                                    },
                                    {
                                        "name": "átlagnál_drágább"
                                    }
                                ]
                            },
                            "data": [
                                {
                                    "átlagnál_olcsóbb": "212",
                                    "átlagnál_drágább": "109"
                                }
                            ]
                        },
                        "text/html": [
                            "<table>",
                            "<tr><th>átlagnál_olcsóbb</th><th>átlagnál_drágább</th></tr>",
                            "<tr><td>212</td><td>109</td></tr>",
                            "</table>"
                        ]
                    }
                }
            ],
            "execution_count": 24
        },
        {
            "cell_type": "code",
            "source": [
                "SELECT\r\n",
                "    list_price AS Termék_ára, \r\n",
                "    COUNT(*) darabszám\r\n",
                "from products\r\n",
                "WHERE list_price IS NOT null\r\n",
                "GROUP BY list_price\r\n",
                "ORDER BY COUNT(*) desc"
            ],
            "metadata": {
                "azdata_cell_guid": "bcc1c385-75ad-49d0-afb2-850610789edd",
                "language": "sql"
            },
            "outputs": [
                {
                    "output_type": "display_data",
                    "data": {
                        "text/html": "(106 rows affected)"
                    },
                    "metadata": {}
                },
                {
                    "output_type": "display_data",
                    "data": {
                        "text/html": "Total execution time: 00:00:00.053"
                    },
                    "metadata": {}
                },
                {
                    "output_type": "execute_result",
                    "metadata": {},
                    "execution_count": 27,
                    "data": {
                        "application/vnd.dataresource+json": {
                            "schema": {
                                "fields": [
                                    {
                                        "name": "Termék_ára"
                                    },
                                    {
                                        "name": "darabszám"
                                    }
                                ]
                            },
                            "data": [
                                {
                                    "Termék_ára": "749.99",
                                    "darabszám": "18"
                                },
                                {
                                    "Termék_ára": "899.99",
                                    "darabszám": "13"
                                },
                                {
                                    "Termék_ára": "319.99",
                                    "darabszám": "13"
                                },
                                {
                                    "Termék_ára": "3199.99",
                                    "darabszám": "10"
                                },
                                {
                                    "Termék_ára": "3499.99",
                                    "darabszám": "8"
                                },
                                {
                                    "Termék_ára": "2999.99",
                                    "darabszám": "8"
                                },
                                {
                                    "Termék_ára": "4999.99",
                                    "darabszám": "8"
                                },
                                {
                                    "Termék_ára": "469.99",
                                    "darabszám": "8"
                                },
                                {
                                    "Termék_ára": "269.99",
                                    "darabszám": "7"
                                },
                                {
                                    "Termék_ára": "2799.99",
                                    "darabszám": "7"
                                },
                                {
                                    "Termék_ára": "2499.99",
                                    "darabszám": "7"
                                },
                                {
                                    "Termék_ára": "2599.99",
                                    "darabszám": "6"
                                },
                                {
                                    "Termék_ára": "1499.99",
                                    "darabszám": "6"
                                },
                                {
                                    "Termék_ára": "279.99",
                                    "darabszám": "6"
                                },
                                {
                                    "Termék_ára": "209.99",
                                    "darabszám": "6"
                                },
                                {
                                    "Termék_ára": "369.99",
                                    "darabszám": "6"
                                },
                                {
                                    "Termék_ára": "999.99",
                                    "darabszám": "6"
                                },
                                {
                                    "Termék_ára": "599.99",
                                    "darabszám": "6"
                                },
                                {
                                    "Termék_ára": "489.99",
                                    "darabszám": "6"
                                },
                                {
                                    "Termék_ára": "449.99",
                                    "darabszám": "5"
                                },
                                {
                                    "Termék_ára": "1549.00",
                                    "darabszám": "5"
                                },
                                {
                                    "Termék_ára": "1799.99",
                                    "darabszám": "5"
                                },
                                {
                                    "Termék_ára": "2299.99",
                                    "darabszám": "4"
                                },
                                {
                                    "Termék_ára": "5499.99",
                                    "darabszám": "4"
                                },
                                {
                                    "Termék_ára": "6499.99",
                                    "darabszám": "4"
                                },
                                {
                                    "Termék_ára": "4499.99",
                                    "darabszám": "4"
                                },
                                {
                                    "Termék_ára": "299.99",
                                    "darabszám": "4"
                                },
                                {
                                    "Termék_ára": "416.99",
                                    "darabszám": "4"
                                },
                                {
                                    "Termék_ára": "559.99",
                                    "darabszám": "4"
                                },
                                {
                                    "Termék_ára": "679.99",
                                    "darabszám": "4"
                                },
                                {
                                    "Termék_ára": "919.99",
                                    "darabszám": "4"
                                },
                                {
                                    "Termék_ára": "799.99",
                                    "darabszám": "3"
                                },
                                {
                                    "Termék_ára": "639.99",
                                    "darabszám": "3"
                                },
                                {
                                    "Termék_ára": "549.99",
                                    "darabszám": "3"
                                },
                                {
                                    "Termék_ára": "529.99",
                                    "darabszám": "3"
                                },
                                {
                                    "Termék_ára": "349.99",
                                    "darabszám": "3"
                                },
                                {
                                    "Termék_ára": "379.99",
                                    "darabszám": "3"
                                },
                                {
                                    "Termék_ára": "289.99",
                                    "darabszám": "3"
                                },
                                {
                                    "Termék_ára": "249.99",
                                    "darabszám": "3"
                                },
                                {
                                    "Termék_ára": "659.99",
                                    "darabszám": "3"
                                },
                                {
                                    "Termék_ára": "1999.99",
                                    "darabszám": "3"
                                },
                                {
                                    "Termék_ára": "2199.99",
                                    "darabszám": "2"
                                },
                                {
                                    "Termék_ára": "1899.00",
                                    "darabszám": "2"
                                },
                                {
                                    "Termék_ára": "1469.99",
                                    "darabszám": "2"
                                },
                                {
                                    "Termék_ára": "1549.99",
                                    "darabszám": "2"
                                },
                                {
                                    "Termék_ára": "5299.99",
                                    "darabszám": "2"
                                },
                                {
                                    "Termék_ára": "3999.99",
                                    "darabszám": "2"
                                },
                                {
                                    "Termék_ára": "2599.00",
                                    "darabszám": "2"
                                },
                                {
                                    "Termék_ára": "250.99",
                                    "darabszám": "2"
                                },
                                {
                                    "Termék_ára": "229.99",
                                    "darabszám": "2"
                                },
                                {
                                    "Termék_ára": "189.99",
                                    "darabszám": "2"
                                },
                                {
                                    "Termék_ára": "199.99",
                                    "darabszám": "2"
                                },
                                {
                                    "Termék_ára": "149.99",
                                    "darabszám": "2"
                                },
                                {
                                    "Termék_ára": "449.00",
                                    "darabszám": "2"
                                },
                                {
                                    "Termék_ára": "429.99",
                                    "darabszám": "2"
                                },
                                {
                                    "Termék_ára": "470.99",
                                    "darabszám": "2"
                                },
                                {
                                    "Termék_ára": "479.99",
                                    "darabszám": "2"
                                },
                                {
                                    "Termék_ára": "699.99",
                                    "darabszám": "2"
                                },
                                {
                                    "Termék_ára": "832.99",
                                    "darabszám": "2"
                                },
                                {
                                    "Termék_ára": "959.99",
                                    "darabszám": "2"
                                },
                                {
                                    "Termék_ára": "1099.99",
                                    "darabszám": "2"
                                },
                                {
                                    "Termék_ára": "1199.99",
                                    "darabszám": "1"
                                },
                                {
                                    "Termék_ára": "1259.90",
                                    "darabszám": "1"
                                },
                                {
                                    "Termék_ára": "1299.99",
                                    "darabszám": "1"
                                },
                                {
                                    "Termék_ára": "1320.99",
                                    "darabszám": "1"
                                },
                                {
                                    "Termék_ára": "1349.00",
                                    "darabszám": "1"
                                },
                                {
                                    "Termék_ára": "1409.99",
                                    "darabszám": "1"
                                },
                                {
                                    "Termék_ára": "909.99",
                                    "darabszám": "1"
                                },
                                {
                                    "Termék_ára": "849.99",
                                    "darabszám": "1"
                                },
                                {
                                    "Termék_ára": "869.99",
                                    "darabszám": "1"
                                },
                                {
                                    "Termék_ára": "875.99",
                                    "darabszám": "1"
                                },
                                {
                                    "Termék_ára": "761.99",
                                    "darabszám": "1"
                                },
                                {
                                    "Termék_ára": "647.99",
                                    "darabszám": "1"
                                },
                                {
                                    "Termék_ára": "619.99",
                                    "darabszám": "1"
                                },
                                {
                                    "Termék_ára": "533.99",
                                    "darabszám": "1"
                                },
                                {
                                    "Termék_ára": "539.99",
                                    "darabszám": "1"
                                },
                                {
                                    "Termék_ára": "499.99",
                                    "darabszám": "1"
                                },
                                {
                                    "Termék_ára": "551.99",
                                    "darabszám": "1"
                                },
                                {
                                    "Termék_ára": "579.99",
                                    "darabszám": "1"
                                },
                                {
                                    "Termék_ára": "481.99",
                                    "darabszám": "1"
                                },
                                {
                                    "Termék_ára": "439.99",
                                    "darabszám": "1"
                                },
                                {
                                    "Termék_ára": "389.99",
                                    "darabszám": "1"
                                },
                                {
                                    "Termék_ára": "399.99",
                                    "darabszám": "1"
                                },
                                {
                                    "Termék_ára": "402.99",
                                    "darabszám": "1"
                                },
                                {
                                    "Termék_ára": "429.00",
                                    "darabszám": "1"
                                },
                                {
                                    "Termék_ára": "159.99",
                                    "darabszám": "1"
                                },
                                {
                                    "Termék_ára": "89.99",
                                    "darabszám": "1"
                                },
                                {
                                    "Termék_ára": "109.99",
                                    "darabszám": "1"
                                },
                                {
                                    "Termék_ára": "329.99",
                                    "darabszám": "1"
                                },
                                {
                                    "Termék_ára": "339.99",
                                    "darabszám": "1"
                                },
                                {
                                    "Termék_ára": "346.99",
                                    "darabszám": "1"
                                },
                                {
                                    "Termék_ára": "2699.99",
                                    "darabszám": "1"
                                },
                                {
                                    "Termék_ára": "2899.99",
                                    "darabszám": "1"
                                },
                                {
                                    "Termék_ára": "3299.99",
                                    "darabszám": "1"
                                },
                                {
                                    "Termék_ára": "3599.99",
                                    "darabszám": "1"
                                },
                                {
                                    "Termék_ára": "3799.99",
                                    "darabszám": "1"
                                },
                                {
                                    "Termék_ára": "5999.99",
                                    "darabszám": "1"
                                },
                                {
                                    "Termék_ára": "1559.99",
                                    "darabszám": "1"
                                },
                                {
                                    "Termék_ára": "1599.99",
                                    "darabszám": "1"
                                },
                                {
                                    "Termék_ára": "1632.99",
                                    "darabszám": "1"
                                },
                                {
                                    "Termék_ára": "1680.99",
                                    "darabszám": "1"
                                },
                                {
                                    "Termék_ára": "1699.99",
                                    "darabszám": "1"
                                },
                                {
                                    "Termék_ára": "1499.00",
                                    "darabszám": "1"
                                },
                                {
                                    "Termék_ára": "2249.99",
                                    "darabszám": "1"
                                },
                                {
                                    "Termék_ára": "7499.99",
                                    "darabszám": "1"
                                },
                                {
                                    "Termék_ára": "11999.99",
                                    "darabszám": "1"
                                }
                            ]
                        },
                        "text/html": [
                            "<table>",
                            "<tr><th>Termék_ára</th><th>darabszám</th></tr>",
                            "<tr><td>749.99</td><td>18</td></tr>",
                            "<tr><td>899.99</td><td>13</td></tr>",
                            "<tr><td>319.99</td><td>13</td></tr>",
                            "<tr><td>3199.99</td><td>10</td></tr>",
                            "<tr><td>3499.99</td><td>8</td></tr>",
                            "<tr><td>2999.99</td><td>8</td></tr>",
                            "<tr><td>4999.99</td><td>8</td></tr>",
                            "<tr><td>469.99</td><td>8</td></tr>",
                            "<tr><td>269.99</td><td>7</td></tr>",
                            "<tr><td>2799.99</td><td>7</td></tr>",
                            "<tr><td>2499.99</td><td>7</td></tr>",
                            "<tr><td>2599.99</td><td>6</td></tr>",
                            "<tr><td>1499.99</td><td>6</td></tr>",
                            "<tr><td>279.99</td><td>6</td></tr>",
                            "<tr><td>209.99</td><td>6</td></tr>",
                            "<tr><td>369.99</td><td>6</td></tr>",
                            "<tr><td>999.99</td><td>6</td></tr>",
                            "<tr><td>599.99</td><td>6</td></tr>",
                            "<tr><td>489.99</td><td>6</td></tr>",
                            "<tr><td>449.99</td><td>5</td></tr>",
                            "<tr><td>1549.00</td><td>5</td></tr>",
                            "<tr><td>1799.99</td><td>5</td></tr>",
                            "<tr><td>2299.99</td><td>4</td></tr>",
                            "<tr><td>5499.99</td><td>4</td></tr>",
                            "<tr><td>6499.99</td><td>4</td></tr>",
                            "<tr><td>4499.99</td><td>4</td></tr>",
                            "<tr><td>299.99</td><td>4</td></tr>",
                            "<tr><td>416.99</td><td>4</td></tr>",
                            "<tr><td>559.99</td><td>4</td></tr>",
                            "<tr><td>679.99</td><td>4</td></tr>",
                            "<tr><td>919.99</td><td>4</td></tr>",
                            "<tr><td>799.99</td><td>3</td></tr>",
                            "<tr><td>639.99</td><td>3</td></tr>",
                            "<tr><td>549.99</td><td>3</td></tr>",
                            "<tr><td>529.99</td><td>3</td></tr>",
                            "<tr><td>349.99</td><td>3</td></tr>",
                            "<tr><td>379.99</td><td>3</td></tr>",
                            "<tr><td>289.99</td><td>3</td></tr>",
                            "<tr><td>249.99</td><td>3</td></tr>",
                            "<tr><td>659.99</td><td>3</td></tr>",
                            "<tr><td>1999.99</td><td>3</td></tr>",
                            "<tr><td>2199.99</td><td>2</td></tr>",
                            "<tr><td>1899.00</td><td>2</td></tr>",
                            "<tr><td>1469.99</td><td>2</td></tr>",
                            "<tr><td>1549.99</td><td>2</td></tr>",
                            "<tr><td>5299.99</td><td>2</td></tr>",
                            "<tr><td>3999.99</td><td>2</td></tr>",
                            "<tr><td>2599.00</td><td>2</td></tr>",
                            "<tr><td>250.99</td><td>2</td></tr>",
                            "<tr><td>229.99</td><td>2</td></tr>",
                            "<tr><td>189.99</td><td>2</td></tr>",
                            "<tr><td>199.99</td><td>2</td></tr>",
                            "<tr><td>149.99</td><td>2</td></tr>",
                            "<tr><td>449.00</td><td>2</td></tr>",
                            "<tr><td>429.99</td><td>2</td></tr>",
                            "<tr><td>470.99</td><td>2</td></tr>",
                            "<tr><td>479.99</td><td>2</td></tr>",
                            "<tr><td>699.99</td><td>2</td></tr>",
                            "<tr><td>832.99</td><td>2</td></tr>",
                            "<tr><td>959.99</td><td>2</td></tr>",
                            "<tr><td>1099.99</td><td>2</td></tr>",
                            "<tr><td>1199.99</td><td>1</td></tr>",
                            "<tr><td>1259.90</td><td>1</td></tr>",
                            "<tr><td>1299.99</td><td>1</td></tr>",
                            "<tr><td>1320.99</td><td>1</td></tr>",
                            "<tr><td>1349.00</td><td>1</td></tr>",
                            "<tr><td>1409.99</td><td>1</td></tr>",
                            "<tr><td>909.99</td><td>1</td></tr>",
                            "<tr><td>849.99</td><td>1</td></tr>",
                            "<tr><td>869.99</td><td>1</td></tr>",
                            "<tr><td>875.99</td><td>1</td></tr>",
                            "<tr><td>761.99</td><td>1</td></tr>",
                            "<tr><td>647.99</td><td>1</td></tr>",
                            "<tr><td>619.99</td><td>1</td></tr>",
                            "<tr><td>533.99</td><td>1</td></tr>",
                            "<tr><td>539.99</td><td>1</td></tr>",
                            "<tr><td>499.99</td><td>1</td></tr>",
                            "<tr><td>551.99</td><td>1</td></tr>",
                            "<tr><td>579.99</td><td>1</td></tr>",
                            "<tr><td>481.99</td><td>1</td></tr>",
                            "<tr><td>439.99</td><td>1</td></tr>",
                            "<tr><td>389.99</td><td>1</td></tr>",
                            "<tr><td>399.99</td><td>1</td></tr>",
                            "<tr><td>402.99</td><td>1</td></tr>",
                            "<tr><td>429.00</td><td>1</td></tr>",
                            "<tr><td>159.99</td><td>1</td></tr>",
                            "<tr><td>89.99</td><td>1</td></tr>",
                            "<tr><td>109.99</td><td>1</td></tr>",
                            "<tr><td>329.99</td><td>1</td></tr>",
                            "<tr><td>339.99</td><td>1</td></tr>",
                            "<tr><td>346.99</td><td>1</td></tr>",
                            "<tr><td>2699.99</td><td>1</td></tr>",
                            "<tr><td>2899.99</td><td>1</td></tr>",
                            "<tr><td>3299.99</td><td>1</td></tr>",
                            "<tr><td>3599.99</td><td>1</td></tr>",
                            "<tr><td>3799.99</td><td>1</td></tr>",
                            "<tr><td>5999.99</td><td>1</td></tr>",
                            "<tr><td>1559.99</td><td>1</td></tr>",
                            "<tr><td>1599.99</td><td>1</td></tr>",
                            "<tr><td>1632.99</td><td>1</td></tr>",
                            "<tr><td>1680.99</td><td>1</td></tr>",
                            "<tr><td>1699.99</td><td>1</td></tr>",
                            "<tr><td>1499.00</td><td>1</td></tr>",
                            "<tr><td>2249.99</td><td>1</td></tr>",
                            "<tr><td>7499.99</td><td>1</td></tr>",
                            "<tr><td>11999.99</td><td>1</td></tr>",
                            "</table>"
                        ]
                    }
                }
            ],
            "execution_count": 27
        },
        {
            "cell_type": "markdown",
            "source": [
                "A fenti lekérdezés alapján ábrázoltam azt, hogy az adott termékekből mennyit vásároltak az árak függvényében. Lásd diagramm2.png"
            ],
            "metadata": {
                "azdata_cell_guid": "f76b1d91-683e-405f-8310-b28963e3aa2c"
            },
            "attachments": {}
        }
    ]
}