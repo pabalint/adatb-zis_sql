{
    "metadata": {
        "kernelspec": {
            "name": "SQL",
            "display_name": "SQL",
            "language": "sql"
        },
        "language_info": {
            "name": "sql",
            "version": ""
        }
    },
    "nbformat_minor": 2,
    "nbformat": 4,
    "cells": [
        {
            "cell_type": "markdown",
            "source": [
                "A bike\\_store adatbázis products tábla model\\_year oszlopának adatprofilozása"
            ],
            "metadata": {
                "azdata_cell_guid": "008567ac-8961-4dbc-85eb-7c2287a83f02"
            },
            "attachments": {}
        },
        {
            "cell_type": "code",
            "source": [
                "SELECT sor_típus,\r\n",
                "    COUNT(*) darabszám\r\n",
                "FROM \r\n",
                "    (SELECT \r\n",
                "        CASE WHEN model_year IS NULL THEN 'Null'\r\n",
                "            ELSE 'Kitöltött' \r\n",
                "            END AS sor_típus\r\n",
                "        FROM products) rows\r\n",
                "GROUP BY sor_típus"
            ],
            "metadata": {
                "azdata_cell_guid": "a85ebe23-4984-40e1-b74a-87f0c6e72cf5",
                "language": "sql"
            },
            "outputs": [
                {
                    "output_type": "display_data",
                    "data": {
                        "text/html": "(1 row affected)"
                    },
                    "metadata": {}
                },
                {
                    "output_type": "display_data",
                    "data": {
                        "text/html": "Total execution time: 00:00:00.036"
                    },
                    "metadata": {}
                },
                {
                    "output_type": "execute_result",
                    "metadata": {},
                    "execution_count": 10,
                    "data": {
                        "application/vnd.dataresource+json": {
                            "schema": {
                                "fields": [
                                    {
                                        "name": "sor_típus"
                                    },
                                    {
                                        "name": "darabszám"
                                    }
                                ]
                            },
                            "data": [
                                {
                                    "sor_típus": "Kitöltött",
                                    "darabszám": "321"
                                }
                            ]
                        },
                        "text/html": [
                            "<table>",
                            "<tr><th>sor_típus</th><th>darabszám</th></tr>",
                            "<tr><td>Kitöltött</td><td>321</td></tr>",
                            "</table>"
                        ]
                    }
                }
            ],
            "execution_count": 10
        },
        {
            "cell_type": "code",
            "source": [
                "SELECT\r\n",
                "    model_year AS Kiadás_éve, \r\n",
                "    COUNT(*) darabszám\r\n",
                "from products\r\n",
                "WHERE model_year IS NOT null\r\n",
                "GROUP BY model_year\r\n",
                "ORDER BY COUNT(*) desc"
            ],
            "metadata": {
                "language": "sql",
                "azdata_cell_guid": "2e38980e-6a6e-4557-8b9d-f72bf9939328"
            },
            "outputs": [
                {
                    "output_type": "display_data",
                    "data": {
                        "text/html": "(4 rows affected)"
                    },
                    "metadata": {}
                },
                {
                    "output_type": "display_data",
                    "data": {
                        "text/html": "Total execution time: 00:00:00.074"
                    },
                    "metadata": {}
                },
                {
                    "output_type": "execute_result",
                    "metadata": {},
                    "execution_count": 13,
                    "data": {
                        "application/vnd.dataresource+json": {
                            "schema": {
                                "fields": [
                                    {
                                        "name": "Kiadás_éve"
                                    },
                                    {
                                        "name": "darabszám"
                                    }
                                ]
                            },
                            "data": [
                                {
                                    "Kiadás_éve": "2018",
                                    "darabszám": "204"
                                },
                                {
                                    "Kiadás_éve": "2017",
                                    "darabszám": "85"
                                },
                                {
                                    "Kiadás_éve": "2016",
                                    "darabszám": "26"
                                },
                                {
                                    "Kiadás_éve": "2019",
                                    "darabszám": "6"
                                }
                            ]
                        },
                        "text/html": [
                            "<table>",
                            "<tr><th>Kiadás_éve</th><th>darabszám</th></tr>",
                            "<tr><td>2018</td><td>204</td></tr>",
                            "<tr><td>2017</td><td>85</td></tr>",
                            "<tr><td>2016</td><td>26</td></tr>",
                            "<tr><td>2019</td><td>6</td></tr>",
                            "</table>"
                        ]
                    }
                }
            ],
            "execution_count": 13
        },
        {
            "cell_type": "code",
            "source": [
                "SELECT MIN(model_year) AS Legrégebbi_model, \r\n",
                "       MAX(model_year) AS Legújabb_model\r\n",
                "FROM products\r\n",
                "WHERE model_year IS NOT NULL"
            ],
            "metadata": {
                "language": "sql",
                "azdata_cell_guid": "92d202b7-41ce-4f30-b4e0-4daeb9b3062e",
                "tags": []
            },
            "outputs": [
                {
                    "output_type": "display_data",
                    "data": {
                        "text/html": "(1 row affected)"
                    },
                    "metadata": {}
                },
                {
                    "output_type": "display_data",
                    "data": {
                        "text/html": "Total execution time: 00:00:00.033"
                    },
                    "metadata": {}
                },
                {
                    "output_type": "execute_result",
                    "metadata": {},
                    "execution_count": 14,
                    "data": {
                        "application/vnd.dataresource+json": {
                            "schema": {
                                "fields": [
                                    {
                                        "name": "Legrégebbi_model"
                                    },
                                    {
                                        "name": "Legújabb_model"
                                    }
                                ]
                            },
                            "data": [
                                {
                                    "Legrégebbi_model": "2016",
                                    "Legújabb_model": "2019"
                                }
                            ]
                        },
                        "text/html": [
                            "<table>",
                            "<tr><th>Legrégebbi_model</th><th>Legújabb_model</th></tr>",
                            "<tr><td>2016</td><td>2019</td></tr>",
                            "</table>"
                        ]
                    }
                }
            ],
            "execution_count": 14
        },
        {
            "cell_type": "markdown",
            "source": [
                "A bike\\_store adatbázis products tábla list\\_price oszlopának adatprofilozása"
            ],
            "metadata": {
                "azdata_cell_guid": "87cdce34-40e5-414f-8ab1-f669984d96ca"
            },
            "attachments": {}
        },
        {
            "cell_type": "code",
            "source": [
                "SELECT MIN(list_price) AS Minimum_érték, \r\n",
                "       MAX(list_price) AS Maximum_érték, \r\n",
                "       AVG(list_price) AS Átlagos_érték, \r\n",
                "       STDEV(list_price) AS Szórás, \r\n",
                "       VAR(list_price) AS Variancia\r\n",
                "FROM products\r\n",
                "WHERE list_price IS NOT NULL"
            ],
            "metadata": {
                "azdata_cell_guid": "e957f23e-8b7c-4a01-9a9b-d207ade97b4e",
                "language": "sql"
            },
            "outputs": [
                {
                    "output_type": "display_data",
                    "data": {
                        "text/html": "(1 row affected)"
                    },
                    "metadata": {}
                },
                {
                    "output_type": "display_data",
                    "data": {
                        "text/html": "Total execution time: 00:00:00.034"
                    },
                    "metadata": {}
                },
                {
                    "output_type": "execute_result",
                    "metadata": {},
                    "execution_count": 16,
                    "data": {
                        "application/vnd.dataresource+json": {
                            "schema": {
                                "fields": [
                                    {
                                        "name": "Minimum_érték"
                                    },
                                    {
                                        "name": "Maximum_érték"
                                    },
                                    {
                                        "name": "Átlagos_érték"
                                    },
                                    {
                                        "name": "Szórás"
                                    },
                                    {
                                        "name": "Variancia"
                                    }
                                ]
                            },
                            "data": [
                                {
                                    "Minimum_érték": "89.99",
                                    "Maximum_érték": "11999.99",
                                    "Átlagos_érték": "1520.591401",
                                    "Szórás": "1612,1527653545156",
                                    "Variancia": "2599036,538840212"
                                }
                            ]
                        },
                        "text/html": [
                            "<table>",
                            "<tr><th>Minimum_érték</th><th>Maximum_érték</th><th>Átlagos_érték</th><th>Szórás</th><th>Variancia</th></tr>",
                            "<tr><td>89.99</td><td>11999.99</td><td>1520.591401</td><td>1612,1527653545156</td><td>2599036,538840212</td></tr>",
                            "</table>"
                        ]
                    }
                }
            ],
            "execution_count": 16
        },
        {
            "cell_type": "code",
            "source": [
                "DECLARE \r\n",
                "@avrg int = 1520.59;\r\n",
                "\r\n",
                "SELECT \r\n",
                "    SUM(CASE WHEN list_price < @avrg THEN 1 ELSE 0 end) AS átlagnál_olcsóbb,\r\n",
                "    SUM(CASE WHEN list_price > @avrg THEN 1 ELSE 0 end) AS átlagnál_drágább\r\n",
                "FROM products"
            ],
            "metadata": {
                "azdata_cell_guid": "69ee7c38-eace-4e2e-ba04-7fd27da6418a",
                "language": "sql"
            },
            "outputs": [
                {
                    "output_type": "display_data",
                    "data": {
                        "text/html": "(1 row affected)"
                    },
                    "metadata": {}
                },
                {
                    "output_type": "display_data",
                    "data": {
                        "text/html": "Total execution time: 00:00:00.040"
                    },
                    "metadata": {}
                },
                {
                    "output_type": "execute_result",
                    "metadata": {},
                    "execution_count": 24,
                    "data": {
                        "application/vnd.dataresource+json": {
                            "schema": {
                                "fields": [
                                    {
                                        "name": "átlagnál_olcsóbb"
                                    },
                                    {
                                        "name": "átlagnál_drágább"
                                    }
                                ]
                            },
                            "data": [
                                {
                                    "átlagnál_olcsóbb": "212",
                                    "átlagnál_drágább": "109"
                                }
                            ]
                        },
                        "text/html": [
                            "<table>",
                            "<tr><th>átlagnál_olcsóbb</th><th>átlagnál_drágább</th></tr>",
                            "<tr><td>212</td><td>109</td></tr>",
                            "</table>"
                        ]
                    }
                }
            ],
            "execution_count": 24
        },
        {
            "cell_type": "code",
            "source": [
                "SELECT\r\n",
                "    list_price AS Termék_ára, \r\n",
                "    COUNT(*) darabszám\r\n",
                "from products\r\n",
                "WHERE list_price IS NOT null\r\n",
                "GROUP BY list_price\r\n",
                "ORDER BY COUNT(*) desc"
            ],
            "metadata": {
                "azdata_cell_guid": "bcc1c385-75ad-49d0-afb2-850610789edd",
                "language": "sql"
            },
            "outputs": [
                {
                    "output_type": "display_data",
                    "data": {
                        "text/html": "(10 rows affected)"
                    },
                    "metadata": {}
                },
                {
                    "output_type": "display_data",
                    "data": {
                        "text/html": "Total execution time: 00:00:00.026"
                    },
                    "metadata": {}
                },
                {
                    "output_type": "execute_result",
                    "metadata": {},
                    "execution_count": 26,
                    "data": {
                        "application/vnd.dataresource+json": {
                            "schema": {
                                "fields": [
                                    {
                                        "name": "Termék_ára"
                                    },
                                    {
                                        "name": "darabszám"
                                    }
                                ]
                            },
                            "data": [
                                {
                                    "Termék_ára": "749.99",
                                    "darabszám": "18"
                                },
                                {
                                    "Termék_ára": "319.99",
                                    "darabszám": "13"
                                },
                                {
                                    "Termék_ára": "899.99",
                                    "darabszám": "13"
                                },
                                {
                                    "Termék_ára": "3199.99",
                                    "darabszám": "10"
                                },
                                {
                                    "Termék_ára": "469.99",
                                    "darabszám": "8"
                                },
                                {
                                    "Termék_ára": "2999.99",
                                    "darabszám": "8"
                                },
                                {
                                    "Termék_ára": "3499.99",
                                    "darabszám": "8"
                                },
                                {
                                    "Termék_ára": "4999.99",
                                    "darabszám": "8"
                                },
                                {
                                    "Termék_ára": "269.99",
                                    "darabszám": "7"
                                },
                                {
                                    "Termék_ára": "2499.99",
                                    "darabszám": "7"
                                }
                            ]
                        },
                        "text/html": [
                            "<table>",
                            "<tr><th>Termék_ára</th><th>darabszám</th></tr>",
                            "<tr><td>749.99</td><td>18</td></tr>",
                            "<tr><td>319.99</td><td>13</td></tr>",
                            "<tr><td>899.99</td><td>13</td></tr>",
                            "<tr><td>3199.99</td><td>10</td></tr>",
                            "<tr><td>469.99</td><td>8</td></tr>",
                            "<tr><td>2999.99</td><td>8</td></tr>",
                            "<tr><td>3499.99</td><td>8</td></tr>",
                            "<tr><td>4999.99</td><td>8</td></tr>",
                            "<tr><td>269.99</td><td>7</td></tr>",
                            "<tr><td>2499.99</td><td>7</td></tr>",
                            "</table>"
                        ]
                    }
                }
            ],
            "execution_count": 26
        }
    ]
}