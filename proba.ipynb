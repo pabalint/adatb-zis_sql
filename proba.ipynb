{
    "metadata": {
        "kernelspec": {
            "name": "SQL",
            "display_name": "SQL",
            "language": "sql"
        },
        "language_info": {
            "name": "sql",
            "version": ""
        }
    },
    "nbformat_minor": 2,
    "nbformat": 4,
    "cells": [
        {
            "cell_type": "code",
            "source": [
                "SELECT *"
            ],
            "metadata": {
                "azdata_cell_guid": "e7170095-2642-4fe0-9752-059fe2fe8456",
                "language": "sql"
            },
            "outputs": [],
            "execution_count": null
        }
    ]
}