{
    "metadata": {
        "kernelspec": {
            "name": "SQL",
            "display_name": "SQL",
            "language": "sql"
        },
        "language_info": {
            "name": "sql",
            "version": ""
        }
    },
    "nbformat_minor": 2,
    "nbformat": 4,
    "cells": [
        {
            "cell_type": "code",
            "source": [
                "SELECT *\r\n",
                "FROM Foglalas\r\n",
                "WHERE FOGLALAS_PK = 558"
            ],
            "metadata": {
                "azdata_cell_guid": "e7170095-2642-4fe0-9752-059fe2fe8456",
                "language": "sql"
            },
            "outputs": [
{
    "output_type": "display_data",
    "data": {
        "text/html": "(1 row affected)"
    },
    "metadata": {}
}, {
    "output_type": "display_data",
    "data": {
        "text/html": "Total execution time: 00:00:00.009"
    },
    "metadata": {}
}, {
    "output_type": "execute_result",
    "metadata": {},
    "execution_count": 3,
    "data": {
        "application/vnd.dataresource+json": {
            "schema": {
                "fields": [
                    {
                        "name": "FOGLALAS_PK"
                    },
                    {
                        "name": "UGYFEL_FK"
                    },
                    {
                        "name": "SZOBA_FK"
                    },
                    {
                        "name": "METTOL"
                    },
                    {
                        "name": "MEDDIG"
                    },
                    {
                        "name": "FELNOTT_SZAM"
                    },
                    {
                        "name": "GYERMEK_SZAM"
                    }
                ]
            },
            "data": [
                {
                    "FOGLALAS_PK": "558",
                    "UGYFEL_FK": "NANDORF",
                    "SZOBA_FK": "87",
                    "METTOL": "2016-04-06",
                    "MEDDIG": "2016-04-10",
                    "FELNOTT_SZAM": "2",
                    "GYERMEK_SZAM": "1"
                }
            ]
        },
        "text/html": [
            "<table>",
            "<tr><th>FOGLALAS_PK</th><th>UGYFEL_FK</th><th>SZOBA_FK</th><th>METTOL</th><th>MEDDIG</th><th>FELNOTT_SZAM</th><th>GYERMEK_SZAM</th></tr>",
            "<tr><td>558</td><td>NANDORF</td><td>87</td><td>2016-04-06</td><td>2016-04-10</td><td>2</td><td>1</td></tr>",
            "</table>"
        ]
    }
}
],
            "execution_count": 3
        }
    ]
}