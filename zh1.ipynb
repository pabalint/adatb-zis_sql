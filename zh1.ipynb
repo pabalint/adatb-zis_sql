{
    "metadata": {
        "kernelspec": {
            "name": "SQL",
            "display_name": "SQL",
            "language": "sql"
        },
        "language_info": {
            "name": "sql",
            "version": ""
        }
    },
    "nbformat_minor": 2,
    "nbformat": 4,
    "cells": [
        {
            "cell_type": "code",
            "source": [
                ""
            ],
            "metadata": {
                "azdata_cell_guid": "1d2ab232-ad9e-4f7b-b573-a6b0e022619d",
                "language": "sql"
            },
            "outputs": [],
            "execution_count": null
        }
    ]
}