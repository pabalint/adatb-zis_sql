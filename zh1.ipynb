{
    "metadata": {
        "kernelspec": {
            "name": "SQL",
            "display_name": "SQL",
            "language": "sql"
        },
        "language_info": {
            "name": "sql",
            "version": ""
        }
    },
    "nbformat_minor": 2,
    "nbformat": 4,
    "cells": [
        {
            "cell_type": "code",
            "source": [
                "SELECT f.FOGLALAS_PK AS 'Foglalás azonosító', f.METTOL AS 'Foglalás kezdete', DATEADD(month, 1, f.METTOL) AS 'Módosított kezdődátum'\r\n",
                "FROM Foglalas f JOIN Vendeg v ON f.UGYFEL_FK = v.USERNEV\r\n",
                "WHERE f.UGYFEL_FK = 'emese'"
            ],
            "metadata": {
                "azdata_cell_guid": "1d2ab232-ad9e-4f7b-b573-a6b0e022619d",
                "language": "sql"
            },
            "outputs": [
                {
                    "output_type": "display_data",
                    "data": {
                        "text/html": "(7 rows affected)"
                    },
                    "metadata": {}
                },
                {
                    "output_type": "display_data",
                    "data": {
                        "text/html": "Total execution time: 00:00:00.006"
                    },
                    "metadata": {}
                },
                {
                    "output_type": "execute_result",
                    "metadata": {},
                    "execution_count": 6,
                    "data": {
                        "application/vnd.dataresource+json": {
                            "schema": {
                                "fields": [
                                    {
                                        "name": "Foglalás azonosító"
                                    },
                                    {
                                        "name": "Foglalás kezdete"
                                    },
                                    {
                                        "name": "Módosított kezdődátum"
                                    }
                                ]
                            },
                            "data": [
                                {
                                    "Foglalás azonosító": "706",
                                    "Foglalás kezdete": "2016-07-22",
                                    "Módosított kezdődátum": "2016-08-22"
                                },
                                {
                                    "Foglalás azonosító": "765",
                                    "Foglalás kezdete": "2016-08-09",
                                    "Módosított kezdődátum": "2016-09-09"
                                },
                                {
                                    "Foglalás azonosító": "1083",
                                    "Foglalás kezdete": "2016-09-27",
                                    "Módosított kezdődátum": "2016-10-27"
                                },
                                {
                                    "Foglalás azonosító": "1250",
                                    "Foglalás kezdete": "2016-11-05",
                                    "Módosított kezdődátum": "2016-12-05"
                                },
                                {
                                    "Foglalás azonosító": "1313",
                                    "Foglalás kezdete": "2016-11-23",
                                    "Módosított kezdődátum": "2016-12-23"
                                },
                                {
                                    "Foglalás azonosító": "1354",
                                    "Foglalás kezdete": "2016-12-07",
                                    "Módosított kezdődátum": "2017-01-07"
                                },
                                {
                                    "Foglalás azonosító": "1484",
                                    "Foglalás kezdete": "2017-01-30",
                                    "Módosított kezdődátum": "2017-02-28"
                                }
                            ]
                        },
                        "text/html": [
                            "<table>",
                            "<tr><th>Foglalás azonosító</th><th>Foglalás kezdete</th><th>Módosított kezdődátum</th></tr>",
                            "<tr><td>706</td><td>2016-07-22</td><td>2016-08-22</td></tr>",
                            "<tr><td>765</td><td>2016-08-09</td><td>2016-09-09</td></tr>",
                            "<tr><td>1083</td><td>2016-09-27</td><td>2016-10-27</td></tr>",
                            "<tr><td>1250</td><td>2016-11-05</td><td>2016-12-05</td></tr>",
                            "<tr><td>1313</td><td>2016-11-23</td><td>2016-12-23</td></tr>",
                            "<tr><td>1354</td><td>2016-12-07</td><td>2017-01-07</td></tr>",
                            "<tr><td>1484</td><td>2017-01-30</td><td>2017-02-28</td></tr>",
                            "</table>"
                        ]
                    }
                }
            ],
            "execution_count": 6
        },
        {
            "cell_type": "code",
            "source": [
                "SELECT szh.SZALLAS_ID, szh.SZALLAS_NEV, count(*) AS 'Klímás szobák száma'\r\n",
                "FROM Szallashely szh JOIN Szoba sz ON szh.SZALLAS_ID = sz.SZALLAS_FK\r\n",
                "WHERE  sz.KLIMAS = 'i'\r\n",
                "GROUP BY szh.SZALLAS_ID, szh.SZALLAS_NEV"
            ],
            "metadata": {
                "azdata_cell_guid": "838f6724-19ee-42a8-afa2-3cbabb4f8285",
                "language": "sql"
            },
            "outputs": [
                {
                    "output_type": "display_data",
                    "data": {
                        "text/html": "(20 rows affected)"
                    },
                    "metadata": {}
                },
                {
                    "output_type": "display_data",
                    "data": {
                        "text/html": "Total execution time: 00:00:00.012"
                    },
                    "metadata": {}
                },
                {
                    "output_type": "execute_result",
                    "metadata": {},
                    "execution_count": 10,
                    "data": {
                        "application/vnd.dataresource+json": {
                            "schema": {
                                "fields": [
                                    {
                                        "name": "SZALLAS_ID"
                                    },
                                    {
                                        "name": "SZALLAS_NEV"
                                    },
                                    {
                                        "name": "Klímás szobák száma"
                                    }
                                ]
                            },
                            "data": [
                                {
                                    "SZALLAS_ID": "1",
                                    "SZALLAS_NEV": "Sába-Ház",
                                    "Klímás szobák száma": "10"
                                },
                                {
                                    "SZALLAS_ID": "2",
                                    "SZALLAS_NEV": "Családi Ház",
                                    "Klímás szobák száma": "4"
                                },
                                {
                                    "SZALLAS_ID": "3",
                                    "SZALLAS_NEV": "Fortuna Apartman",
                                    "Klímás szobák száma": "5"
                                },
                                {
                                    "SZALLAS_ID": "4",
                                    "SZALLAS_NEV": "Fortuna panzió",
                                    "Klímás szobák száma": "12"
                                },
                                {
                                    "SZALLAS_ID": "5",
                                    "SZALLAS_NEV": "Fortuna Panzió",
                                    "Klímás szobák száma": "8"
                                },
                                {
                                    "SZALLAS_ID": "6",
                                    "SZALLAS_NEV": "Kentaur Hotel",
                                    "Klímás szobák száma": "22"
                                },
                                {
                                    "SZALLAS_ID": "7",
                                    "SZALLAS_NEV": "Szieszta Apartmanház",
                                    "Klímás szobák száma": "4"
                                },
                                {
                                    "SZALLAS_ID": "8",
                                    "SZALLAS_NEV": "Hotel Három Hattyú",
                                    "Klímás szobák száma": "28"
                                },
                                {
                                    "SZALLAS_ID": "9",
                                    "SZALLAS_NEV": "Jáde panzió",
                                    "Klímás szobák száma": "2"
                                },
                                {
                                    "SZALLAS_ID": "10",
                                    "SZALLAS_NEV": "Lagúna Hotel",
                                    "Klímás szobák száma": "15"
                                },
                                {
                                    "SZALLAS_ID": "11",
                                    "SZALLAS_NEV": "Partiszél Vendégház",
                                    "Klímás szobák száma": "4"
                                },
                                {
                                    "SZALLAS_ID": "12",
                                    "SZALLAS_NEV": "Gold Hotel",
                                    "Klímás szobák száma": "42"
                                },
                                {
                                    "SZALLAS_ID": "13",
                                    "SZALLAS_NEV": "Riviéra Panzió",
                                    "Klímás szobák száma": "8"
                                },
                                {
                                    "SZALLAS_ID": "14",
                                    "SZALLAS_NEV": "Nyárfás Vendégház",
                                    "Klímás szobák száma": "4"
                                },
                                {
                                    "SZALLAS_ID": "15",
                                    "SZALLAS_NEV": "Tímárház Panzió",
                                    "Klímás szobák száma": "9"
                                },
                                {
                                    "SZALLAS_ID": "16",
                                    "SZALLAS_NEV": "Bagoly Hotel",
                                    "Klímás szobák száma": "14"
                                },
                                {
                                    "SZALLAS_ID": "17",
                                    "SZALLAS_NEV": "Szarvas Hotel",
                                    "Klímás szobák száma": "11"
                                },
                                {
                                    "SZALLAS_ID": "18",
                                    "SZALLAS_NEV": "Fortuna Apartman",
                                    "Klímás szobák száma": "2"
                                },
                                {
                                    "SZALLAS_ID": "19",
                                    "SZALLAS_NEV": "Nyárfás Vendégház",
                                    "Klímás szobák száma": "2"
                                },
                                {
                                    "SZALLAS_ID": "20",
                                    "SZALLAS_NEV": "Kollégium",
                                    "Klímás szobák száma": "9"
                                }
                            ]
                        },
                        "text/html": [
                            "<table>",
                            "<tr><th>SZALLAS_ID</th><th>SZALLAS_NEV</th><th>Klímás szobák száma</th></tr>",
                            "<tr><td>1</td><td>Sába-Ház</td><td>10</td></tr>",
                            "<tr><td>2</td><td>Családi Ház</td><td>4</td></tr>",
                            "<tr><td>3</td><td>Fortuna Apartman</td><td>5</td></tr>",
                            "<tr><td>4</td><td>Fortuna panzió</td><td>12</td></tr>",
                            "<tr><td>5</td><td>Fortuna Panzió</td><td>8</td></tr>",
                            "<tr><td>6</td><td>Kentaur Hotel</td><td>22</td></tr>",
                            "<tr><td>7</td><td>Szieszta Apartmanház</td><td>4</td></tr>",
                            "<tr><td>8</td><td>Hotel Három Hattyú</td><td>28</td></tr>",
                            "<tr><td>9</td><td>Jáde panzió</td><td>2</td></tr>",
                            "<tr><td>10</td><td>Lagúna Hotel</td><td>15</td></tr>",
                            "<tr><td>11</td><td>Partiszél Vendégház</td><td>4</td></tr>",
                            "<tr><td>12</td><td>Gold Hotel</td><td>42</td></tr>",
                            "<tr><td>13</td><td>Riviéra Panzió</td><td>8</td></tr>",
                            "<tr><td>14</td><td>Nyárfás Vendégház</td><td>4</td></tr>",
                            "<tr><td>15</td><td>Tímárház Panzió</td><td>9</td></tr>",
                            "<tr><td>16</td><td>Bagoly Hotel</td><td>14</td></tr>",
                            "<tr><td>17</td><td>Szarvas Hotel</td><td>11</td></tr>",
                            "<tr><td>18</td><td>Fortuna Apartman</td><td>2</td></tr>",
                            "<tr><td>19</td><td>Nyárfás Vendégház</td><td>2</td></tr>",
                            "<tr><td>20</td><td>Kollégium</td><td>9</td></tr>",
                            "</table>"
                        ]
                    }
                }
            ],
            "execution_count": 10
        },
        {
            "cell_type": "code",
            "source": [
                "SELECT sz.SZOBA_ID AS 'Szoba azonosítója', MONTH(f.METTOL) AS 'Kezdődátum_(hónap)', COUNT(*) AS 'Foglalások száma'\r\n",
                "FROM Szoba sz JOIN Foglalas f ON sz.SZOBA_ID = f.SZOBA_FK\r\n",
                "WHERE RIGHT(sz.SZOBA_ID, 1) not in (2,4,6,8)\r\n",
                "GROUP BY sz.SZOBA_ID, 'Kezdődátum_(hónap)'\r\n",
                "HAVING COUNT(*) > 10"
            ],
            "metadata": {
                "azdata_cell_guid": "34f47d90-c048-4a08-80d5-c933b0ccef7a",
                "language": "sql"
            },
            "outputs": [
                {
                    "output_type": "error",
                    "evalue": "Msg 164, Level 15, State 1, Line 4\r\nEach GROUP BY expression must contain at least one column that is not an outer reference.",
                    "ename": "",
                    "traceback": []
                },
                {
                    "output_type": "display_data",
                    "data": {
                        "text/html": "Total execution time: 00:00:00.002"
                    },
                    "metadata": {}
                }
            ],
            "execution_count": 23
        }
    ]
}