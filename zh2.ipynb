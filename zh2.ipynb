{
    "metadata": {
        "kernelspec": {
            "name": "SQL",
            "display_name": "SQL",
            "language": "sql"
        },
        "language_info": {
            "name": "sql",
            "version": ""
        }
    },
    "nbformat_minor": 2,
    "nbformat": 4,
    "cells": [
        {
            "cell_type": "markdown",
            "source": [
                "Listázzuk a foglalások számát szobánként, azon belül a foglalás éve szerint csoportosítva!\n",
                "\n",
                "- Az évnél a Mettől oszlopot használjuk\n",
                "- Jelenítsük meg a részösszegeket és a végösszeget is úgy, hogy ne jelenjen meg minden Oszlop/NULL kombináció!\n",
                "- A részösszegeket jelöljük megfelelően, pl. Részösszeg vagy Szoba összesen"
            ],
            "metadata": {
                "azdata_cell_guid": "11e7ed5a-e617-43f4-a497-a3e526de239b"
            },
            "attachments": {}
        },
        {
            "cell_type": "code",
            "source": [
                "SELECT IIF(GROUPING_ID(SZOBA_FK)=1, 'Összesen', CAST(SZOBA_FK AS NVARCHAR(10))) AS 'SzobaID',\r\n",
                "        IIF(GROUPING_ID(YEAR(METTOL))=1, 'Részösszeg', CAST(YEAR(METTOL) AS NVARCHAR(10))) AS 'ÉV', Count(*)\r\n",
                "FROM Foglalas\r\n",
                "GROUP BY ROLLUP(SZOBA_FK, YEAR(METTOL))"
            ],
            "metadata": {
                "azdata_cell_guid": "32fb0b28-7360-4ab3-8133-9d0bf4be884d",
                "language": "sql"
            },
            "outputs": [
                {
                    "output_type": "display_data",
                    "data": {
                        "text/html": "(513 rows affected)"
                    },
                    "metadata": {}
                },
                {
                    "output_type": "display_data",
                    "data": {
                        "text/html": "Total execution time: 00:00:00.033"
                    },
                    "metadata": {}
                },
                {
                    "output_type": "execute_result",
                    "metadata": {},
                    "execution_count": 6,
                    "data": {
                        "application/vnd.dataresource+json": {
                            "schema": {
                                "fields": [
                                    {
                                        "name": "SzobaID"
                                    },
                                    {
                                        "name": "ÉV"
                                    },
                                    {
                                        "name": "(No column name)"
                                    }
                                ]
                            },
                            "data": [
                                {
                                    "SzobaID": "1",
                                    "ÉV": "2016",
                                    "(No column name)": "8"
                                },
                                {
                                    "SzobaID": "1",
                                    "ÉV": "Részösszeg",
                                    "(No column name)": "8"
                                },
                                {
                                    "SzobaID": "2",
                                    "ÉV": "2016",
                                    "(No column name)": "4"
                                },
                                {
                                    "SzobaID": "2",
                                    "ÉV": "Részösszeg",
                                    "(No column name)": "4"
                                },
                                {
                                    "SzobaID": "3",
                                    "ÉV": "2016",
                                    "(No column name)": "6"
                                },
                                {
                                    "SzobaID": "3",
                                    "ÉV": "2017",
                                    "(No column name)": "2"
                                },
                                {
                                    "SzobaID": "3",
                                    "ÉV": "Részösszeg",
                                    "(No column name)": "8"
                                },
                                {
                                    "SzobaID": "4",
                                    "ÉV": "2016",
                                    "(No column name)": "5"
                                },
                                {
                                    "SzobaID": "4",
                                    "ÉV": "2017",
                                    "(No column name)": "1"
                                },
                                {
                                    "SzobaID": "4",
                                    "ÉV": "Részösszeg",
                                    "(No column name)": "6"
                                },
                                {
                                    "SzobaID": "5",
                                    "ÉV": "2016",
                                    "(No column name)": "4"
                                },
                                {
                                    "SzobaID": "5",
                                    "ÉV": "Részösszeg",
                                    "(No column name)": "4"
                                },
                                {
                                    "SzobaID": "6",
                                    "ÉV": "2016",
                                    "(No column name)": "6"
                                },
                                {
                                    "SzobaID": "6",
                                    "ÉV": "Részösszeg",
                                    "(No column name)": "6"
                                },
                                {
                                    "SzobaID": "7",
                                    "ÉV": "2016",
                                    "(No column name)": "6"
                                },
                                {
                                    "SzobaID": "7",
                                    "ÉV": "Részösszeg",
                                    "(No column name)": "6"
                                },
                                {
                                    "SzobaID": "8",
                                    "ÉV": "2016",
                                    "(No column name)": "5"
                                },
                                {
                                    "SzobaID": "8",
                                    "ÉV": "Részösszeg",
                                    "(No column name)": "5"
                                },
                                {
                                    "SzobaID": "9",
                                    "ÉV": "2016",
                                    "(No column name)": "4"
                                },
                                {
                                    "SzobaID": "9",
                                    "ÉV": "2017",
                                    "(No column name)": "2"
                                },
                                {
                                    "SzobaID": "9",
                                    "ÉV": "Részösszeg",
                                    "(No column name)": "6"
                                },
                                {
                                    "SzobaID": "10",
                                    "ÉV": "2016",
                                    "(No column name)": "4"
                                },
                                {
                                    "SzobaID": "10",
                                    "ÉV": "Részösszeg",
                                    "(No column name)": "4"
                                },
                                {
                                    "SzobaID": "11",
                                    "ÉV": "2016",
                                    "(No column name)": "3"
                                },
                                {
                                    "SzobaID": "11",
                                    "ÉV": "2017",
                                    "(No column name)": "1"
                                },
                                {
                                    "SzobaID": "11",
                                    "ÉV": "Részösszeg",
                                    "(No column name)": "4"
                                },
                                {
                                    "SzobaID": "12",
                                    "ÉV": "2016",
                                    "(No column name)": "8"
                                },
                                {
                                    "SzobaID": "12",
                                    "ÉV": "2017",
                                    "(No column name)": "1"
                                },
                                {
                                    "SzobaID": "12",
                                    "ÉV": "Részösszeg",
                                    "(No column name)": "9"
                                },
                                {
                                    "SzobaID": "13",
                                    "ÉV": "2016",
                                    "(No column name)": "3"
                                },
                                {
                                    "SzobaID": "13",
                                    "ÉV": "2017",
                                    "(No column name)": "1"
                                },
                                {
                                    "SzobaID": "13",
                                    "ÉV": "Részösszeg",
                                    "(No column name)": "4"
                                },
                                {
                                    "SzobaID": "14",
                                    "ÉV": "2016",
                                    "(No column name)": "2"
                                },
                                {
                                    "SzobaID": "14",
                                    "ÉV": "2017",
                                    "(No column name)": "1"
                                },
                                {
                                    "SzobaID": "14",
                                    "ÉV": "Részösszeg",
                                    "(No column name)": "3"
                                },
                                {
                                    "SzobaID": "15",
                                    "ÉV": "2016",
                                    "(No column name)": "4"
                                },
                                {
                                    "SzobaID": "15",
                                    "ÉV": "2017",
                                    "(No column name)": "2"
                                },
                                {
                                    "SzobaID": "15",
                                    "ÉV": "Részösszeg",
                                    "(No column name)": "6"
                                },
                                {
                                    "SzobaID": "16",
                                    "ÉV": "2016",
                                    "(No column name)": "4"
                                },
                                {
                                    "SzobaID": "16",
                                    "ÉV": "2017",
                                    "(No column name)": "1"
                                },
                                {
                                    "SzobaID": "16",
                                    "ÉV": "Részösszeg",
                                    "(No column name)": "5"
                                },
                                {
                                    "SzobaID": "17",
                                    "ÉV": "2016",
                                    "(No column name)": "5"
                                },
                                {
                                    "SzobaID": "17",
                                    "ÉV": "2017",
                                    "(No column name)": "1"
                                },
                                {
                                    "SzobaID": "17",
                                    "ÉV": "Részösszeg",
                                    "(No column name)": "6"
                                },
                                {
                                    "SzobaID": "18",
                                    "ÉV": "2016",
                                    "(No column name)": "5"
                                },
                                {
                                    "SzobaID": "18",
                                    "ÉV": "2017",
                                    "(No column name)": "1"
                                },
                                {
                                    "SzobaID": "18",
                                    "ÉV": "Részösszeg",
                                    "(No column name)": "6"
                                },
                                {
                                    "SzobaID": "19",
                                    "ÉV": "2016",
                                    "(No column name)": "5"
                                },
                                {
                                    "SzobaID": "19",
                                    "ÉV": "2017",
                                    "(No column name)": "1"
                                },
                                {
                                    "SzobaID": "19",
                                    "ÉV": "Részösszeg",
                                    "(No column name)": "6"
                                },
                                {
                                    "SzobaID": "20",
                                    "ÉV": "2016",
                                    "(No column name)": "5"
                                },
                                {
                                    "SzobaID": "20",
                                    "ÉV": "Részösszeg",
                                    "(No column name)": "5"
                                },
                                {
                                    "SzobaID": "21",
                                    "ÉV": "2016",
                                    "(No column name)": "4"
                                },
                                {
                                    "SzobaID": "21",
                                    "ÉV": "Részösszeg",
                                    "(No column name)": "4"
                                },
                                {
                                    "SzobaID": "22",
                                    "ÉV": "2016",
                                    "(No column name)": "6"
                                },
                                {
                                    "SzobaID": "22",
                                    "ÉV": "Részösszeg",
                                    "(No column name)": "6"
                                },
                                {
                                    "SzobaID": "23",
                                    "ÉV": "2016",
                                    "(No column name)": "3"
                                },
                                {
                                    "SzobaID": "23",
                                    "ÉV": "Részösszeg",
                                    "(No column name)": "3"
                                },
                                {
                                    "SzobaID": "24",
                                    "ÉV": "2016",
                                    "(No column name)": "2"
                                },
                                {
                                    "SzobaID": "24",
                                    "ÉV": "2017",
                                    "(No column name)": "1"
                                },
                                {
                                    "SzobaID": "24",
                                    "ÉV": "Részösszeg",
                                    "(No column name)": "3"
                                },
                                {
                                    "SzobaID": "25",
                                    "ÉV": "2016",
                                    "(No column name)": "2"
                                },
                                {
                                    "SzobaID": "25",
                                    "ÉV": "Részösszeg",
                                    "(No column name)": "2"
                                },
                                {
                                    "SzobaID": "26",
                                    "ÉV": "2016",
                                    "(No column name)": "2"
                                },
                                {
                                    "SzobaID": "26",
                                    "ÉV": "Részösszeg",
                                    "(No column name)": "2"
                                },
                                {
                                    "SzobaID": "27",
                                    "ÉV": "2016",
                                    "(No column name)": "6"
                                },
                                {
                                    "SzobaID": "27",
                                    "ÉV": "2017",
                                    "(No column name)": "1"
                                },
                                {
                                    "SzobaID": "27",
                                    "ÉV": "Részösszeg",
                                    "(No column name)": "7"
                                },
                                {
                                    "SzobaID": "28",
                                    "ÉV": "2016",
                                    "(No column name)": "5"
                                },
                                {
                                    "SzobaID": "28",
                                    "ÉV": "2017",
                                    "(No column name)": "1"
                                },
                                {
                                    "SzobaID": "28",
                                    "ÉV": "Részösszeg",
                                    "(No column name)": "6"
                                },
                                {
                                    "SzobaID": "29",
                                    "ÉV": "2016",
                                    "(No column name)": "5"
                                },
                                {
                                    "SzobaID": "29",
                                    "ÉV": "2017",
                                    "(No column name)": "1"
                                },
                                {
                                    "SzobaID": "29",
                                    "ÉV": "Részösszeg",
                                    "(No column name)": "6"
                                },
                                {
                                    "SzobaID": "30",
                                    "ÉV": "2016",
                                    "(No column name)": "3"
                                },
                                {
                                    "SzobaID": "30",
                                    "ÉV": "Részösszeg",
                                    "(No column name)": "3"
                                },
                                {
                                    "SzobaID": "31",
                                    "ÉV": "2016",
                                    "(No column name)": "3"
                                },
                                {
                                    "SzobaID": "31",
                                    "ÉV": "Részösszeg",
                                    "(No column name)": "3"
                                },
                                {
                                    "SzobaID": "32",
                                    "ÉV": "2016",
                                    "(No column name)": "1"
                                },
                                {
                                    "SzobaID": "32",
                                    "ÉV": "Részösszeg",
                                    "(No column name)": "1"
                                },
                                {
                                    "SzobaID": "33",
                                    "ÉV": "2016",
                                    "(No column name)": "6"
                                },
                                {
                                    "SzobaID": "33",
                                    "ÉV": "Részösszeg",
                                    "(No column name)": "6"
                                },
                                {
                                    "SzobaID": "34",
                                    "ÉV": "2016",
                                    "(No column name)": "4"
                                },
                                {
                                    "SzobaID": "34",
                                    "ÉV": "Részösszeg",
                                    "(No column name)": "4"
                                },
                                {
                                    "SzobaID": "35",
                                    "ÉV": "2016",
                                    "(No column name)": "6"
                                },
                                {
                                    "SzobaID": "35",
                                    "ÉV": "2017",
                                    "(No column name)": "3"
                                },
                                {
                                    "SzobaID": "35",
                                    "ÉV": "Részösszeg",
                                    "(No column name)": "9"
                                },
                                {
                                    "SzobaID": "36",
                                    "ÉV": "2016",
                                    "(No column name)": "6"
                                },
                                {
                                    "SzobaID": "36",
                                    "ÉV": "Részösszeg",
                                    "(No column name)": "6"
                                },
                                {
                                    "SzobaID": "37",
                                    "ÉV": "2016",
                                    "(No column name)": "3"
                                },
                                {
                                    "SzobaID": "37",
                                    "ÉV": "Részösszeg",
                                    "(No column name)": "3"
                                },
                                {
                                    "SzobaID": "38",
                                    "ÉV": "2016",
                                    "(No column name)": "5"
                                },
                                {
                                    "SzobaID": "38",
                                    "ÉV": "2017",
                                    "(No column name)": "3"
                                },
                                {
                                    "SzobaID": "38",
                                    "ÉV": "Részösszeg",
                                    "(No column name)": "8"
                                },
                                {
                                    "SzobaID": "39",
                                    "ÉV": "2016",
                                    "(No column name)": "4"
                                },
                                {
                                    "SzobaID": "39",
                                    "ÉV": "2017",
                                    "(No column name)": "3"
                                },
                                {
                                    "SzobaID": "39",
                                    "ÉV": "Részösszeg",
                                    "(No column name)": "7"
                                },
                                {
                                    "SzobaID": "40",
                                    "ÉV": "2016",
                                    "(No column name)": "4"
                                },
                                {
                                    "SzobaID": "40",
                                    "ÉV": "Részösszeg",
                                    "(No column name)": "4"
                                },
                                {
                                    "SzobaID": "41",
                                    "ÉV": "2016",
                                    "(No column name)": "2"
                                },
                                {
                                    "SzobaID": "41",
                                    "ÉV": "Részösszeg",
                                    "(No column name)": "2"
                                },
                                {
                                    "SzobaID": "42",
                                    "ÉV": "2016",
                                    "(No column name)": "5"
                                },
                                {
                                    "SzobaID": "42",
                                    "ÉV": "2017",
                                    "(No column name)": "1"
                                },
                                {
                                    "SzobaID": "42",
                                    "ÉV": "Részösszeg",
                                    "(No column name)": "6"
                                },
                                {
                                    "SzobaID": "43",
                                    "ÉV": "2016",
                                    "(No column name)": "6"
                                },
                                {
                                    "SzobaID": "43",
                                    "ÉV": "2017",
                                    "(No column name)": "2"
                                },
                                {
                                    "SzobaID": "43",
                                    "ÉV": "Részösszeg",
                                    "(No column name)": "8"
                                },
                                {
                                    "SzobaID": "44",
                                    "ÉV": "2016",
                                    "(No column name)": "4"
                                },
                                {
                                    "SzobaID": "44",
                                    "ÉV": "2017",
                                    "(No column name)": "2"
                                },
                                {
                                    "SzobaID": "44",
                                    "ÉV": "Részösszeg",
                                    "(No column name)": "6"
                                },
                                {
                                    "SzobaID": "45",
                                    "ÉV": "2016",
                                    "(No column name)": "5"
                                },
                                {
                                    "SzobaID": "45",
                                    "ÉV": "Részösszeg",
                                    "(No column name)": "5"
                                },
                                {
                                    "SzobaID": "46",
                                    "ÉV": "2016",
                                    "(No column name)": "3"
                                },
                                {
                                    "SzobaID": "46",
                                    "ÉV": "2017",
                                    "(No column name)": "1"
                                },
                                {
                                    "SzobaID": "46",
                                    "ÉV": "Részösszeg",
                                    "(No column name)": "4"
                                },
                                {
                                    "SzobaID": "47",
                                    "ÉV": "2016",
                                    "(No column name)": "2"
                                },
                                {
                                    "SzobaID": "47",
                                    "ÉV": "Részösszeg",
                                    "(No column name)": "2"
                                },
                                {
                                    "SzobaID": "48",
                                    "ÉV": "2016",
                                    "(No column name)": "6"
                                },
                                {
                                    "SzobaID": "48",
                                    "ÉV": "2017",
                                    "(No column name)": "3"
                                },
                                {
                                    "SzobaID": "48",
                                    "ÉV": "Részösszeg",
                                    "(No column name)": "9"
                                },
                                {
                                    "SzobaID": "49",
                                    "ÉV": "2016",
                                    "(No column name)": "6"
                                },
                                {
                                    "SzobaID": "49",
                                    "ÉV": "2017",
                                    "(No column name)": "1"
                                },
                                {
                                    "SzobaID": "49",
                                    "ÉV": "Részösszeg",
                                    "(No column name)": "7"
                                },
                                {
                                    "SzobaID": "50",
                                    "ÉV": "2016",
                                    "(No column name)": "4"
                                },
                                {
                                    "SzobaID": "50",
                                    "ÉV": "Részösszeg",
                                    "(No column name)": "4"
                                },
                                {
                                    "SzobaID": "51",
                                    "ÉV": "2016",
                                    "(No column name)": "3"
                                },
                                {
                                    "SzobaID": "51",
                                    "ÉV": "2017",
                                    "(No column name)": "2"
                                },
                                {
                                    "SzobaID": "51",
                                    "ÉV": "Részösszeg",
                                    "(No column name)": "5"
                                },
                                {
                                    "SzobaID": "52",
                                    "ÉV": "2016",
                                    "(No column name)": "3"
                                },
                                {
                                    "SzobaID": "52",
                                    "ÉV": "2017",
                                    "(No column name)": "2"
                                },
                                {
                                    "SzobaID": "52",
                                    "ÉV": "Részösszeg",
                                    "(No column name)": "5"
                                },
                                {
                                    "SzobaID": "53",
                                    "ÉV": "2016",
                                    "(No column name)": "2"
                                },
                                {
                                    "SzobaID": "53",
                                    "ÉV": "Részösszeg",
                                    "(No column name)": "2"
                                },
                                {
                                    "SzobaID": "54",
                                    "ÉV": "2016",
                                    "(No column name)": "6"
                                },
                                {
                                    "SzobaID": "54",
                                    "ÉV": "Részösszeg",
                                    "(No column name)": "6"
                                },
                                {
                                    "SzobaID": "55",
                                    "ÉV": "2016",
                                    "(No column name)": "6"
                                },
                                {
                                    "SzobaID": "55",
                                    "ÉV": "2017",
                                    "(No column name)": "2"
                                },
                                {
                                    "SzobaID": "55",
                                    "ÉV": "Részösszeg",
                                    "(No column name)": "8"
                                },
                                {
                                    "SzobaID": "56",
                                    "ÉV": "2016",
                                    "(No column name)": "2"
                                },
                                {
                                    "SzobaID": "56",
                                    "ÉV": "Részösszeg",
                                    "(No column name)": "2"
                                },
                                {
                                    "SzobaID": "57",
                                    "ÉV": "2016",
                                    "(No column name)": "2"
                                },
                                {
                                    "SzobaID": "57",
                                    "ÉV": "2017",
                                    "(No column name)": "2"
                                },
                                {
                                    "SzobaID": "57",
                                    "ÉV": "Részösszeg",
                                    "(No column name)": "4"
                                },
                                {
                                    "SzobaID": "58",
                                    "ÉV": "2016",
                                    "(No column name)": "12"
                                },
                                {
                                    "SzobaID": "58",
                                    "ÉV": "2017",
                                    "(No column name)": "1"
                                },
                                {
                                    "SzobaID": "58",
                                    "ÉV": "Részösszeg",
                                    "(No column name)": "13"
                                },
                                {
                                    "SzobaID": "59",
                                    "ÉV": "2016",
                                    "(No column name)": "6"
                                },
                                {
                                    "SzobaID": "59",
                                    "ÉV": "2017",
                                    "(No column name)": "1"
                                },
                                {
                                    "SzobaID": "59",
                                    "ÉV": "Részösszeg",
                                    "(No column name)": "7"
                                },
                                {
                                    "SzobaID": "60",
                                    "ÉV": "2016",
                                    "(No column name)": "1"
                                },
                                {
                                    "SzobaID": "60",
                                    "ÉV": "Részösszeg",
                                    "(No column name)": "1"
                                },
                                {
                                    "SzobaID": "61",
                                    "ÉV": "2016",
                                    "(No column name)": "4"
                                },
                                {
                                    "SzobaID": "61",
                                    "ÉV": "2017",
                                    "(No column name)": "1"
                                },
                                {
                                    "SzobaID": "61",
                                    "ÉV": "Részösszeg",
                                    "(No column name)": "5"
                                },
                                {
                                    "SzobaID": "62",
                                    "ÉV": "2016",
                                    "(No column name)": "4"
                                },
                                {
                                    "SzobaID": "62",
                                    "ÉV": "2017",
                                    "(No column name)": "1"
                                },
                                {
                                    "SzobaID": "62",
                                    "ÉV": "Részösszeg",
                                    "(No column name)": "5"
                                },
                                {
                                    "SzobaID": "63",
                                    "ÉV": "2016",
                                    "(No column name)": "4"
                                },
                                {
                                    "SzobaID": "63",
                                    "ÉV": "Részösszeg",
                                    "(No column name)": "4"
                                },
                                {
                                    "SzobaID": "64",
                                    "ÉV": "2016",
                                    "(No column name)": "3"
                                },
                                {
                                    "SzobaID": "64",
                                    "ÉV": "2017",
                                    "(No column name)": "3"
                                },
                                {
                                    "SzobaID": "64",
                                    "ÉV": "Részösszeg",
                                    "(No column name)": "6"
                                },
                                {
                                    "SzobaID": "65",
                                    "ÉV": "2016",
                                    "(No column name)": "1"
                                },
                                {
                                    "SzobaID": "65",
                                    "ÉV": "Részösszeg",
                                    "(No column name)": "1"
                                },
                                {
                                    "SzobaID": "66",
                                    "ÉV": "2016",
                                    "(No column name)": "4"
                                },
                                {
                                    "SzobaID": "66",
                                    "ÉV": "Részösszeg",
                                    "(No column name)": "4"
                                },
                                {
                                    "SzobaID": "67",
                                    "ÉV": "2016",
                                    "(No column name)": "4"
                                },
                                {
                                    "SzobaID": "67",
                                    "ÉV": "2017",
                                    "(No column name)": "2"
                                },
                                {
                                    "SzobaID": "67",
                                    "ÉV": "Részösszeg",
                                    "(No column name)": "6"
                                },
                                {
                                    "SzobaID": "68",
                                    "ÉV": "2016",
                                    "(No column name)": "3"
                                },
                                {
                                    "SzobaID": "68",
                                    "ÉV": "Részösszeg",
                                    "(No column name)": "3"
                                },
                                {
                                    "SzobaID": "69",
                                    "ÉV": "2016",
                                    "(No column name)": "4"
                                },
                                {
                                    "SzobaID": "69",
                                    "ÉV": "Részösszeg",
                                    "(No column name)": "4"
                                },
                                {
                                    "SzobaID": "70",
                                    "ÉV": "2016",
                                    "(No column name)": "10"
                                },
                                {
                                    "SzobaID": "70",
                                    "ÉV": "2017",
                                    "(No column name)": "1"
                                },
                                {
                                    "SzobaID": "70",
                                    "ÉV": "Részösszeg",
                                    "(No column name)": "11"
                                },
                                {
                                    "SzobaID": "71",
                                    "ÉV": "2016",
                                    "(No column name)": "3"
                                },
                                {
                                    "SzobaID": "71",
                                    "ÉV": "Részösszeg",
                                    "(No column name)": "3"
                                },
                                {
                                    "SzobaID": "72",
                                    "ÉV": "2016",
                                    "(No column name)": "4"
                                },
                                {
                                    "SzobaID": "72",
                                    "ÉV": "Részösszeg",
                                    "(No column name)": "4"
                                },
                                {
                                    "SzobaID": "73",
                                    "ÉV": "2016",
                                    "(No column name)": "4"
                                },
                                {
                                    "SzobaID": "73",
                                    "ÉV": "Részösszeg",
                                    "(No column name)": "4"
                                },
                                {
                                    "SzobaID": "74",
                                    "ÉV": "2016",
                                    "(No column name)": "9"
                                },
                                {
                                    "SzobaID": "74",
                                    "ÉV": "Részösszeg",
                                    "(No column name)": "9"
                                },
                                {
                                    "SzobaID": "75",
                                    "ÉV": "2016",
                                    "(No column name)": "1"
                                },
                                {
                                    "SzobaID": "75",
                                    "ÉV": "2017",
                                    "(No column name)": "2"
                                },
                                {
                                    "SzobaID": "75",
                                    "ÉV": "Részösszeg",
                                    "(No column name)": "3"
                                },
                                {
                                    "SzobaID": "76",
                                    "ÉV": "2016",
                                    "(No column name)": "2"
                                },
                                {
                                    "SzobaID": "76",
                                    "ÉV": "2017",
                                    "(No column name)": "1"
                                },
                                {
                                    "SzobaID": "76",
                                    "ÉV": "Részösszeg",
                                    "(No column name)": "3"
                                },
                                {
                                    "SzobaID": "77",
                                    "ÉV": "2016",
                                    "(No column name)": "4"
                                },
                                {
                                    "SzobaID": "77",
                                    "ÉV": "2017",
                                    "(No column name)": "2"
                                },
                                {
                                    "SzobaID": "77",
                                    "ÉV": "Részösszeg",
                                    "(No column name)": "6"
                                },
                                {
                                    "SzobaID": "78",
                                    "ÉV": "2016",
                                    "(No column name)": "5"
                                },
                                {
                                    "SzobaID": "78",
                                    "ÉV": "2017",
                                    "(No column name)": "1"
                                },
                                {
                                    "SzobaID": "78",
                                    "ÉV": "Részösszeg",
                                    "(No column name)": "6"
                                },
                                {
                                    "SzobaID": "79",
                                    "ÉV": "2016",
                                    "(No column name)": "4"
                                },
                                {
                                    "SzobaID": "79",
                                    "ÉV": "2017",
                                    "(No column name)": "1"
                                },
                                {
                                    "SzobaID": "79",
                                    "ÉV": "Részösszeg",
                                    "(No column name)": "5"
                                },
                                {
                                    "SzobaID": "80",
                                    "ÉV": "2016",
                                    "(No column name)": "7"
                                },
                                {
                                    "SzobaID": "80",
                                    "ÉV": "Részösszeg",
                                    "(No column name)": "7"
                                },
                                {
                                    "SzobaID": "81",
                                    "ÉV": "2016",
                                    "(No column name)": "1"
                                },
                                {
                                    "SzobaID": "81",
                                    "ÉV": "2017",
                                    "(No column name)": "4"
                                },
                                {
                                    "SzobaID": "81",
                                    "ÉV": "Részösszeg",
                                    "(No column name)": "5"
                                },
                                {
                                    "SzobaID": "82",
                                    "ÉV": "2016",
                                    "(No column name)": "6"
                                },
                                {
                                    "SzobaID": "82",
                                    "ÉV": "Részösszeg",
                                    "(No column name)": "6"
                                },
                                {
                                    "SzobaID": "83",
                                    "ÉV": "2016",
                                    "(No column name)": "8"
                                },
                                {
                                    "SzobaID": "83",
                                    "ÉV": "Részösszeg",
                                    "(No column name)": "8"
                                },
                                {
                                    "SzobaID": "84",
                                    "ÉV": "2016",
                                    "(No column name)": "4"
                                },
                                {
                                    "SzobaID": "84",
                                    "ÉV": "Részösszeg",
                                    "(No column name)": "4"
                                },
                                {
                                    "SzobaID": "85",
                                    "ÉV": "2016",
                                    "(No column name)": "3"
                                },
                                {
                                    "SzobaID": "85",
                                    "ÉV": "2017",
                                    "(No column name)": "1"
                                },
                                {
                                    "SzobaID": "85",
                                    "ÉV": "Részösszeg",
                                    "(No column name)": "4"
                                },
                                {
                                    "SzobaID": "86",
                                    "ÉV": "2016",
                                    "(No column name)": "4"
                                },
                                {
                                    "SzobaID": "86",
                                    "ÉV": "2017",
                                    "(No column name)": "1"
                                },
                                {
                                    "SzobaID": "86",
                                    "ÉV": "Részösszeg",
                                    "(No column name)": "5"
                                },
                                {
                                    "SzobaID": "87",
                                    "ÉV": "2016",
                                    "(No column name)": "4"
                                },
                                {
                                    "SzobaID": "87",
                                    "ÉV": "2017",
                                    "(No column name)": "1"
                                },
                                {
                                    "SzobaID": "87",
                                    "ÉV": "Részösszeg",
                                    "(No column name)": "5"
                                },
                                {
                                    "SzobaID": "88",
                                    "ÉV": "2016",
                                    "(No column name)": "6"
                                },
                                {
                                    "SzobaID": "88",
                                    "ÉV": "2017",
                                    "(No column name)": "2"
                                },
                                {
                                    "SzobaID": "88",
                                    "ÉV": "Részösszeg",
                                    "(No column name)": "8"
                                },
                                {
                                    "SzobaID": "89",
                                    "ÉV": "2016",
                                    "(No column name)": "7"
                                },
                                {
                                    "SzobaID": "89",
                                    "ÉV": "2017",
                                    "(No column name)": "1"
                                },
                                {
                                    "SzobaID": "89",
                                    "ÉV": "Részösszeg",
                                    "(No column name)": "8"
                                },
                                {
                                    "SzobaID": "90",
                                    "ÉV": "2016",
                                    "(No column name)": "4"
                                },
                                {
                                    "SzobaID": "90",
                                    "ÉV": "Részösszeg",
                                    "(No column name)": "4"
                                },
                                {
                                    "SzobaID": "91",
                                    "ÉV": "2016",
                                    "(No column name)": "4"
                                },
                                {
                                    "SzobaID": "91",
                                    "ÉV": "Részösszeg",
                                    "(No column name)": "4"
                                },
                                {
                                    "SzobaID": "92",
                                    "ÉV": "2016",
                                    "(No column name)": "4"
                                },
                                {
                                    "SzobaID": "92",
                                    "ÉV": "2017",
                                    "(No column name)": "2"
                                },
                                {
                                    "SzobaID": "92",
                                    "ÉV": "Részösszeg",
                                    "(No column name)": "6"
                                },
                                {
                                    "SzobaID": "93",
                                    "ÉV": "2016",
                                    "(No column name)": "5"
                                },
                                {
                                    "SzobaID": "93",
                                    "ÉV": "Részösszeg",
                                    "(No column name)": "5"
                                },
                                {
                                    "SzobaID": "94",
                                    "ÉV": "2016",
                                    "(No column name)": "8"
                                },
                                {
                                    "SzobaID": "94",
                                    "ÉV": "2017",
                                    "(No column name)": "2"
                                },
                                {
                                    "SzobaID": "94",
                                    "ÉV": "Részösszeg",
                                    "(No column name)": "10"
                                },
                                {
                                    "SzobaID": "95",
                                    "ÉV": "2016",
                                    "(No column name)": "3"
                                },
                                {
                                    "SzobaID": "95",
                                    "ÉV": "2017",
                                    "(No column name)": "1"
                                },
                                {
                                    "SzobaID": "95",
                                    "ÉV": "Részösszeg",
                                    "(No column name)": "4"
                                },
                                {
                                    "SzobaID": "96",
                                    "ÉV": "2016",
                                    "(No column name)": "5"
                                },
                                {
                                    "SzobaID": "96",
                                    "ÉV": "2017",
                                    "(No column name)": "2"
                                },
                                {
                                    "SzobaID": "96",
                                    "ÉV": "Részösszeg",
                                    "(No column name)": "7"
                                },
                                {
                                    "SzobaID": "97",
                                    "ÉV": "2016",
                                    "(No column name)": "5"
                                },
                                {
                                    "SzobaID": "97",
                                    "ÉV": "2017",
                                    "(No column name)": "2"
                                },
                                {
                                    "SzobaID": "97",
                                    "ÉV": "Részösszeg",
                                    "(No column name)": "7"
                                },
                                {
                                    "SzobaID": "98",
                                    "ÉV": "2016",
                                    "(No column name)": "4"
                                },
                                {
                                    "SzobaID": "98",
                                    "ÉV": "Részösszeg",
                                    "(No column name)": "4"
                                },
                                {
                                    "SzobaID": "99",
                                    "ÉV": "2016",
                                    "(No column name)": "4"
                                },
                                {
                                    "SzobaID": "99",
                                    "ÉV": "2017",
                                    "(No column name)": "1"
                                },
                                {
                                    "SzobaID": "99",
                                    "ÉV": "Részösszeg",
                                    "(No column name)": "5"
                                },
                                {
                                    "SzobaID": "100",
                                    "ÉV": "2016",
                                    "(No column name)": "3"
                                },
                                {
                                    "SzobaID": "100",
                                    "ÉV": "2017",
                                    "(No column name)": "1"
                                },
                                {
                                    "SzobaID": "100",
                                    "ÉV": "Részösszeg",
                                    "(No column name)": "4"
                                },
                                {
                                    "SzobaID": "101",
                                    "ÉV": "2016",
                                    "(No column name)": "2"
                                },
                                {
                                    "SzobaID": "101",
                                    "ÉV": "2017",
                                    "(No column name)": "1"
                                },
                                {
                                    "SzobaID": "101",
                                    "ÉV": "Részösszeg",
                                    "(No column name)": "3"
                                },
                                {
                                    "SzobaID": "102",
                                    "ÉV": "2016",
                                    "(No column name)": "2"
                                },
                                {
                                    "SzobaID": "102",
                                    "ÉV": "Részösszeg",
                                    "(No column name)": "2"
                                },
                                {
                                    "SzobaID": "103",
                                    "ÉV": "2016",
                                    "(No column name)": "3"
                                },
                                {
                                    "SzobaID": "103",
                                    "ÉV": "2017",
                                    "(No column name)": "1"
                                },
                                {
                                    "SzobaID": "103",
                                    "ÉV": "Részösszeg",
                                    "(No column name)": "4"
                                },
                                {
                                    "SzobaID": "104",
                                    "ÉV": "2016",
                                    "(No column name)": "2"
                                },
                                {
                                    "SzobaID": "104",
                                    "ÉV": "2017",
                                    "(No column name)": "2"
                                },
                                {
                                    "SzobaID": "104",
                                    "ÉV": "Részösszeg",
                                    "(No column name)": "4"
                                },
                                {
                                    "SzobaID": "105",
                                    "ÉV": "2016",
                                    "(No column name)": "1"
                                },
                                {
                                    "SzobaID": "105",
                                    "ÉV": "2017",
                                    "(No column name)": "1"
                                },
                                {
                                    "SzobaID": "105",
                                    "ÉV": "Részösszeg",
                                    "(No column name)": "2"
                                },
                                {
                                    "SzobaID": "106",
                                    "ÉV": "2016",
                                    "(No column name)": "5"
                                },
                                {
                                    "SzobaID": "106",
                                    "ÉV": "2017",
                                    "(No column name)": "1"
                                },
                                {
                                    "SzobaID": "106",
                                    "ÉV": "Részösszeg",
                                    "(No column name)": "6"
                                },
                                {
                                    "SzobaID": "107",
                                    "ÉV": "2016",
                                    "(No column name)": "3"
                                },
                                {
                                    "SzobaID": "107",
                                    "ÉV": "2017",
                                    "(No column name)": "2"
                                },
                                {
                                    "SzobaID": "107",
                                    "ÉV": "Részösszeg",
                                    "(No column name)": "5"
                                },
                                {
                                    "SzobaID": "108",
                                    "ÉV": "2016",
                                    "(No column name)": "2"
                                },
                                {
                                    "SzobaID": "108",
                                    "ÉV": "Részösszeg",
                                    "(No column name)": "2"
                                },
                                {
                                    "SzobaID": "109",
                                    "ÉV": "2016",
                                    "(No column name)": "6"
                                },
                                {
                                    "SzobaID": "109",
                                    "ÉV": "2017",
                                    "(No column name)": "1"
                                },
                                {
                                    "SzobaID": "109",
                                    "ÉV": "Részösszeg",
                                    "(No column name)": "7"
                                },
                                {
                                    "SzobaID": "110",
                                    "ÉV": "2016",
                                    "(No column name)": "6"
                                },
                                {
                                    "SzobaID": "110",
                                    "ÉV": "2017",
                                    "(No column name)": "2"
                                },
                                {
                                    "SzobaID": "110",
                                    "ÉV": "Részösszeg",
                                    "(No column name)": "8"
                                },
                                {
                                    "SzobaID": "111",
                                    "ÉV": "2016",
                                    "(No column name)": "5"
                                },
                                {
                                    "SzobaID": "111",
                                    "ÉV": "Részösszeg",
                                    "(No column name)": "5"
                                },
                                {
                                    "SzobaID": "112",
                                    "ÉV": "2016",
                                    "(No column name)": "4"
                                },
                                {
                                    "SzobaID": "112",
                                    "ÉV": "2017",
                                    "(No column name)": "1"
                                },
                                {
                                    "SzobaID": "112",
                                    "ÉV": "Részösszeg",
                                    "(No column name)": "5"
                                },
                                {
                                    "SzobaID": "113",
                                    "ÉV": "2016",
                                    "(No column name)": "3"
                                },
                                {
                                    "SzobaID": "113",
                                    "ÉV": "2017",
                                    "(No column name)": "2"
                                },
                                {
                                    "SzobaID": "113",
                                    "ÉV": "Részösszeg",
                                    "(No column name)": "5"
                                },
                                {
                                    "SzobaID": "114",
                                    "ÉV": "2016",
                                    "(No column name)": "3"
                                },
                                {
                                    "SzobaID": "114",
                                    "ÉV": "2017",
                                    "(No column name)": "1"
                                },
                                {
                                    "SzobaID": "114",
                                    "ÉV": "Részösszeg",
                                    "(No column name)": "4"
                                },
                                {
                                    "SzobaID": "115",
                                    "ÉV": "2016",
                                    "(No column name)": "5"
                                },
                                {
                                    "SzobaID": "115",
                                    "ÉV": "2017",
                                    "(No column name)": "2"
                                },
                                {
                                    "SzobaID": "115",
                                    "ÉV": "Részösszeg",
                                    "(No column name)": "7"
                                },
                                {
                                    "SzobaID": "116",
                                    "ÉV": "2017",
                                    "(No column name)": "2"
                                },
                                {
                                    "SzobaID": "116",
                                    "ÉV": "Részösszeg",
                                    "(No column name)": "2"
                                },
                                {
                                    "SzobaID": "117",
                                    "ÉV": "2016",
                                    "(No column name)": "7"
                                },
                                {
                                    "SzobaID": "117",
                                    "ÉV": "2017",
                                    "(No column name)": "1"
                                },
                                {
                                    "SzobaID": "117",
                                    "ÉV": "Részösszeg",
                                    "(No column name)": "8"
                                },
                                {
                                    "SzobaID": "118",
                                    "ÉV": "2016",
                                    "(No column name)": "5"
                                },
                                {
                                    "SzobaID": "118",
                                    "ÉV": "2017",
                                    "(No column name)": "2"
                                },
                                {
                                    "SzobaID": "118",
                                    "ÉV": "Részösszeg",
                                    "(No column name)": "7"
                                },
                                {
                                    "SzobaID": "119",
                                    "ÉV": "2016",
                                    "(No column name)": "3"
                                },
                                {
                                    "SzobaID": "119",
                                    "ÉV": "2017",
                                    "(No column name)": "2"
                                },
                                {
                                    "SzobaID": "119",
                                    "ÉV": "Részösszeg",
                                    "(No column name)": "5"
                                },
                                {
                                    "SzobaID": "120",
                                    "ÉV": "2016",
                                    "(No column name)": "4"
                                },
                                {
                                    "SzobaID": "120",
                                    "ÉV": "2017",
                                    "(No column name)": "2"
                                },
                                {
                                    "SzobaID": "120",
                                    "ÉV": "Részösszeg",
                                    "(No column name)": "6"
                                },
                                {
                                    "SzobaID": "121",
                                    "ÉV": "2016",
                                    "(No column name)": "8"
                                },
                                {
                                    "SzobaID": "121",
                                    "ÉV": "Részösszeg",
                                    "(No column name)": "8"
                                },
                                {
                                    "SzobaID": "122",
                                    "ÉV": "2016",
                                    "(No column name)": "8"
                                },
                                {
                                    "SzobaID": "122",
                                    "ÉV": "2017",
                                    "(No column name)": "1"
                                },
                                {
                                    "SzobaID": "122",
                                    "ÉV": "Részösszeg",
                                    "(No column name)": "9"
                                },
                                {
                                    "SzobaID": "123",
                                    "ÉV": "2016",
                                    "(No column name)": "5"
                                },
                                {
                                    "SzobaID": "123",
                                    "ÉV": "Részösszeg",
                                    "(No column name)": "5"
                                },
                                {
                                    "SzobaID": "124",
                                    "ÉV": "2016",
                                    "(No column name)": "4"
                                },
                                {
                                    "SzobaID": "124",
                                    "ÉV": "2017",
                                    "(No column name)": "2"
                                },
                                {
                                    "SzobaID": "124",
                                    "ÉV": "Részösszeg",
                                    "(No column name)": "6"
                                },
                                {
                                    "SzobaID": "125",
                                    "ÉV": "2016",
                                    "(No column name)": "1"
                                },
                                {
                                    "SzobaID": "125",
                                    "ÉV": "Részösszeg",
                                    "(No column name)": "1"
                                },
                                {
                                    "SzobaID": "126",
                                    "ÉV": "2016",
                                    "(No column name)": "4"
                                },
                                {
                                    "SzobaID": "126",
                                    "ÉV": "2017",
                                    "(No column name)": "2"
                                },
                                {
                                    "SzobaID": "126",
                                    "ÉV": "Részösszeg",
                                    "(No column name)": "6"
                                },
                                {
                                    "SzobaID": "127",
                                    "ÉV": "2016",
                                    "(No column name)": "6"
                                },
                                {
                                    "SzobaID": "127",
                                    "ÉV": "2017",
                                    "(No column name)": "1"
                                },
                                {
                                    "SzobaID": "127",
                                    "ÉV": "Részösszeg",
                                    "(No column name)": "7"
                                },
                                {
                                    "SzobaID": "128",
                                    "ÉV": "2016",
                                    "(No column name)": "3"
                                },
                                {
                                    "SzobaID": "128",
                                    "ÉV": "2017",
                                    "(No column name)": "2"
                                },
                                {
                                    "SzobaID": "128",
                                    "ÉV": "Részösszeg",
                                    "(No column name)": "5"
                                },
                                {
                                    "SzobaID": "129",
                                    "ÉV": "2016",
                                    "(No column name)": "2"
                                },
                                {
                                    "SzobaID": "129",
                                    "ÉV": "2017",
                                    "(No column name)": "2"
                                },
                                {
                                    "SzobaID": "129",
                                    "ÉV": "Részösszeg",
                                    "(No column name)": "4"
                                },
                                {
                                    "SzobaID": "130",
                                    "ÉV": "2016",
                                    "(No column name)": "5"
                                },
                                {
                                    "SzobaID": "130",
                                    "ÉV": "2017",
                                    "(No column name)": "1"
                                },
                                {
                                    "SzobaID": "130",
                                    "ÉV": "Részösszeg",
                                    "(No column name)": "6"
                                },
                                {
                                    "SzobaID": "131",
                                    "ÉV": "2016",
                                    "(No column name)": "4"
                                },
                                {
                                    "SzobaID": "131",
                                    "ÉV": "2017",
                                    "(No column name)": "1"
                                },
                                {
                                    "SzobaID": "131",
                                    "ÉV": "Részösszeg",
                                    "(No column name)": "5"
                                },
                                {
                                    "SzobaID": "132",
                                    "ÉV": "2016",
                                    "(No column name)": "5"
                                },
                                {
                                    "SzobaID": "132",
                                    "ÉV": "2017",
                                    "(No column name)": "1"
                                },
                                {
                                    "SzobaID": "132",
                                    "ÉV": "Részösszeg",
                                    "(No column name)": "6"
                                },
                                {
                                    "SzobaID": "133",
                                    "ÉV": "2016",
                                    "(No column name)": "5"
                                },
                                {
                                    "SzobaID": "133",
                                    "ÉV": "2017",
                                    "(No column name)": "1"
                                },
                                {
                                    "SzobaID": "133",
                                    "ÉV": "Részösszeg",
                                    "(No column name)": "6"
                                },
                                {
                                    "SzobaID": "134",
                                    "ÉV": "2016",
                                    "(No column name)": "5"
                                },
                                {
                                    "SzobaID": "134",
                                    "ÉV": "2017",
                                    "(No column name)": "1"
                                },
                                {
                                    "SzobaID": "134",
                                    "ÉV": "Részösszeg",
                                    "(No column name)": "6"
                                },
                                {
                                    "SzobaID": "135",
                                    "ÉV": "2016",
                                    "(No column name)": "3"
                                },
                                {
                                    "SzobaID": "135",
                                    "ÉV": "Részösszeg",
                                    "(No column name)": "3"
                                },
                                {
                                    "SzobaID": "136",
                                    "ÉV": "2016",
                                    "(No column name)": "3"
                                },
                                {
                                    "SzobaID": "136",
                                    "ÉV": "Részösszeg",
                                    "(No column name)": "3"
                                },
                                {
                                    "SzobaID": "137",
                                    "ÉV": "2016",
                                    "(No column name)": "6"
                                },
                                {
                                    "SzobaID": "137",
                                    "ÉV": "Részösszeg",
                                    "(No column name)": "6"
                                },
                                {
                                    "SzobaID": "138",
                                    "ÉV": "2016",
                                    "(No column name)": "7"
                                },
                                {
                                    "SzobaID": "138",
                                    "ÉV": "Részösszeg",
                                    "(No column name)": "7"
                                },
                                {
                                    "SzobaID": "139",
                                    "ÉV": "2016",
                                    "(No column name)": "5"
                                },
                                {
                                    "SzobaID": "139",
                                    "ÉV": "2017",
                                    "(No column name)": "2"
                                },
                                {
                                    "SzobaID": "139",
                                    "ÉV": "Részösszeg",
                                    "(No column name)": "7"
                                },
                                {
                                    "SzobaID": "140",
                                    "ÉV": "2016",
                                    "(No column name)": "8"
                                },
                                {
                                    "SzobaID": "140",
                                    "ÉV": "Részösszeg",
                                    "(No column name)": "8"
                                },
                                {
                                    "SzobaID": "141",
                                    "ÉV": "2016",
                                    "(No column name)": "6"
                                },
                                {
                                    "SzobaID": "141",
                                    "ÉV": "Részösszeg",
                                    "(No column name)": "6"
                                },
                                {
                                    "SzobaID": "142",
                                    "ÉV": "2016",
                                    "(No column name)": "1"
                                },
                                {
                                    "SzobaID": "142",
                                    "ÉV": "2017",
                                    "(No column name)": "1"
                                },
                                {
                                    "SzobaID": "142",
                                    "ÉV": "Részösszeg",
                                    "(No column name)": "2"
                                },
                                {
                                    "SzobaID": "143",
                                    "ÉV": "2016",
                                    "(No column name)": "6"
                                },
                                {
                                    "SzobaID": "143",
                                    "ÉV": "2017",
                                    "(No column name)": "1"
                                },
                                {
                                    "SzobaID": "143",
                                    "ÉV": "Részösszeg",
                                    "(No column name)": "7"
                                },
                                {
                                    "SzobaID": "144",
                                    "ÉV": "2016",
                                    "(No column name)": "4"
                                },
                                {
                                    "SzobaID": "144",
                                    "ÉV": "2017",
                                    "(No column name)": "1"
                                },
                                {
                                    "SzobaID": "144",
                                    "ÉV": "Részösszeg",
                                    "(No column name)": "5"
                                },
                                {
                                    "SzobaID": "145",
                                    "ÉV": "2016",
                                    "(No column name)": "5"
                                },
                                {
                                    "SzobaID": "145",
                                    "ÉV": "2017",
                                    "(No column name)": "1"
                                },
                                {
                                    "SzobaID": "145",
                                    "ÉV": "Részösszeg",
                                    "(No column name)": "6"
                                },
                                {
                                    "SzobaID": "146",
                                    "ÉV": "2016",
                                    "(No column name)": "5"
                                },
                                {
                                    "SzobaID": "146",
                                    "ÉV": "2017",
                                    "(No column name)": "1"
                                },
                                {
                                    "SzobaID": "146",
                                    "ÉV": "Részösszeg",
                                    "(No column name)": "6"
                                },
                                {
                                    "SzobaID": "147",
                                    "ÉV": "2016",
                                    "(No column name)": "1"
                                },
                                {
                                    "SzobaID": "147",
                                    "ÉV": "Részösszeg",
                                    "(No column name)": "1"
                                },
                                {
                                    "SzobaID": "148",
                                    "ÉV": "2016",
                                    "(No column name)": "5"
                                },
                                {
                                    "SzobaID": "148",
                                    "ÉV": "2017",
                                    "(No column name)": "1"
                                },
                                {
                                    "SzobaID": "148",
                                    "ÉV": "Részösszeg",
                                    "(No column name)": "6"
                                },
                                {
                                    "SzobaID": "149",
                                    "ÉV": "2016",
                                    "(No column name)": "6"
                                },
                                {
                                    "SzobaID": "149",
                                    "ÉV": "2017",
                                    "(No column name)": "1"
                                },
                                {
                                    "SzobaID": "149",
                                    "ÉV": "Részösszeg",
                                    "(No column name)": "7"
                                },
                                {
                                    "SzobaID": "150",
                                    "ÉV": "2016",
                                    "(No column name)": "5"
                                },
                                {
                                    "SzobaID": "150",
                                    "ÉV": "2017",
                                    "(No column name)": "1"
                                },
                                {
                                    "SzobaID": "150",
                                    "ÉV": "Részösszeg",
                                    "(No column name)": "6"
                                },
                                {
                                    "SzobaID": "151",
                                    "ÉV": "2016",
                                    "(No column name)": "3"
                                },
                                {
                                    "SzobaID": "151",
                                    "ÉV": "Részösszeg",
                                    "(No column name)": "3"
                                },
                                {
                                    "SzobaID": "152",
                                    "ÉV": "2016",
                                    "(No column name)": "3"
                                },
                                {
                                    "SzobaID": "152",
                                    "ÉV": "2017",
                                    "(No column name)": "1"
                                },
                                {
                                    "SzobaID": "152",
                                    "ÉV": "Részösszeg",
                                    "(No column name)": "4"
                                },
                                {
                                    "SzobaID": "153",
                                    "ÉV": "2016",
                                    "(No column name)": "2"
                                },
                                {
                                    "SzobaID": "153",
                                    "ÉV": "2017",
                                    "(No column name)": "3"
                                },
                                {
                                    "SzobaID": "153",
                                    "ÉV": "Részösszeg",
                                    "(No column name)": "5"
                                },
                                {
                                    "SzobaID": "154",
                                    "ÉV": "2016",
                                    "(No column name)": "4"
                                },
                                {
                                    "SzobaID": "154",
                                    "ÉV": "2017",
                                    "(No column name)": "1"
                                },
                                {
                                    "SzobaID": "154",
                                    "ÉV": "Részösszeg",
                                    "(No column name)": "5"
                                },
                                {
                                    "SzobaID": "155",
                                    "ÉV": "2016",
                                    "(No column name)": "4"
                                },
                                {
                                    "SzobaID": "155",
                                    "ÉV": "2017",
                                    "(No column name)": "1"
                                },
                                {
                                    "SzobaID": "155",
                                    "ÉV": "Részösszeg",
                                    "(No column name)": "5"
                                },
                                {
                                    "SzobaID": "156",
                                    "ÉV": "2016",
                                    "(No column name)": "4"
                                },
                                {
                                    "SzobaID": "156",
                                    "ÉV": "2017",
                                    "(No column name)": "3"
                                },
                                {
                                    "SzobaID": "156",
                                    "ÉV": "Részösszeg",
                                    "(No column name)": "7"
                                },
                                {
                                    "SzobaID": "157",
                                    "ÉV": "2016",
                                    "(No column name)": "4"
                                },
                                {
                                    "SzobaID": "157",
                                    "ÉV": "2017",
                                    "(No column name)": "1"
                                },
                                {
                                    "SzobaID": "157",
                                    "ÉV": "Részösszeg",
                                    "(No column name)": "5"
                                },
                                {
                                    "SzobaID": "158",
                                    "ÉV": "2016",
                                    "(No column name)": "3"
                                },
                                {
                                    "SzobaID": "158",
                                    "ÉV": "Részösszeg",
                                    "(No column name)": "3"
                                },
                                {
                                    "SzobaID": "160",
                                    "ÉV": "2016",
                                    "(No column name)": "4"
                                },
                                {
                                    "SzobaID": "160",
                                    "ÉV": "2017",
                                    "(No column name)": "1"
                                },
                                {
                                    "SzobaID": "160",
                                    "ÉV": "Részösszeg",
                                    "(No column name)": "5"
                                },
                                {
                                    "SzobaID": "161",
                                    "ÉV": "2016",
                                    "(No column name)": "5"
                                },
                                {
                                    "SzobaID": "161",
                                    "ÉV": "2017",
                                    "(No column name)": "1"
                                },
                                {
                                    "SzobaID": "161",
                                    "ÉV": "Részösszeg",
                                    "(No column name)": "6"
                                },
                                {
                                    "SzobaID": "162",
                                    "ÉV": "2016",
                                    "(No column name)": "3"
                                },
                                {
                                    "SzobaID": "162",
                                    "ÉV": "Részösszeg",
                                    "(No column name)": "3"
                                },
                                {
                                    "SzobaID": "163",
                                    "ÉV": "2016",
                                    "(No column name)": "6"
                                },
                                {
                                    "SzobaID": "163",
                                    "ÉV": "2017",
                                    "(No column name)": "1"
                                },
                                {
                                    "SzobaID": "163",
                                    "ÉV": "Részösszeg",
                                    "(No column name)": "7"
                                },
                                {
                                    "SzobaID": "164",
                                    "ÉV": "2016",
                                    "(No column name)": "5"
                                },
                                {
                                    "SzobaID": "164",
                                    "ÉV": "Részösszeg",
                                    "(No column name)": "5"
                                },
                                {
                                    "SzobaID": "165",
                                    "ÉV": "2016",
                                    "(No column name)": "7"
                                },
                                {
                                    "SzobaID": "165",
                                    "ÉV": "Részösszeg",
                                    "(No column name)": "7"
                                },
                                {
                                    "SzobaID": "166",
                                    "ÉV": "2016",
                                    "(No column name)": "2"
                                },
                                {
                                    "SzobaID": "166",
                                    "ÉV": "2017",
                                    "(No column name)": "1"
                                },
                                {
                                    "SzobaID": "166",
                                    "ÉV": "Részösszeg",
                                    "(No column name)": "3"
                                },
                                {
                                    "SzobaID": "167",
                                    "ÉV": "2016",
                                    "(No column name)": "1"
                                },
                                {
                                    "SzobaID": "167",
                                    "ÉV": "2017",
                                    "(No column name)": "1"
                                },
                                {
                                    "SzobaID": "167",
                                    "ÉV": "Részösszeg",
                                    "(No column name)": "2"
                                },
                                {
                                    "SzobaID": "168",
                                    "ÉV": "2016",
                                    "(No column name)": "5"
                                },
                                {
                                    "SzobaID": "168",
                                    "ÉV": "Részösszeg",
                                    "(No column name)": "5"
                                },
                                {
                                    "SzobaID": "169",
                                    "ÉV": "2016",
                                    "(No column name)": "5"
                                },
                                {
                                    "SzobaID": "169",
                                    "ÉV": "2017",
                                    "(No column name)": "1"
                                },
                                {
                                    "SzobaID": "169",
                                    "ÉV": "Részösszeg",
                                    "(No column name)": "6"
                                },
                                {
                                    "SzobaID": "170",
                                    "ÉV": "2016",
                                    "(No column name)": "5"
                                },
                                {
                                    "SzobaID": "170",
                                    "ÉV": "Részösszeg",
                                    "(No column name)": "5"
                                },
                                {
                                    "SzobaID": "171",
                                    "ÉV": "2016",
                                    "(No column name)": "4"
                                },
                                {
                                    "SzobaID": "171",
                                    "ÉV": "2017",
                                    "(No column name)": "1"
                                },
                                {
                                    "SzobaID": "171",
                                    "ÉV": "Részösszeg",
                                    "(No column name)": "5"
                                },
                                {
                                    "SzobaID": "172",
                                    "ÉV": "2016",
                                    "(No column name)": "7"
                                },
                                {
                                    "SzobaID": "172",
                                    "ÉV": "2017",
                                    "(No column name)": "2"
                                },
                                {
                                    "SzobaID": "172",
                                    "ÉV": "Részösszeg",
                                    "(No column name)": "9"
                                },
                                {
                                    "SzobaID": "173",
                                    "ÉV": "2016",
                                    "(No column name)": "3"
                                },
                                {
                                    "SzobaID": "173",
                                    "ÉV": "2017",
                                    "(No column name)": "1"
                                },
                                {
                                    "SzobaID": "173",
                                    "ÉV": "Részösszeg",
                                    "(No column name)": "4"
                                },
                                {
                                    "SzobaID": "174",
                                    "ÉV": "2016",
                                    "(No column name)": "4"
                                },
                                {
                                    "SzobaID": "174",
                                    "ÉV": "Részösszeg",
                                    "(No column name)": "4"
                                },
                                {
                                    "SzobaID": "175",
                                    "ÉV": "2016",
                                    "(No column name)": "5"
                                },
                                {
                                    "SzobaID": "175",
                                    "ÉV": "Részösszeg",
                                    "(No column name)": "5"
                                },
                                {
                                    "SzobaID": "176",
                                    "ÉV": "2016",
                                    "(No column name)": "4"
                                },
                                {
                                    "SzobaID": "176",
                                    "ÉV": "2017",
                                    "(No column name)": "2"
                                },
                                {
                                    "SzobaID": "176",
                                    "ÉV": "Részösszeg",
                                    "(No column name)": "6"
                                },
                                {
                                    "SzobaID": "177",
                                    "ÉV": "2016",
                                    "(No column name)": "3"
                                },
                                {
                                    "SzobaID": "177",
                                    "ÉV": "2017",
                                    "(No column name)": "1"
                                },
                                {
                                    "SzobaID": "177",
                                    "ÉV": "Részösszeg",
                                    "(No column name)": "4"
                                },
                                {
                                    "SzobaID": "178",
                                    "ÉV": "2016",
                                    "(No column name)": "4"
                                },
                                {
                                    "SzobaID": "178",
                                    "ÉV": "Részösszeg",
                                    "(No column name)": "4"
                                },
                                {
                                    "SzobaID": "179",
                                    "ÉV": "2016",
                                    "(No column name)": "2"
                                },
                                {
                                    "SzobaID": "179",
                                    "ÉV": "2017",
                                    "(No column name)": "1"
                                },
                                {
                                    "SzobaID": "179",
                                    "ÉV": "Részösszeg",
                                    "(No column name)": "3"
                                },
                                {
                                    "SzobaID": "180",
                                    "ÉV": "2016",
                                    "(No column name)": "1"
                                },
                                {
                                    "SzobaID": "180",
                                    "ÉV": "2017",
                                    "(No column name)": "2"
                                },
                                {
                                    "SzobaID": "180",
                                    "ÉV": "Részösszeg",
                                    "(No column name)": "3"
                                },
                                {
                                    "SzobaID": "181",
                                    "ÉV": "2016",
                                    "(No column name)": "6"
                                },
                                {
                                    "SzobaID": "181",
                                    "ÉV": "Részösszeg",
                                    "(No column name)": "6"
                                },
                                {
                                    "SzobaID": "182",
                                    "ÉV": "2016",
                                    "(No column name)": "10"
                                },
                                {
                                    "SzobaID": "182",
                                    "ÉV": "2017",
                                    "(No column name)": "2"
                                },
                                {
                                    "SzobaID": "182",
                                    "ÉV": "Részösszeg",
                                    "(No column name)": "12"
                                },
                                {
                                    "SzobaID": "183",
                                    "ÉV": "2016",
                                    "(No column name)": "3"
                                },
                                {
                                    "SzobaID": "183",
                                    "ÉV": "2017",
                                    "(No column name)": "1"
                                },
                                {
                                    "SzobaID": "183",
                                    "ÉV": "Részösszeg",
                                    "(No column name)": "4"
                                },
                                {
                                    "SzobaID": "184",
                                    "ÉV": "2016",
                                    "(No column name)": "4"
                                },
                                {
                                    "SzobaID": "184",
                                    "ÉV": "Részösszeg",
                                    "(No column name)": "4"
                                },
                                {
                                    "SzobaID": "185",
                                    "ÉV": "2016",
                                    "(No column name)": "10"
                                },
                                {
                                    "SzobaID": "185",
                                    "ÉV": "2017",
                                    "(No column name)": "2"
                                },
                                {
                                    "SzobaID": "185",
                                    "ÉV": "Részösszeg",
                                    "(No column name)": "12"
                                },
                                {
                                    "SzobaID": "186",
                                    "ÉV": "2016",
                                    "(No column name)": "3"
                                },
                                {
                                    "SzobaID": "186",
                                    "ÉV": "2017",
                                    "(No column name)": "1"
                                },
                                {
                                    "SzobaID": "186",
                                    "ÉV": "Részösszeg",
                                    "(No column name)": "4"
                                },
                                {
                                    "SzobaID": "187",
                                    "ÉV": "2016",
                                    "(No column name)": "7"
                                },
                                {
                                    "SzobaID": "187",
                                    "ÉV": "Részösszeg",
                                    "(No column name)": "7"
                                },
                                {
                                    "SzobaID": "188",
                                    "ÉV": "2016",
                                    "(No column name)": "6"
                                },
                                {
                                    "SzobaID": "188",
                                    "ÉV": "Részösszeg",
                                    "(No column name)": "6"
                                },
                                {
                                    "SzobaID": "189",
                                    "ÉV": "2016",
                                    "(No column name)": "3"
                                },
                                {
                                    "SzobaID": "189",
                                    "ÉV": "2017",
                                    "(No column name)": "2"
                                },
                                {
                                    "SzobaID": "189",
                                    "ÉV": "Részösszeg",
                                    "(No column name)": "5"
                                },
                                {
                                    "SzobaID": "190",
                                    "ÉV": "2016",
                                    "(No column name)": "4"
                                },
                                {
                                    "SzobaID": "190",
                                    "ÉV": "2017",
                                    "(No column name)": "1"
                                },
                                {
                                    "SzobaID": "190",
                                    "ÉV": "Részösszeg",
                                    "(No column name)": "5"
                                },
                                {
                                    "SzobaID": "191",
                                    "ÉV": "2016",
                                    "(No column name)": "3"
                                },
                                {
                                    "SzobaID": "191",
                                    "ÉV": "2017",
                                    "(No column name)": "2"
                                },
                                {
                                    "SzobaID": "191",
                                    "ÉV": "Részösszeg",
                                    "(No column name)": "5"
                                },
                                {
                                    "SzobaID": "192",
                                    "ÉV": "2016",
                                    "(No column name)": "2"
                                },
                                {
                                    "SzobaID": "192",
                                    "ÉV": "Részösszeg",
                                    "(No column name)": "2"
                                },
                                {
                                    "SzobaID": "193",
                                    "ÉV": "2016",
                                    "(No column name)": "7"
                                },
                                {
                                    "SzobaID": "193",
                                    "ÉV": "Részösszeg",
                                    "(No column name)": "7"
                                },
                                {
                                    "SzobaID": "194",
                                    "ÉV": "2016",
                                    "(No column name)": "1"
                                },
                                {
                                    "SzobaID": "194",
                                    "ÉV": "Részösszeg",
                                    "(No column name)": "1"
                                },
                                {
                                    "SzobaID": "195",
                                    "ÉV": "2016",
                                    "(No column name)": "4"
                                },
                                {
                                    "SzobaID": "195",
                                    "ÉV": "2017",
                                    "(No column name)": "2"
                                },
                                {
                                    "SzobaID": "195",
                                    "ÉV": "Részösszeg",
                                    "(No column name)": "6"
                                },
                                {
                                    "SzobaID": "196",
                                    "ÉV": "2016",
                                    "(No column name)": "4"
                                },
                                {
                                    "SzobaID": "196",
                                    "ÉV": "Részösszeg",
                                    "(No column name)": "4"
                                },
                                {
                                    "SzobaID": "197",
                                    "ÉV": "2016",
                                    "(No column name)": "6"
                                },
                                {
                                    "SzobaID": "197",
                                    "ÉV": "Részösszeg",
                                    "(No column name)": "6"
                                },
                                {
                                    "SzobaID": "198",
                                    "ÉV": "2016",
                                    "(No column name)": "7"
                                },
                                {
                                    "SzobaID": "198",
                                    "ÉV": "2017",
                                    "(No column name)": "1"
                                },
                                {
                                    "SzobaID": "198",
                                    "ÉV": "Részösszeg",
                                    "(No column name)": "8"
                                },
                                {
                                    "SzobaID": "Összesen",
                                    "ÉV": "Részösszeg",
                                    "(No column name)": "1027"
                                }
                            ]
                        },
                        "text/html": [
                            "<table>",
                            "<tr><th>SzobaID</th><th>ÉV</th><th>(No column name)</th></tr>",
                            "<tr><td>1</td><td>2016</td><td>8</td></tr>",
                            "<tr><td>1</td><td>Részösszeg</td><td>8</td></tr>",
                            "<tr><td>2</td><td>2016</td><td>4</td></tr>",
                            "<tr><td>2</td><td>Részösszeg</td><td>4</td></tr>",
                            "<tr><td>3</td><td>2016</td><td>6</td></tr>",
                            "<tr><td>3</td><td>2017</td><td>2</td></tr>",
                            "<tr><td>3</td><td>Részösszeg</td><td>8</td></tr>",
                            "<tr><td>4</td><td>2016</td><td>5</td></tr>",
                            "<tr><td>4</td><td>2017</td><td>1</td></tr>",
                            "<tr><td>4</td><td>Részösszeg</td><td>6</td></tr>",
                            "<tr><td>5</td><td>2016</td><td>4</td></tr>",
                            "<tr><td>5</td><td>Részösszeg</td><td>4</td></tr>",
                            "<tr><td>6</td><td>2016</td><td>6</td></tr>",
                            "<tr><td>6</td><td>Részösszeg</td><td>6</td></tr>",
                            "<tr><td>7</td><td>2016</td><td>6</td></tr>",
                            "<tr><td>7</td><td>Részösszeg</td><td>6</td></tr>",
                            "<tr><td>8</td><td>2016</td><td>5</td></tr>",
                            "<tr><td>8</td><td>Részösszeg</td><td>5</td></tr>",
                            "<tr><td>9</td><td>2016</td><td>4</td></tr>",
                            "<tr><td>9</td><td>2017</td><td>2</td></tr>",
                            "<tr><td>9</td><td>Részösszeg</td><td>6</td></tr>",
                            "<tr><td>10</td><td>2016</td><td>4</td></tr>",
                            "<tr><td>10</td><td>Részösszeg</td><td>4</td></tr>",
                            "<tr><td>11</td><td>2016</td><td>3</td></tr>",
                            "<tr><td>11</td><td>2017</td><td>1</td></tr>",
                            "<tr><td>11</td><td>Részösszeg</td><td>4</td></tr>",
                            "<tr><td>12</td><td>2016</td><td>8</td></tr>",
                            "<tr><td>12</td><td>2017</td><td>1</td></tr>",
                            "<tr><td>12</td><td>Részösszeg</td><td>9</td></tr>",
                            "<tr><td>13</td><td>2016</td><td>3</td></tr>",
                            "<tr><td>13</td><td>2017</td><td>1</td></tr>",
                            "<tr><td>13</td><td>Részösszeg</td><td>4</td></tr>",
                            "<tr><td>14</td><td>2016</td><td>2</td></tr>",
                            "<tr><td>14</td><td>2017</td><td>1</td></tr>",
                            "<tr><td>14</td><td>Részösszeg</td><td>3</td></tr>",
                            "<tr><td>15</td><td>2016</td><td>4</td></tr>",
                            "<tr><td>15</td><td>2017</td><td>2</td></tr>",
                            "<tr><td>15</td><td>Részösszeg</td><td>6</td></tr>",
                            "<tr><td>16</td><td>2016</td><td>4</td></tr>",
                            "<tr><td>16</td><td>2017</td><td>1</td></tr>",
                            "<tr><td>16</td><td>Részösszeg</td><td>5</td></tr>",
                            "<tr><td>17</td><td>2016</td><td>5</td></tr>",
                            "<tr><td>17</td><td>2017</td><td>1</td></tr>",
                            "<tr><td>17</td><td>Részösszeg</td><td>6</td></tr>",
                            "<tr><td>18</td><td>2016</td><td>5</td></tr>",
                            "<tr><td>18</td><td>2017</td><td>1</td></tr>",
                            "<tr><td>18</td><td>Részösszeg</td><td>6</td></tr>",
                            "<tr><td>19</td><td>2016</td><td>5</td></tr>",
                            "<tr><td>19</td><td>2017</td><td>1</td></tr>",
                            "<tr><td>19</td><td>Részösszeg</td><td>6</td></tr>",
                            "<tr><td>20</td><td>2016</td><td>5</td></tr>",
                            "<tr><td>20</td><td>Részösszeg</td><td>5</td></tr>",
                            "<tr><td>21</td><td>2016</td><td>4</td></tr>",
                            "<tr><td>21</td><td>Részösszeg</td><td>4</td></tr>",
                            "<tr><td>22</td><td>2016</td><td>6</td></tr>",
                            "<tr><td>22</td><td>Részösszeg</td><td>6</td></tr>",
                            "<tr><td>23</td><td>2016</td><td>3</td></tr>",
                            "<tr><td>23</td><td>Részösszeg</td><td>3</td></tr>",
                            "<tr><td>24</td><td>2016</td><td>2</td></tr>",
                            "<tr><td>24</td><td>2017</td><td>1</td></tr>",
                            "<tr><td>24</td><td>Részösszeg</td><td>3</td></tr>",
                            "<tr><td>25</td><td>2016</td><td>2</td></tr>",
                            "<tr><td>25</td><td>Részösszeg</td><td>2</td></tr>",
                            "<tr><td>26</td><td>2016</td><td>2</td></tr>",
                            "<tr><td>26</td><td>Részösszeg</td><td>2</td></tr>",
                            "<tr><td>27</td><td>2016</td><td>6</td></tr>",
                            "<tr><td>27</td><td>2017</td><td>1</td></tr>",
                            "<tr><td>27</td><td>Részösszeg</td><td>7</td></tr>",
                            "<tr><td>28</td><td>2016</td><td>5</td></tr>",
                            "<tr><td>28</td><td>2017</td><td>1</td></tr>",
                            "<tr><td>28</td><td>Részösszeg</td><td>6</td></tr>",
                            "<tr><td>29</td><td>2016</td><td>5</td></tr>",
                            "<tr><td>29</td><td>2017</td><td>1</td></tr>",
                            "<tr><td>29</td><td>Részösszeg</td><td>6</td></tr>",
                            "<tr><td>30</td><td>2016</td><td>3</td></tr>",
                            "<tr><td>30</td><td>Részösszeg</td><td>3</td></tr>",
                            "<tr><td>31</td><td>2016</td><td>3</td></tr>",
                            "<tr><td>31</td><td>Részösszeg</td><td>3</td></tr>",
                            "<tr><td>32</td><td>2016</td><td>1</td></tr>",
                            "<tr><td>32</td><td>Részösszeg</td><td>1</td></tr>",
                            "<tr><td>33</td><td>2016</td><td>6</td></tr>",
                            "<tr><td>33</td><td>Részösszeg</td><td>6</td></tr>",
                            "<tr><td>34</td><td>2016</td><td>4</td></tr>",
                            "<tr><td>34</td><td>Részösszeg</td><td>4</td></tr>",
                            "<tr><td>35</td><td>2016</td><td>6</td></tr>",
                            "<tr><td>35</td><td>2017</td><td>3</td></tr>",
                            "<tr><td>35</td><td>Részösszeg</td><td>9</td></tr>",
                            "<tr><td>36</td><td>2016</td><td>6</td></tr>",
                            "<tr><td>36</td><td>Részösszeg</td><td>6</td></tr>",
                            "<tr><td>37</td><td>2016</td><td>3</td></tr>",
                            "<tr><td>37</td><td>Részösszeg</td><td>3</td></tr>",
                            "<tr><td>38</td><td>2016</td><td>5</td></tr>",
                            "<tr><td>38</td><td>2017</td><td>3</td></tr>",
                            "<tr><td>38</td><td>Részösszeg</td><td>8</td></tr>",
                            "<tr><td>39</td><td>2016</td><td>4</td></tr>",
                            "<tr><td>39</td><td>2017</td><td>3</td></tr>",
                            "<tr><td>39</td><td>Részösszeg</td><td>7</td></tr>",
                            "<tr><td>40</td><td>2016</td><td>4</td></tr>",
                            "<tr><td>40</td><td>Részösszeg</td><td>4</td></tr>",
                            "<tr><td>41</td><td>2016</td><td>2</td></tr>",
                            "<tr><td>41</td><td>Részösszeg</td><td>2</td></tr>",
                            "<tr><td>42</td><td>2016</td><td>5</td></tr>",
                            "<tr><td>42</td><td>2017</td><td>1</td></tr>",
                            "<tr><td>42</td><td>Részösszeg</td><td>6</td></tr>",
                            "<tr><td>43</td><td>2016</td><td>6</td></tr>",
                            "<tr><td>43</td><td>2017</td><td>2</td></tr>",
                            "<tr><td>43</td><td>Részösszeg</td><td>8</td></tr>",
                            "<tr><td>44</td><td>2016</td><td>4</td></tr>",
                            "<tr><td>44</td><td>2017</td><td>2</td></tr>",
                            "<tr><td>44</td><td>Részösszeg</td><td>6</td></tr>",
                            "<tr><td>45</td><td>2016</td><td>5</td></tr>",
                            "<tr><td>45</td><td>Részösszeg</td><td>5</td></tr>",
                            "<tr><td>46</td><td>2016</td><td>3</td></tr>",
                            "<tr><td>46</td><td>2017</td><td>1</td></tr>",
                            "<tr><td>46</td><td>Részösszeg</td><td>4</td></tr>",
                            "<tr><td>47</td><td>2016</td><td>2</td></tr>",
                            "<tr><td>47</td><td>Részösszeg</td><td>2</td></tr>",
                            "<tr><td>48</td><td>2016</td><td>6</td></tr>",
                            "<tr><td>48</td><td>2017</td><td>3</td></tr>",
                            "<tr><td>48</td><td>Részösszeg</td><td>9</td></tr>",
                            "<tr><td>49</td><td>2016</td><td>6</td></tr>",
                            "<tr><td>49</td><td>2017</td><td>1</td></tr>",
                            "<tr><td>49</td><td>Részösszeg</td><td>7</td></tr>",
                            "<tr><td>50</td><td>2016</td><td>4</td></tr>",
                            "<tr><td>50</td><td>Részösszeg</td><td>4</td></tr>",
                            "<tr><td>51</td><td>2016</td><td>3</td></tr>",
                            "<tr><td>51</td><td>2017</td><td>2</td></tr>",
                            "<tr><td>51</td><td>Részösszeg</td><td>5</td></tr>",
                            "<tr><td>52</td><td>2016</td><td>3</td></tr>",
                            "<tr><td>52</td><td>2017</td><td>2</td></tr>",
                            "<tr><td>52</td><td>Részösszeg</td><td>5</td></tr>",
                            "<tr><td>53</td><td>2016</td><td>2</td></tr>",
                            "<tr><td>53</td><td>Részösszeg</td><td>2</td></tr>",
                            "<tr><td>54</td><td>2016</td><td>6</td></tr>",
                            "<tr><td>54</td><td>Részösszeg</td><td>6</td></tr>",
                            "<tr><td>55</td><td>2016</td><td>6</td></tr>",
                            "<tr><td>55</td><td>2017</td><td>2</td></tr>",
                            "<tr><td>55</td><td>Részösszeg</td><td>8</td></tr>",
                            "<tr><td>56</td><td>2016</td><td>2</td></tr>",
                            "<tr><td>56</td><td>Részösszeg</td><td>2</td></tr>",
                            "<tr><td>57</td><td>2016</td><td>2</td></tr>",
                            "<tr><td>57</td><td>2017</td><td>2</td></tr>",
                            "<tr><td>57</td><td>Részösszeg</td><td>4</td></tr>",
                            "<tr><td>58</td><td>2016</td><td>12</td></tr>",
                            "<tr><td>58</td><td>2017</td><td>1</td></tr>",
                            "<tr><td>58</td><td>Részösszeg</td><td>13</td></tr>",
                            "<tr><td>59</td><td>2016</td><td>6</td></tr>",
                            "<tr><td>59</td><td>2017</td><td>1</td></tr>",
                            "<tr><td>59</td><td>Részösszeg</td><td>7</td></tr>",
                            "<tr><td>60</td><td>2016</td><td>1</td></tr>",
                            "<tr><td>60</td><td>Részösszeg</td><td>1</td></tr>",
                            "<tr><td>61</td><td>2016</td><td>4</td></tr>",
                            "<tr><td>61</td><td>2017</td><td>1</td></tr>",
                            "<tr><td>61</td><td>Részösszeg</td><td>5</td></tr>",
                            "<tr><td>62</td><td>2016</td><td>4</td></tr>",
                            "<tr><td>62</td><td>2017</td><td>1</td></tr>",
                            "<tr><td>62</td><td>Részösszeg</td><td>5</td></tr>",
                            "<tr><td>63</td><td>2016</td><td>4</td></tr>",
                            "<tr><td>63</td><td>Részösszeg</td><td>4</td></tr>",
                            "<tr><td>64</td><td>2016</td><td>3</td></tr>",
                            "<tr><td>64</td><td>2017</td><td>3</td></tr>",
                            "<tr><td>64</td><td>Részösszeg</td><td>6</td></tr>",
                            "<tr><td>65</td><td>2016</td><td>1</td></tr>",
                            "<tr><td>65</td><td>Részösszeg</td><td>1</td></tr>",
                            "<tr><td>66</td><td>2016</td><td>4</td></tr>",
                            "<tr><td>66</td><td>Részösszeg</td><td>4</td></tr>",
                            "<tr><td>67</td><td>2016</td><td>4</td></tr>",
                            "<tr><td>67</td><td>2017</td><td>2</td></tr>",
                            "<tr><td>67</td><td>Részösszeg</td><td>6</td></tr>",
                            "<tr><td>68</td><td>2016</td><td>3</td></tr>",
                            "<tr><td>68</td><td>Részösszeg</td><td>3</td></tr>",
                            "<tr><td>69</td><td>2016</td><td>4</td></tr>",
                            "<tr><td>69</td><td>Részösszeg</td><td>4</td></tr>",
                            "<tr><td>70</td><td>2016</td><td>10</td></tr>",
                            "<tr><td>70</td><td>2017</td><td>1</td></tr>",
                            "<tr><td>70</td><td>Részösszeg</td><td>11</td></tr>",
                            "<tr><td>71</td><td>2016</td><td>3</td></tr>",
                            "<tr><td>71</td><td>Részösszeg</td><td>3</td></tr>",
                            "<tr><td>72</td><td>2016</td><td>4</td></tr>",
                            "<tr><td>72</td><td>Részösszeg</td><td>4</td></tr>",
                            "<tr><td>73</td><td>2016</td><td>4</td></tr>",
                            "<tr><td>73</td><td>Részösszeg</td><td>4</td></tr>",
                            "<tr><td>74</td><td>2016</td><td>9</td></tr>",
                            "<tr><td>74</td><td>Részösszeg</td><td>9</td></tr>",
                            "<tr><td>75</td><td>2016</td><td>1</td></tr>",
                            "<tr><td>75</td><td>2017</td><td>2</td></tr>",
                            "<tr><td>75</td><td>Részösszeg</td><td>3</td></tr>",
                            "<tr><td>76</td><td>2016</td><td>2</td></tr>",
                            "<tr><td>76</td><td>2017</td><td>1</td></tr>",
                            "<tr><td>76</td><td>Részösszeg</td><td>3</td></tr>",
                            "<tr><td>77</td><td>2016</td><td>4</td></tr>",
                            "<tr><td>77</td><td>2017</td><td>2</td></tr>",
                            "<tr><td>77</td><td>Részösszeg</td><td>6</td></tr>",
                            "<tr><td>78</td><td>2016</td><td>5</td></tr>",
                            "<tr><td>78</td><td>2017</td><td>1</td></tr>",
                            "<tr><td>78</td><td>Részösszeg</td><td>6</td></tr>",
                            "<tr><td>79</td><td>2016</td><td>4</td></tr>",
                            "<tr><td>79</td><td>2017</td><td>1</td></tr>",
                            "<tr><td>79</td><td>Részösszeg</td><td>5</td></tr>",
                            "<tr><td>80</td><td>2016</td><td>7</td></tr>",
                            "<tr><td>80</td><td>Részösszeg</td><td>7</td></tr>",
                            "<tr><td>81</td><td>2016</td><td>1</td></tr>",
                            "<tr><td>81</td><td>2017</td><td>4</td></tr>",
                            "<tr><td>81</td><td>Részösszeg</td><td>5</td></tr>",
                            "<tr><td>82</td><td>2016</td><td>6</td></tr>",
                            "<tr><td>82</td><td>Részösszeg</td><td>6</td></tr>",
                            "<tr><td>83</td><td>2016</td><td>8</td></tr>",
                            "<tr><td>83</td><td>Részösszeg</td><td>8</td></tr>",
                            "<tr><td>84</td><td>2016</td><td>4</td></tr>",
                            "<tr><td>84</td><td>Részösszeg</td><td>4</td></tr>",
                            "<tr><td>85</td><td>2016</td><td>3</td></tr>",
                            "<tr><td>85</td><td>2017</td><td>1</td></tr>",
                            "<tr><td>85</td><td>Részösszeg</td><td>4</td></tr>",
                            "<tr><td>86</td><td>2016</td><td>4</td></tr>",
                            "<tr><td>86</td><td>2017</td><td>1</td></tr>",
                            "<tr><td>86</td><td>Részösszeg</td><td>5</td></tr>",
                            "<tr><td>87</td><td>2016</td><td>4</td></tr>",
                            "<tr><td>87</td><td>2017</td><td>1</td></tr>",
                            "<tr><td>87</td><td>Részösszeg</td><td>5</td></tr>",
                            "<tr><td>88</td><td>2016</td><td>6</td></tr>",
                            "<tr><td>88</td><td>2017</td><td>2</td></tr>",
                            "<tr><td>88</td><td>Részösszeg</td><td>8</td></tr>",
                            "<tr><td>89</td><td>2016</td><td>7</td></tr>",
                            "<tr><td>89</td><td>2017</td><td>1</td></tr>",
                            "<tr><td>89</td><td>Részösszeg</td><td>8</td></tr>",
                            "<tr><td>90</td><td>2016</td><td>4</td></tr>",
                            "<tr><td>90</td><td>Részösszeg</td><td>4</td></tr>",
                            "<tr><td>91</td><td>2016</td><td>4</td></tr>",
                            "<tr><td>91</td><td>Részösszeg</td><td>4</td></tr>",
                            "<tr><td>92</td><td>2016</td><td>4</td></tr>",
                            "<tr><td>92</td><td>2017</td><td>2</td></tr>",
                            "<tr><td>92</td><td>Részösszeg</td><td>6</td></tr>",
                            "<tr><td>93</td><td>2016</td><td>5</td></tr>",
                            "<tr><td>93</td><td>Részösszeg</td><td>5</td></tr>",
                            "<tr><td>94</td><td>2016</td><td>8</td></tr>",
                            "<tr><td>94</td><td>2017</td><td>2</td></tr>",
                            "<tr><td>94</td><td>Részösszeg</td><td>10</td></tr>",
                            "<tr><td>95</td><td>2016</td><td>3</td></tr>",
                            "<tr><td>95</td><td>2017</td><td>1</td></tr>",
                            "<tr><td>95</td><td>Részösszeg</td><td>4</td></tr>",
                            "<tr><td>96</td><td>2016</td><td>5</td></tr>",
                            "<tr><td>96</td><td>2017</td><td>2</td></tr>",
                            "<tr><td>96</td><td>Részösszeg</td><td>7</td></tr>",
                            "<tr><td>97</td><td>2016</td><td>5</td></tr>",
                            "<tr><td>97</td><td>2017</td><td>2</td></tr>",
                            "<tr><td>97</td><td>Részösszeg</td><td>7</td></tr>",
                            "<tr><td>98</td><td>2016</td><td>4</td></tr>",
                            "<tr><td>98</td><td>Részösszeg</td><td>4</td></tr>",
                            "<tr><td>99</td><td>2016</td><td>4</td></tr>",
                            "<tr><td>99</td><td>2017</td><td>1</td></tr>",
                            "<tr><td>99</td><td>Részösszeg</td><td>5</td></tr>",
                            "<tr><td>100</td><td>2016</td><td>3</td></tr>",
                            "<tr><td>100</td><td>2017</td><td>1</td></tr>",
                            "<tr><td>100</td><td>Részösszeg</td><td>4</td></tr>",
                            "<tr><td>101</td><td>2016</td><td>2</td></tr>",
                            "<tr><td>101</td><td>2017</td><td>1</td></tr>",
                            "<tr><td>101</td><td>Részösszeg</td><td>3</td></tr>",
                            "<tr><td>102</td><td>2016</td><td>2</td></tr>",
                            "<tr><td>102</td><td>Részösszeg</td><td>2</td></tr>",
                            "<tr><td>103</td><td>2016</td><td>3</td></tr>",
                            "<tr><td>103</td><td>2017</td><td>1</td></tr>",
                            "<tr><td>103</td><td>Részösszeg</td><td>4</td></tr>",
                            "<tr><td>104</td><td>2016</td><td>2</td></tr>",
                            "<tr><td>104</td><td>2017</td><td>2</td></tr>",
                            "<tr><td>104</td><td>Részösszeg</td><td>4</td></tr>",
                            "<tr><td>105</td><td>2016</td><td>1</td></tr>",
                            "<tr><td>105</td><td>2017</td><td>1</td></tr>",
                            "<tr><td>105</td><td>Részösszeg</td><td>2</td></tr>",
                            "<tr><td>106</td><td>2016</td><td>5</td></tr>",
                            "<tr><td>106</td><td>2017</td><td>1</td></tr>",
                            "<tr><td>106</td><td>Részösszeg</td><td>6</td></tr>",
                            "<tr><td>107</td><td>2016</td><td>3</td></tr>",
                            "<tr><td>107</td><td>2017</td><td>2</td></tr>",
                            "<tr><td>107</td><td>Részösszeg</td><td>5</td></tr>",
                            "<tr><td>108</td><td>2016</td><td>2</td></tr>",
                            "<tr><td>108</td><td>Részösszeg</td><td>2</td></tr>",
                            "<tr><td>109</td><td>2016</td><td>6</td></tr>",
                            "<tr><td>109</td><td>2017</td><td>1</td></tr>",
                            "<tr><td>109</td><td>Részösszeg</td><td>7</td></tr>",
                            "<tr><td>110</td><td>2016</td><td>6</td></tr>",
                            "<tr><td>110</td><td>2017</td><td>2</td></tr>",
                            "<tr><td>110</td><td>Részösszeg</td><td>8</td></tr>",
                            "<tr><td>111</td><td>2016</td><td>5</td></tr>",
                            "<tr><td>111</td><td>Részösszeg</td><td>5</td></tr>",
                            "<tr><td>112</td><td>2016</td><td>4</td></tr>",
                            "<tr><td>112</td><td>2017</td><td>1</td></tr>",
                            "<tr><td>112</td><td>Részösszeg</td><td>5</td></tr>",
                            "<tr><td>113</td><td>2016</td><td>3</td></tr>",
                            "<tr><td>113</td><td>2017</td><td>2</td></tr>",
                            "<tr><td>113</td><td>Részösszeg</td><td>5</td></tr>",
                            "<tr><td>114</td><td>2016</td><td>3</td></tr>",
                            "<tr><td>114</td><td>2017</td><td>1</td></tr>",
                            "<tr><td>114</td><td>Részösszeg</td><td>4</td></tr>",
                            "<tr><td>115</td><td>2016</td><td>5</td></tr>",
                            "<tr><td>115</td><td>2017</td><td>2</td></tr>",
                            "<tr><td>115</td><td>Részösszeg</td><td>7</td></tr>",
                            "<tr><td>116</td><td>2017</td><td>2</td></tr>",
                            "<tr><td>116</td><td>Részösszeg</td><td>2</td></tr>",
                            "<tr><td>117</td><td>2016</td><td>7</td></tr>",
                            "<tr><td>117</td><td>2017</td><td>1</td></tr>",
                            "<tr><td>117</td><td>Részösszeg</td><td>8</td></tr>",
                            "<tr><td>118</td><td>2016</td><td>5</td></tr>",
                            "<tr><td>118</td><td>2017</td><td>2</td></tr>",
                            "<tr><td>118</td><td>Részösszeg</td><td>7</td></tr>",
                            "<tr><td>119</td><td>2016</td><td>3</td></tr>",
                            "<tr><td>119</td><td>2017</td><td>2</td></tr>",
                            "<tr><td>119</td><td>Részösszeg</td><td>5</td></tr>",
                            "<tr><td>120</td><td>2016</td><td>4</td></tr>",
                            "<tr><td>120</td><td>2017</td><td>2</td></tr>",
                            "<tr><td>120</td><td>Részösszeg</td><td>6</td></tr>",
                            "<tr><td>121</td><td>2016</td><td>8</td></tr>",
                            "<tr><td>121</td><td>Részösszeg</td><td>8</td></tr>",
                            "<tr><td>122</td><td>2016</td><td>8</td></tr>",
                            "<tr><td>122</td><td>2017</td><td>1</td></tr>",
                            "<tr><td>122</td><td>Részösszeg</td><td>9</td></tr>",
                            "<tr><td>123</td><td>2016</td><td>5</td></tr>",
                            "<tr><td>123</td><td>Részösszeg</td><td>5</td></tr>",
                            "<tr><td>124</td><td>2016</td><td>4</td></tr>",
                            "<tr><td>124</td><td>2017</td><td>2</td></tr>",
                            "<tr><td>124</td><td>Részösszeg</td><td>6</td></tr>",
                            "<tr><td>125</td><td>2016</td><td>1</td></tr>",
                            "<tr><td>125</td><td>Részösszeg</td><td>1</td></tr>",
                            "<tr><td>126</td><td>2016</td><td>4</td></tr>",
                            "<tr><td>126</td><td>2017</td><td>2</td></tr>",
                            "<tr><td>126</td><td>Részösszeg</td><td>6</td></tr>",
                            "<tr><td>127</td><td>2016</td><td>6</td></tr>",
                            "<tr><td>127</td><td>2017</td><td>1</td></tr>",
                            "<tr><td>127</td><td>Részösszeg</td><td>7</td></tr>",
                            "<tr><td>128</td><td>2016</td><td>3</td></tr>",
                            "<tr><td>128</td><td>2017</td><td>2</td></tr>",
                            "<tr><td>128</td><td>Részösszeg</td><td>5</td></tr>",
                            "<tr><td>129</td><td>2016</td><td>2</td></tr>",
                            "<tr><td>129</td><td>2017</td><td>2</td></tr>",
                            "<tr><td>129</td><td>Részösszeg</td><td>4</td></tr>",
                            "<tr><td>130</td><td>2016</td><td>5</td></tr>",
                            "<tr><td>130</td><td>2017</td><td>1</td></tr>",
                            "<tr><td>130</td><td>Részösszeg</td><td>6</td></tr>",
                            "<tr><td>131</td><td>2016</td><td>4</td></tr>",
                            "<tr><td>131</td><td>2017</td><td>1</td></tr>",
                            "<tr><td>131</td><td>Részösszeg</td><td>5</td></tr>",
                            "<tr><td>132</td><td>2016</td><td>5</td></tr>",
                            "<tr><td>132</td><td>2017</td><td>1</td></tr>",
                            "<tr><td>132</td><td>Részösszeg</td><td>6</td></tr>",
                            "<tr><td>133</td><td>2016</td><td>5</td></tr>",
                            "<tr><td>133</td><td>2017</td><td>1</td></tr>",
                            "<tr><td>133</td><td>Részösszeg</td><td>6</td></tr>",
                            "<tr><td>134</td><td>2016</td><td>5</td></tr>",
                            "<tr><td>134</td><td>2017</td><td>1</td></tr>",
                            "<tr><td>134</td><td>Részösszeg</td><td>6</td></tr>",
                            "<tr><td>135</td><td>2016</td><td>3</td></tr>",
                            "<tr><td>135</td><td>Részösszeg</td><td>3</td></tr>",
                            "<tr><td>136</td><td>2016</td><td>3</td></tr>",
                            "<tr><td>136</td><td>Részösszeg</td><td>3</td></tr>",
                            "<tr><td>137</td><td>2016</td><td>6</td></tr>",
                            "<tr><td>137</td><td>Részösszeg</td><td>6</td></tr>",
                            "<tr><td>138</td><td>2016</td><td>7</td></tr>",
                            "<tr><td>138</td><td>Részösszeg</td><td>7</td></tr>",
                            "<tr><td>139</td><td>2016</td><td>5</td></tr>",
                            "<tr><td>139</td><td>2017</td><td>2</td></tr>",
                            "<tr><td>139</td><td>Részösszeg</td><td>7</td></tr>",
                            "<tr><td>140</td><td>2016</td><td>8</td></tr>",
                            "<tr><td>140</td><td>Részösszeg</td><td>8</td></tr>",
                            "<tr><td>141</td><td>2016</td><td>6</td></tr>",
                            "<tr><td>141</td><td>Részösszeg</td><td>6</td></tr>",
                            "<tr><td>142</td><td>2016</td><td>1</td></tr>",
                            "<tr><td>142</td><td>2017</td><td>1</td></tr>",
                            "<tr><td>142</td><td>Részösszeg</td><td>2</td></tr>",
                            "<tr><td>143</td><td>2016</td><td>6</td></tr>",
                            "<tr><td>143</td><td>2017</td><td>1</td></tr>",
                            "<tr><td>143</td><td>Részösszeg</td><td>7</td></tr>",
                            "<tr><td>144</td><td>2016</td><td>4</td></tr>",
                            "<tr><td>144</td><td>2017</td><td>1</td></tr>",
                            "<tr><td>144</td><td>Részösszeg</td><td>5</td></tr>",
                            "<tr><td>145</td><td>2016</td><td>5</td></tr>",
                            "<tr><td>145</td><td>2017</td><td>1</td></tr>",
                            "<tr><td>145</td><td>Részösszeg</td><td>6</td></tr>",
                            "<tr><td>146</td><td>2016</td><td>5</td></tr>",
                            "<tr><td>146</td><td>2017</td><td>1</td></tr>",
                            "<tr><td>146</td><td>Részösszeg</td><td>6</td></tr>",
                            "<tr><td>147</td><td>2016</td><td>1</td></tr>",
                            "<tr><td>147</td><td>Részösszeg</td><td>1</td></tr>",
                            "<tr><td>148</td><td>2016</td><td>5</td></tr>",
                            "<tr><td>148</td><td>2017</td><td>1</td></tr>",
                            "<tr><td>148</td><td>Részösszeg</td><td>6</td></tr>",
                            "<tr><td>149</td><td>2016</td><td>6</td></tr>",
                            "<tr><td>149</td><td>2017</td><td>1</td></tr>",
                            "<tr><td>149</td><td>Részösszeg</td><td>7</td></tr>",
                            "<tr><td>150</td><td>2016</td><td>5</td></tr>",
                            "<tr><td>150</td><td>2017</td><td>1</td></tr>",
                            "<tr><td>150</td><td>Részösszeg</td><td>6</td></tr>",
                            "<tr><td>151</td><td>2016</td><td>3</td></tr>",
                            "<tr><td>151</td><td>Részösszeg</td><td>3</td></tr>",
                            "<tr><td>152</td><td>2016</td><td>3</td></tr>",
                            "<tr><td>152</td><td>2017</td><td>1</td></tr>",
                            "<tr><td>152</td><td>Részösszeg</td><td>4</td></tr>",
                            "<tr><td>153</td><td>2016</td><td>2</td></tr>",
                            "<tr><td>153</td><td>2017</td><td>3</td></tr>",
                            "<tr><td>153</td><td>Részösszeg</td><td>5</td></tr>",
                            "<tr><td>154</td><td>2016</td><td>4</td></tr>",
                            "<tr><td>154</td><td>2017</td><td>1</td></tr>",
                            "<tr><td>154</td><td>Részösszeg</td><td>5</td></tr>",
                            "<tr><td>155</td><td>2016</td><td>4</td></tr>",
                            "<tr><td>155</td><td>2017</td><td>1</td></tr>",
                            "<tr><td>155</td><td>Részösszeg</td><td>5</td></tr>",
                            "<tr><td>156</td><td>2016</td><td>4</td></tr>",
                            "<tr><td>156</td><td>2017</td><td>3</td></tr>",
                            "<tr><td>156</td><td>Részösszeg</td><td>7</td></tr>",
                            "<tr><td>157</td><td>2016</td><td>4</td></tr>",
                            "<tr><td>157</td><td>2017</td><td>1</td></tr>",
                            "<tr><td>157</td><td>Részösszeg</td><td>5</td></tr>",
                            "<tr><td>158</td><td>2016</td><td>3</td></tr>",
                            "<tr><td>158</td><td>Részösszeg</td><td>3</td></tr>",
                            "<tr><td>160</td><td>2016</td><td>4</td></tr>",
                            "<tr><td>160</td><td>2017</td><td>1</td></tr>",
                            "<tr><td>160</td><td>Részösszeg</td><td>5</td></tr>",
                            "<tr><td>161</td><td>2016</td><td>5</td></tr>",
                            "<tr><td>161</td><td>2017</td><td>1</td></tr>",
                            "<tr><td>161</td><td>Részösszeg</td><td>6</td></tr>",
                            "<tr><td>162</td><td>2016</td><td>3</td></tr>",
                            "<tr><td>162</td><td>Részösszeg</td><td>3</td></tr>",
                            "<tr><td>163</td><td>2016</td><td>6</td></tr>",
                            "<tr><td>163</td><td>2017</td><td>1</td></tr>",
                            "<tr><td>163</td><td>Részösszeg</td><td>7</td></tr>",
                            "<tr><td>164</td><td>2016</td><td>5</td></tr>",
                            "<tr><td>164</td><td>Részösszeg</td><td>5</td></tr>",
                            "<tr><td>165</td><td>2016</td><td>7</td></tr>",
                            "<tr><td>165</td><td>Részösszeg</td><td>7</td></tr>",
                            "<tr><td>166</td><td>2016</td><td>2</td></tr>",
                            "<tr><td>166</td><td>2017</td><td>1</td></tr>",
                            "<tr><td>166</td><td>Részösszeg</td><td>3</td></tr>",
                            "<tr><td>167</td><td>2016</td><td>1</td></tr>",
                            "<tr><td>167</td><td>2017</td><td>1</td></tr>",
                            "<tr><td>167</td><td>Részösszeg</td><td>2</td></tr>",
                            "<tr><td>168</td><td>2016</td><td>5</td></tr>",
                            "<tr><td>168</td><td>Részösszeg</td><td>5</td></tr>",
                            "<tr><td>169</td><td>2016</td><td>5</td></tr>",
                            "<tr><td>169</td><td>2017</td><td>1</td></tr>",
                            "<tr><td>169</td><td>Részösszeg</td><td>6</td></tr>",
                            "<tr><td>170</td><td>2016</td><td>5</td></tr>",
                            "<tr><td>170</td><td>Részösszeg</td><td>5</td></tr>",
                            "<tr><td>171</td><td>2016</td><td>4</td></tr>",
                            "<tr><td>171</td><td>2017</td><td>1</td></tr>",
                            "<tr><td>171</td><td>Részösszeg</td><td>5</td></tr>",
                            "<tr><td>172</td><td>2016</td><td>7</td></tr>",
                            "<tr><td>172</td><td>2017</td><td>2</td></tr>",
                            "<tr><td>172</td><td>Részösszeg</td><td>9</td></tr>",
                            "<tr><td>173</td><td>2016</td><td>3</td></tr>",
                            "<tr><td>173</td><td>2017</td><td>1</td></tr>",
                            "<tr><td>173</td><td>Részösszeg</td><td>4</td></tr>",
                            "<tr><td>174</td><td>2016</td><td>4</td></tr>",
                            "<tr><td>174</td><td>Részösszeg</td><td>4</td></tr>",
                            "<tr><td>175</td><td>2016</td><td>5</td></tr>",
                            "<tr><td>175</td><td>Részösszeg</td><td>5</td></tr>",
                            "<tr><td>176</td><td>2016</td><td>4</td></tr>",
                            "<tr><td>176</td><td>2017</td><td>2</td></tr>",
                            "<tr><td>176</td><td>Részösszeg</td><td>6</td></tr>",
                            "<tr><td>177</td><td>2016</td><td>3</td></tr>",
                            "<tr><td>177</td><td>2017</td><td>1</td></tr>",
                            "<tr><td>177</td><td>Részösszeg</td><td>4</td></tr>",
                            "<tr><td>178</td><td>2016</td><td>4</td></tr>",
                            "<tr><td>178</td><td>Részösszeg</td><td>4</td></tr>",
                            "<tr><td>179</td><td>2016</td><td>2</td></tr>",
                            "<tr><td>179</td><td>2017</td><td>1</td></tr>",
                            "<tr><td>179</td><td>Részösszeg</td><td>3</td></tr>",
                            "<tr><td>180</td><td>2016</td><td>1</td></tr>",
                            "<tr><td>180</td><td>2017</td><td>2</td></tr>",
                            "<tr><td>180</td><td>Részösszeg</td><td>3</td></tr>",
                            "<tr><td>181</td><td>2016</td><td>6</td></tr>",
                            "<tr><td>181</td><td>Részösszeg</td><td>6</td></tr>",
                            "<tr><td>182</td><td>2016</td><td>10</td></tr>",
                            "<tr><td>182</td><td>2017</td><td>2</td></tr>",
                            "<tr><td>182</td><td>Részösszeg</td><td>12</td></tr>",
                            "<tr><td>183</td><td>2016</td><td>3</td></tr>",
                            "<tr><td>183</td><td>2017</td><td>1</td></tr>",
                            "<tr><td>183</td><td>Részösszeg</td><td>4</td></tr>",
                            "<tr><td>184</td><td>2016</td><td>4</td></tr>",
                            "<tr><td>184</td><td>Részösszeg</td><td>4</td></tr>",
                            "<tr><td>185</td><td>2016</td><td>10</td></tr>",
                            "<tr><td>185</td><td>2017</td><td>2</td></tr>",
                            "<tr><td>185</td><td>Részösszeg</td><td>12</td></tr>",
                            "<tr><td>186</td><td>2016</td><td>3</td></tr>",
                            "<tr><td>186</td><td>2017</td><td>1</td></tr>",
                            "<tr><td>186</td><td>Részösszeg</td><td>4</td></tr>",
                            "<tr><td>187</td><td>2016</td><td>7</td></tr>",
                            "<tr><td>187</td><td>Részösszeg</td><td>7</td></tr>",
                            "<tr><td>188</td><td>2016</td><td>6</td></tr>",
                            "<tr><td>188</td><td>Részösszeg</td><td>6</td></tr>",
                            "<tr><td>189</td><td>2016</td><td>3</td></tr>",
                            "<tr><td>189</td><td>2017</td><td>2</td></tr>",
                            "<tr><td>189</td><td>Részösszeg</td><td>5</td></tr>",
                            "<tr><td>190</td><td>2016</td><td>4</td></tr>",
                            "<tr><td>190</td><td>2017</td><td>1</td></tr>",
                            "<tr><td>190</td><td>Részösszeg</td><td>5</td></tr>",
                            "<tr><td>191</td><td>2016</td><td>3</td></tr>",
                            "<tr><td>191</td><td>2017</td><td>2</td></tr>",
                            "<tr><td>191</td><td>Részösszeg</td><td>5</td></tr>",
                            "<tr><td>192</td><td>2016</td><td>2</td></tr>",
                            "<tr><td>192</td><td>Részösszeg</td><td>2</td></tr>",
                            "<tr><td>193</td><td>2016</td><td>7</td></tr>",
                            "<tr><td>193</td><td>Részösszeg</td><td>7</td></tr>",
                            "<tr><td>194</td><td>2016</td><td>1</td></tr>",
                            "<tr><td>194</td><td>Részösszeg</td><td>1</td></tr>",
                            "<tr><td>195</td><td>2016</td><td>4</td></tr>",
                            "<tr><td>195</td><td>2017</td><td>2</td></tr>",
                            "<tr><td>195</td><td>Részösszeg</td><td>6</td></tr>",
                            "<tr><td>196</td><td>2016</td><td>4</td></tr>",
                            "<tr><td>196</td><td>Részösszeg</td><td>4</td></tr>",
                            "<tr><td>197</td><td>2016</td><td>6</td></tr>",
                            "<tr><td>197</td><td>Részösszeg</td><td>6</td></tr>",
                            "<tr><td>198</td><td>2016</td><td>7</td></tr>",
                            "<tr><td>198</td><td>2017</td><td>1</td></tr>",
                            "<tr><td>198</td><td>Részösszeg</td><td>8</td></tr>",
                            "<tr><td>Összesen</td><td>Részösszeg</td><td>1027</td></tr>",
                            "</table>"
                        ]
                    }
                }
            ],
            "execution_count": 6
        },
        {
            "cell_type": "markdown",
            "source": [
                "Rangsoroljuk az egyes szobákat a foglalások száma, azon belül férőhely szerint!\n",
                "\n",
                "- Holtverseny esetén a sorszámok sűrűn kövessék egymást\n",
                "- Az 1-es számot a legtöbbet foglalt, azon belül legkevesebb férőhelyű szoba kapja\n",
                "- Csak a szoba azonosítója, a férőhely és a helyezés jelenjen meg"
            ],
            "metadata": {
                "azdata_cell_guid": "de47d5dd-362b-4734-af43-e576b563f30f"
            },
            "attachments": {}
        },
        {
            "cell_type": "code",
            "source": [
                "SELECT sz.SZOBA_id as 'SzobaID',\r\n",
                "        sz.FEROHELY as 'Férőhely',\r\n",
                "        DENSE_RANK() OVER(ORDER BY  COUNT(*) DESC, FEROHELY) as 'Rangsor'\r\n",
                "FROM Szoba sz JOIN Foglalas f ON sz.SZOBA_ID = f.SZOBA_FK\r\n",
                "GROUP BY sz.SZOBA_id, sz.FEROHELY\r\n",
                "     "
            ],
            "metadata": {
                "azdata_cell_guid": "c1a23483-fc6e-41f0-88b5-ad1bef99132d",
                "language": "sql",
                "tags": []
            },
            "outputs": [
                {
                    "output_type": "display_data",
                    "data": {
                        "text/html": "(197 rows affected)"
                    },
                    "metadata": {}
                },
                {
                    "output_type": "display_data",
                    "data": {
                        "text/html": "Total execution time: 00:00:00.058"
                    },
                    "metadata": {}
                },
                {
                    "output_type": "execute_result",
                    "metadata": {},
                    "execution_count": 8,
                    "data": {
                        "application/vnd.dataresource+json": {
                            "schema": {
                                "fields": [
                                    {
                                        "name": "SzobaID"
                                    },
                                    {
                                        "name": "Férőhely"
                                    },
                                    {
                                        "name": "Rangsor"
                                    }
                                ]
                            },
                            "data": [
                                {
                                    "SzobaID": "58",
                                    "Férőhely": "2",
                                    "Rangsor": "1"
                                },
                                {
                                    "SzobaID": "182",
                                    "Férőhely": "2",
                                    "Rangsor": "2"
                                },
                                {
                                    "SzobaID": "185",
                                    "Férőhely": "3",
                                    "Rangsor": "3"
                                },
                                {
                                    "SzobaID": "70",
                                    "Férőhely": "2",
                                    "Rangsor": "4"
                                },
                                {
                                    "SzobaID": "94",
                                    "Férőhely": "2",
                                    "Rangsor": "5"
                                },
                                {
                                    "SzobaID": "12",
                                    "Férőhely": "2",
                                    "Rangsor": "6"
                                },
                                {
                                    "SzobaID": "172",
                                    "Férőhely": "2",
                                    "Rangsor": "6"
                                },
                                {
                                    "SzobaID": "35",
                                    "Férőhely": "3",
                                    "Rangsor": "7"
                                },
                                {
                                    "SzobaID": "48",
                                    "Férőhely": "3",
                                    "Rangsor": "7"
                                },
                                {
                                    "SzobaID": "74",
                                    "Férőhely": "3",
                                    "Rangsor": "7"
                                },
                                {
                                    "SzobaID": "122",
                                    "Férőhely": "3",
                                    "Rangsor": "7"
                                },
                                {
                                    "SzobaID": "121",
                                    "Férőhely": "2",
                                    "Rangsor": "8"
                                },
                                {
                                    "SzobaID": "140",
                                    "Férőhely": "2",
                                    "Rangsor": "8"
                                },
                                {
                                    "SzobaID": "110",
                                    "Férőhely": "2",
                                    "Rangsor": "8"
                                },
                                {
                                    "SzobaID": "55",
                                    "Férőhely": "2",
                                    "Rangsor": "8"
                                },
                                {
                                    "SzobaID": "38",
                                    "Férőhely": "2",
                                    "Rangsor": "8"
                                },
                                {
                                    "SzobaID": "1",
                                    "Férőhely": "3",
                                    "Rangsor": "9"
                                },
                                {
                                    "SzobaID": "3",
                                    "Férőhely": "3",
                                    "Rangsor": "9"
                                },
                                {
                                    "SzobaID": "43",
                                    "Férőhely": "3",
                                    "Rangsor": "9"
                                },
                                {
                                    "SzobaID": "83",
                                    "Férőhely": "3",
                                    "Rangsor": "9"
                                },
                                {
                                    "SzobaID": "88",
                                    "Férőhely": "3",
                                    "Rangsor": "9"
                                },
                                {
                                    "SzobaID": "89",
                                    "Férőhely": "3",
                                    "Rangsor": "9"
                                },
                                {
                                    "SzobaID": "117",
                                    "Férőhely": "3",
                                    "Rangsor": "9"
                                },
                                {
                                    "SzobaID": "198",
                                    "Férőhely": "3",
                                    "Rangsor": "9"
                                },
                                {
                                    "SzobaID": "149",
                                    "Férőhely": "2",
                                    "Rangsor": "10"
                                },
                                {
                                    "SzobaID": "156",
                                    "Férőhely": "2",
                                    "Rangsor": "10"
                                },
                                {
                                    "SzobaID": "163",
                                    "Férőhely": "2",
                                    "Rangsor": "10"
                                },
                                {
                                    "SzobaID": "165",
                                    "Férőhely": "2",
                                    "Rangsor": "10"
                                },
                                {
                                    "SzobaID": "118",
                                    "Férőhely": "2",
                                    "Rangsor": "10"
                                },
                                {
                                    "SzobaID": "109",
                                    "Férőhely": "2",
                                    "Rangsor": "10"
                                },
                                {
                                    "SzobaID": "127",
                                    "Férőhely": "2",
                                    "Rangsor": "10"
                                },
                                {
                                    "SzobaID": "139",
                                    "Férőhely": "2",
                                    "Rangsor": "10"
                                },
                                {
                                    "SzobaID": "80",
                                    "Férőhely": "2",
                                    "Rangsor": "10"
                                },
                                {
                                    "SzobaID": "59",
                                    "Férőhely": "2",
                                    "Rangsor": "10"
                                },
                                {
                                    "SzobaID": "39",
                                    "Férőhely": "2",
                                    "Rangsor": "10"
                                },
                                {
                                    "SzobaID": "27",
                                    "Férőhely": "3",
                                    "Rangsor": "11"
                                },
                                {
                                    "SzobaID": "49",
                                    "Férőhely": "3",
                                    "Rangsor": "11"
                                },
                                {
                                    "SzobaID": "96",
                                    "Férőhely": "3",
                                    "Rangsor": "11"
                                },
                                {
                                    "SzobaID": "97",
                                    "Férőhely": "3",
                                    "Rangsor": "11"
                                },
                                {
                                    "SzobaID": "138",
                                    "Férőhely": "3",
                                    "Rangsor": "11"
                                },
                                {
                                    "SzobaID": "143",
                                    "Férőhely": "3",
                                    "Rangsor": "11"
                                },
                                {
                                    "SzobaID": "115",
                                    "Férőhely": "3",
                                    "Rangsor": "11"
                                },
                                {
                                    "SzobaID": "187",
                                    "Férőhely": "3",
                                    "Rangsor": "11"
                                },
                                {
                                    "SzobaID": "193",
                                    "Férőhely": "3",
                                    "Rangsor": "11"
                                },
                                {
                                    "SzobaID": "195",
                                    "Férőhely": "2",
                                    "Rangsor": "12"
                                },
                                {
                                    "SzobaID": "161",
                                    "Férőhely": "2",
                                    "Rangsor": "12"
                                },
                                {
                                    "SzobaID": "150",
                                    "Férőhely": "2",
                                    "Rangsor": "12"
                                },
                                {
                                    "SzobaID": "148",
                                    "Férőhely": "2",
                                    "Rangsor": "12"
                                },
                                {
                                    "SzobaID": "169",
                                    "Férőhely": "2",
                                    "Rangsor": "12"
                                },
                                {
                                    "SzobaID": "106",
                                    "Férőhely": "2",
                                    "Rangsor": "12"
                                },
                                {
                                    "SzobaID": "126",
                                    "Férőhely": "2",
                                    "Rangsor": "12"
                                },
                                {
                                    "SzobaID": "145",
                                    "Férőhely": "2",
                                    "Rangsor": "12"
                                },
                                {
                                    "SzobaID": "141",
                                    "Férőhely": "2",
                                    "Rangsor": "12"
                                },
                                {
                                    "SzobaID": "130",
                                    "Férőhely": "2",
                                    "Rangsor": "12"
                                },
                                {
                                    "SzobaID": "137",
                                    "Férőhely": "2",
                                    "Rangsor": "12"
                                },
                                {
                                    "SzobaID": "78",
                                    "Férőhely": "2",
                                    "Rangsor": "12"
                                },
                                {
                                    "SzobaID": "42",
                                    "Férőhely": "2",
                                    "Rangsor": "12"
                                },
                                {
                                    "SzobaID": "64",
                                    "Férőhely": "2",
                                    "Rangsor": "12"
                                },
                                {
                                    "SzobaID": "67",
                                    "Férőhely": "2",
                                    "Rangsor": "12"
                                },
                                {
                                    "SzobaID": "28",
                                    "Férőhely": "2",
                                    "Rangsor": "12"
                                },
                                {
                                    "SzobaID": "29",
                                    "Férőhely": "2",
                                    "Rangsor": "12"
                                },
                                {
                                    "SzobaID": "19",
                                    "Férőhely": "2",
                                    "Rangsor": "12"
                                },
                                {
                                    "SzobaID": "33",
                                    "Férőhely": "2",
                                    "Rangsor": "12"
                                },
                                {
                                    "SzobaID": "4",
                                    "Férőhely": "2",
                                    "Rangsor": "12"
                                },
                                {
                                    "SzobaID": "7",
                                    "Férőhely": "2",
                                    "Rangsor": "12"
                                },
                                {
                                    "SzobaID": "15",
                                    "Férőhely": "2",
                                    "Rangsor": "12"
                                },
                                {
                                    "SzobaID": "17",
                                    "Férőhely": "3",
                                    "Rangsor": "13"
                                },
                                {
                                    "SzobaID": "18",
                                    "Férőhely": "3",
                                    "Rangsor": "13"
                                },
                                {
                                    "SzobaID": "6",
                                    "Férőhely": "3",
                                    "Rangsor": "13"
                                },
                                {
                                    "SzobaID": "9",
                                    "Férőhely": "3",
                                    "Rangsor": "13"
                                },
                                {
                                    "SzobaID": "22",
                                    "Férőhely": "3",
                                    "Rangsor": "13"
                                },
                                {
                                    "SzobaID": "36",
                                    "Férőhely": "3",
                                    "Rangsor": "13"
                                },
                                {
                                    "SzobaID": "44",
                                    "Férőhely": "3",
                                    "Rangsor": "13"
                                },
                                {
                                    "SzobaID": "54",
                                    "Férőhely": "3",
                                    "Rangsor": "13"
                                },
                                {
                                    "SzobaID": "77",
                                    "Férőhely": "3",
                                    "Rangsor": "13"
                                },
                                {
                                    "SzobaID": "82",
                                    "Férőhely": "3",
                                    "Rangsor": "13"
                                },
                                {
                                    "SzobaID": "92",
                                    "Férőhely": "3",
                                    "Rangsor": "13"
                                },
                                {
                                    "SzobaID": "132",
                                    "Férőhely": "3",
                                    "Rangsor": "13"
                                },
                                {
                                    "SzobaID": "133",
                                    "Férőhely": "3",
                                    "Rangsor": "13"
                                },
                                {
                                    "SzobaID": "134",
                                    "Férőhely": "3",
                                    "Rangsor": "13"
                                },
                                {
                                    "SzobaID": "146",
                                    "Férőhely": "3",
                                    "Rangsor": "13"
                                },
                                {
                                    "SzobaID": "124",
                                    "Férőhely": "3",
                                    "Rangsor": "13"
                                },
                                {
                                    "SzobaID": "120",
                                    "Férőhely": "3",
                                    "Rangsor": "13"
                                },
                                {
                                    "SzobaID": "176",
                                    "Férőhely": "3",
                                    "Rangsor": "13"
                                },
                                {
                                    "SzobaID": "181",
                                    "Férőhely": "3",
                                    "Rangsor": "13"
                                },
                                {
                                    "SzobaID": "188",
                                    "Férőhely": "3",
                                    "Rangsor": "13"
                                },
                                {
                                    "SzobaID": "197",
                                    "Férőhely": "3",
                                    "Rangsor": "13"
                                },
                                {
                                    "SzobaID": "189",
                                    "Férőhely": "2",
                                    "Rangsor": "14"
                                },
                                {
                                    "SzobaID": "190",
                                    "Férőhely": "2",
                                    "Rangsor": "14"
                                },
                                {
                                    "SzobaID": "191",
                                    "Férőhely": "2",
                                    "Rangsor": "14"
                                },
                                {
                                    "SzobaID": "168",
                                    "Férőhely": "2",
                                    "Rangsor": "14"
                                },
                                {
                                    "SzobaID": "175",
                                    "Férőhely": "2",
                                    "Rangsor": "14"
                                },
                                {
                                    "SzobaID": "170",
                                    "Férőhely": "2",
                                    "Rangsor": "14"
                                },
                                {
                                    "SzobaID": "171",
                                    "Férőhely": "2",
                                    "Rangsor": "14"
                                },
                                {
                                    "SzobaID": "157",
                                    "Férőhely": "2",
                                    "Rangsor": "14"
                                },
                                {
                                    "SzobaID": "154",
                                    "Férőhely": "2",
                                    "Rangsor": "14"
                                },
                                {
                                    "SzobaID": "164",
                                    "Férőhely": "2",
                                    "Rangsor": "14"
                                },
                                {
                                    "SzobaID": "119",
                                    "Férőhely": "2",
                                    "Rangsor": "14"
                                },
                                {
                                    "SzobaID": "107",
                                    "Férőhely": "2",
                                    "Rangsor": "14"
                                },
                                {
                                    "SzobaID": "128",
                                    "Férőhely": "2",
                                    "Rangsor": "14"
                                },
                                {
                                    "SzobaID": "131",
                                    "Férőhely": "2",
                                    "Rangsor": "14"
                                },
                                {
                                    "SzobaID": "99",
                                    "Férőhely": "2",
                                    "Rangsor": "14"
                                },
                                {
                                    "SzobaID": "111",
                                    "Férőhely": "2",
                                    "Rangsor": "14"
                                },
                                {
                                    "SzobaID": "81",
                                    "Férőhely": "2",
                                    "Rangsor": "14"
                                },
                                {
                                    "SzobaID": "86",
                                    "Férőhely": "2",
                                    "Rangsor": "14"
                                },
                                {
                                    "SzobaID": "52",
                                    "Férőhely": "2",
                                    "Rangsor": "14"
                                },
                                {
                                    "SzobaID": "45",
                                    "Férőhely": "2",
                                    "Rangsor": "14"
                                },
                                {
                                    "SzobaID": "62",
                                    "Férőhely": "2",
                                    "Rangsor": "14"
                                },
                                {
                                    "SzobaID": "61",
                                    "Férőhely": "3",
                                    "Rangsor": "15"
                                },
                                {
                                    "SzobaID": "51",
                                    "Férőhely": "3",
                                    "Rangsor": "15"
                                },
                                {
                                    "SzobaID": "20",
                                    "Férőhely": "3",
                                    "Rangsor": "15"
                                },
                                {
                                    "SzobaID": "8",
                                    "Férőhely": "3",
                                    "Rangsor": "15"
                                },
                                {
                                    "SzobaID": "16",
                                    "Férőhely": "3",
                                    "Rangsor": "15"
                                },
                                {
                                    "SzobaID": "87",
                                    "Férőhely": "3",
                                    "Rangsor": "15"
                                },
                                {
                                    "SzobaID": "79",
                                    "Férőhely": "3",
                                    "Rangsor": "15"
                                },
                                {
                                    "SzobaID": "112",
                                    "Férőhely": "3",
                                    "Rangsor": "15"
                                },
                                {
                                    "SzobaID": "113",
                                    "Férőhely": "3",
                                    "Rangsor": "15"
                                },
                                {
                                    "SzobaID": "93",
                                    "Férőhely": "3",
                                    "Rangsor": "15"
                                },
                                {
                                    "SzobaID": "144",
                                    "Férőhely": "3",
                                    "Rangsor": "15"
                                },
                                {
                                    "SzobaID": "123",
                                    "Férőhely": "3",
                                    "Rangsor": "15"
                                },
                                {
                                    "SzobaID": "153",
                                    "Férőhely": "3",
                                    "Rangsor": "15"
                                },
                                {
                                    "SzobaID": "160",
                                    "Férőhely": "3",
                                    "Rangsor": "15"
                                },
                                {
                                    "SzobaID": "155",
                                    "Férőhely": "3",
                                    "Rangsor": "15"
                                },
                                {
                                    "SzobaID": "152",
                                    "Férőhely": "2",
                                    "Rangsor": "16"
                                },
                                {
                                    "SzobaID": "173",
                                    "Férőhely": "2",
                                    "Rangsor": "16"
                                },
                                {
                                    "SzobaID": "174",
                                    "Férőhely": "2",
                                    "Rangsor": "16"
                                },
                                {
                                    "SzobaID": "186",
                                    "Férőhely": "2",
                                    "Rangsor": "16"
                                },
                                {
                                    "SzobaID": "196",
                                    "Férőhely": "2",
                                    "Rangsor": "16"
                                },
                                {
                                    "SzobaID": "184",
                                    "Férőhely": "2",
                                    "Rangsor": "16"
                                },
                                {
                                    "SzobaID": "129",
                                    "Férőhely": "2",
                                    "Rangsor": "16"
                                },
                                {
                                    "SzobaID": "100",
                                    "Férőhely": "2",
                                    "Rangsor": "16"
                                },
                                {
                                    "SzobaID": "114",
                                    "Férőhely": "2",
                                    "Rangsor": "16"
                                },
                                {
                                    "SzobaID": "98",
                                    "Férőhely": "2",
                                    "Rangsor": "16"
                                },
                                {
                                    "SzobaID": "103",
                                    "Férőhely": "2",
                                    "Rangsor": "16"
                                },
                                {
                                    "SzobaID": "85",
                                    "Férőhely": "2",
                                    "Rangsor": "16"
                                },
                                {
                                    "SzobaID": "91",
                                    "Férőhely": "2",
                                    "Rangsor": "16"
                                },
                                {
                                    "SzobaID": "11",
                                    "Férőhely": "2",
                                    "Rangsor": "16"
                                },
                                {
                                    "SzobaID": "5",
                                    "Férőhely": "2",
                                    "Rangsor": "16"
                                },
                                {
                                    "SzobaID": "21",
                                    "Férőhely": "2",
                                    "Rangsor": "16"
                                },
                                {
                                    "SzobaID": "50",
                                    "Férőhely": "2",
                                    "Rangsor": "16"
                                },
                                {
                                    "SzobaID": "57",
                                    "Férőhely": "2",
                                    "Rangsor": "16"
                                },
                                {
                                    "SzobaID": "63",
                                    "Férőhely": "2",
                                    "Rangsor": "16"
                                },
                                {
                                    "SzobaID": "72",
                                    "Férőhely": "2",
                                    "Rangsor": "16"
                                },
                                {
                                    "SzobaID": "73",
                                    "Férőhely": "2",
                                    "Rangsor": "16"
                                },
                                {
                                    "SzobaID": "66",
                                    "Férőhely": "3",
                                    "Rangsor": "17"
                                },
                                {
                                    "SzobaID": "69",
                                    "Férőhely": "3",
                                    "Rangsor": "17"
                                },
                                {
                                    "SzobaID": "46",
                                    "Férőhely": "3",
                                    "Rangsor": "17"
                                },
                                {
                                    "SzobaID": "34",
                                    "Férőhely": "3",
                                    "Rangsor": "17"
                                },
                                {
                                    "SzobaID": "40",
                                    "Férőhely": "3",
                                    "Rangsor": "17"
                                },
                                {
                                    "SzobaID": "2",
                                    "Férőhely": "3",
                                    "Rangsor": "17"
                                },
                                {
                                    "SzobaID": "10",
                                    "Férőhely": "3",
                                    "Rangsor": "17"
                                },
                                {
                                    "SzobaID": "13",
                                    "Férőhely": "3",
                                    "Rangsor": "17"
                                },
                                {
                                    "SzobaID": "90",
                                    "Férőhely": "3",
                                    "Rangsor": "17"
                                },
                                {
                                    "SzobaID": "84",
                                    "Férőhely": "3",
                                    "Rangsor": "17"
                                },
                                {
                                    "SzobaID": "104",
                                    "Férőhely": "3",
                                    "Rangsor": "17"
                                },
                                {
                                    "SzobaID": "95",
                                    "Férőhely": "3",
                                    "Rangsor": "17"
                                },
                                {
                                    "SzobaID": "183",
                                    "Férőhely": "3",
                                    "Rangsor": "17"
                                },
                                {
                                    "SzobaID": "177",
                                    "Férőhely": "3",
                                    "Rangsor": "17"
                                },
                                {
                                    "SzobaID": "178",
                                    "Férőhely": "3",
                                    "Rangsor": "17"
                                },
                                {
                                    "SzobaID": "180",
                                    "Férőhely": "2",
                                    "Rangsor": "18"
                                },
                                {
                                    "SzobaID": "151",
                                    "Férőhely": "2",
                                    "Rangsor": "18"
                                },
                                {
                                    "SzobaID": "158",
                                    "Férőhely": "2",
                                    "Rangsor": "18"
                                },
                                {
                                    "SzobaID": "166",
                                    "Férőhely": "2",
                                    "Rangsor": "18"
                                },
                                {
                                    "SzobaID": "101",
                                    "Férőhely": "2",
                                    "Rangsor": "18"
                                },
                                {
                                    "SzobaID": "75",
                                    "Férőhely": "2",
                                    "Rangsor": "18"
                                },
                                {
                                    "SzobaID": "76",
                                    "Férőhely": "2",
                                    "Rangsor": "18"
                                },
                                {
                                    "SzobaID": "136",
                                    "Férőhely": "2",
                                    "Rangsor": "18"
                                },
                                {
                                    "SzobaID": "23",
                                    "Férőhely": "2",
                                    "Rangsor": "18"
                                },
                                {
                                    "SzobaID": "37",
                                    "Férőhely": "2",
                                    "Rangsor": "18"
                                },
                                {
                                    "SzobaID": "68",
                                    "Férőhely": "2",
                                    "Rangsor": "18"
                                },
                                {
                                    "SzobaID": "71",
                                    "Férőhely": "3",
                                    "Rangsor": "19"
                                },
                                {
                                    "SzobaID": "30",
                                    "Férőhely": "3",
                                    "Rangsor": "19"
                                },
                                {
                                    "SzobaID": "31",
                                    "Férőhely": "3",
                                    "Rangsor": "19"
                                },
                                {
                                    "SzobaID": "14",
                                    "Férőhely": "3",
                                    "Rangsor": "19"
                                },
                                {
                                    "SzobaID": "135",
                                    "Férőhely": "3",
                                    "Rangsor": "19"
                                },
                                {
                                    "SzobaID": "162",
                                    "Férőhely": "3",
                                    "Rangsor": "19"
                                },
                                {
                                    "SzobaID": "179",
                                    "Férőhely": "3",
                                    "Rangsor": "19"
                                },
                                {
                                    "SzobaID": "24",
                                    "Férőhely": "4",
                                    "Rangsor": "20"
                                },
                                {
                                    "SzobaID": "26",
                                    "Férőhely": "2",
                                    "Rangsor": "21"
                                },
                                {
                                    "SzobaID": "47",
                                    "Férőhely": "2",
                                    "Rangsor": "21"
                                },
                                {
                                    "SzobaID": "53",
                                    "Férőhely": "2",
                                    "Rangsor": "21"
                                },
                                {
                                    "SzobaID": "56",
                                    "Férőhely": "2",
                                    "Rangsor": "21"
                                },
                                {
                                    "SzobaID": "108",
                                    "Férőhely": "2",
                                    "Rangsor": "21"
                                },
                                {
                                    "SzobaID": "102",
                                    "Férőhely": "2",
                                    "Rangsor": "21"
                                },
                                {
                                    "SzobaID": "105",
                                    "Férőhely": "2",
                                    "Rangsor": "21"
                                },
                                {
                                    "SzobaID": "192",
                                    "Férőhely": "2",
                                    "Rangsor": "21"
                                },
                                {
                                    "SzobaID": "167",
                                    "Férőhely": "3",
                                    "Rangsor": "22"
                                },
                                {
                                    "SzobaID": "116",
                                    "Férőhely": "3",
                                    "Rangsor": "22"
                                },
                                {
                                    "SzobaID": "142",
                                    "Férőhely": "3",
                                    "Rangsor": "22"
                                },
                                {
                                    "SzobaID": "25",
                                    "Férőhely": "3",
                                    "Rangsor": "22"
                                },
                                {
                                    "SzobaID": "41",
                                    "Férőhely": "3",
                                    "Rangsor": "22"
                                },
                                {
                                    "SzobaID": "32",
                                    "Férőhely": "2",
                                    "Rangsor": "23"
                                },
                                {
                                    "SzobaID": "65",
                                    "Férőhely": "2",
                                    "Rangsor": "23"
                                },
                                {
                                    "SzobaID": "147",
                                    "Férőhely": "2",
                                    "Rangsor": "23"
                                },
                                {
                                    "SzobaID": "125",
                                    "Férőhely": "2",
                                    "Rangsor": "23"
                                },
                                {
                                    "SzobaID": "194",
                                    "Férőhely": "2",
                                    "Rangsor": "23"
                                },
                                {
                                    "SzobaID": "60",
                                    "Férőhely": "3",
                                    "Rangsor": "24"
                                }
                            ]
                        },
                        "text/html": [
                            "<table>",
                            "<tr><th>SzobaID</th><th>Férőhely</th><th>Rangsor</th></tr>",
                            "<tr><td>58</td><td>2</td><td>1</td></tr>",
                            "<tr><td>182</td><td>2</td><td>2</td></tr>",
                            "<tr><td>185</td><td>3</td><td>3</td></tr>",
                            "<tr><td>70</td><td>2</td><td>4</td></tr>",
                            "<tr><td>94</td><td>2</td><td>5</td></tr>",
                            "<tr><td>12</td><td>2</td><td>6</td></tr>",
                            "<tr><td>172</td><td>2</td><td>6</td></tr>",
                            "<tr><td>35</td><td>3</td><td>7</td></tr>",
                            "<tr><td>48</td><td>3</td><td>7</td></tr>",
                            "<tr><td>74</td><td>3</td><td>7</td></tr>",
                            "<tr><td>122</td><td>3</td><td>7</td></tr>",
                            "<tr><td>121</td><td>2</td><td>8</td></tr>",
                            "<tr><td>140</td><td>2</td><td>8</td></tr>",
                            "<tr><td>110</td><td>2</td><td>8</td></tr>",
                            "<tr><td>55</td><td>2</td><td>8</td></tr>",
                            "<tr><td>38</td><td>2</td><td>8</td></tr>",
                            "<tr><td>1</td><td>3</td><td>9</td></tr>",
                            "<tr><td>3</td><td>3</td><td>9</td></tr>",
                            "<tr><td>43</td><td>3</td><td>9</td></tr>",
                            "<tr><td>83</td><td>3</td><td>9</td></tr>",
                            "<tr><td>88</td><td>3</td><td>9</td></tr>",
                            "<tr><td>89</td><td>3</td><td>9</td></tr>",
                            "<tr><td>117</td><td>3</td><td>9</td></tr>",
                            "<tr><td>198</td><td>3</td><td>9</td></tr>",
                            "<tr><td>149</td><td>2</td><td>10</td></tr>",
                            "<tr><td>156</td><td>2</td><td>10</td></tr>",
                            "<tr><td>163</td><td>2</td><td>10</td></tr>",
                            "<tr><td>165</td><td>2</td><td>10</td></tr>",
                            "<tr><td>118</td><td>2</td><td>10</td></tr>",
                            "<tr><td>109</td><td>2</td><td>10</td></tr>",
                            "<tr><td>127</td><td>2</td><td>10</td></tr>",
                            "<tr><td>139</td><td>2</td><td>10</td></tr>",
                            "<tr><td>80</td><td>2</td><td>10</td></tr>",
                            "<tr><td>59</td><td>2</td><td>10</td></tr>",
                            "<tr><td>39</td><td>2</td><td>10</td></tr>",
                            "<tr><td>27</td><td>3</td><td>11</td></tr>",
                            "<tr><td>49</td><td>3</td><td>11</td></tr>",
                            "<tr><td>96</td><td>3</td><td>11</td></tr>",
                            "<tr><td>97</td><td>3</td><td>11</td></tr>",
                            "<tr><td>138</td><td>3</td><td>11</td></tr>",
                            "<tr><td>143</td><td>3</td><td>11</td></tr>",
                            "<tr><td>115</td><td>3</td><td>11</td></tr>",
                            "<tr><td>187</td><td>3</td><td>11</td></tr>",
                            "<tr><td>193</td><td>3</td><td>11</td></tr>",
                            "<tr><td>195</td><td>2</td><td>12</td></tr>",
                            "<tr><td>161</td><td>2</td><td>12</td></tr>",
                            "<tr><td>150</td><td>2</td><td>12</td></tr>",
                            "<tr><td>148</td><td>2</td><td>12</td></tr>",
                            "<tr><td>169</td><td>2</td><td>12</td></tr>",
                            "<tr><td>106</td><td>2</td><td>12</td></tr>",
                            "<tr><td>126</td><td>2</td><td>12</td></tr>",
                            "<tr><td>145</td><td>2</td><td>12</td></tr>",
                            "<tr><td>141</td><td>2</td><td>12</td></tr>",
                            "<tr><td>130</td><td>2</td><td>12</td></tr>",
                            "<tr><td>137</td><td>2</td><td>12</td></tr>",
                            "<tr><td>78</td><td>2</td><td>12</td></tr>",
                            "<tr><td>42</td><td>2</td><td>12</td></tr>",
                            "<tr><td>64</td><td>2</td><td>12</td></tr>",
                            "<tr><td>67</td><td>2</td><td>12</td></tr>",
                            "<tr><td>28</td><td>2</td><td>12</td></tr>",
                            "<tr><td>29</td><td>2</td><td>12</td></tr>",
                            "<tr><td>19</td><td>2</td><td>12</td></tr>",
                            "<tr><td>33</td><td>2</td><td>12</td></tr>",
                            "<tr><td>4</td><td>2</td><td>12</td></tr>",
                            "<tr><td>7</td><td>2</td><td>12</td></tr>",
                            "<tr><td>15</td><td>2</td><td>12</td></tr>",
                            "<tr><td>17</td><td>3</td><td>13</td></tr>",
                            "<tr><td>18</td><td>3</td><td>13</td></tr>",
                            "<tr><td>6</td><td>3</td><td>13</td></tr>",
                            "<tr><td>9</td><td>3</td><td>13</td></tr>",
                            "<tr><td>22</td><td>3</td><td>13</td></tr>",
                            "<tr><td>36</td><td>3</td><td>13</td></tr>",
                            "<tr><td>44</td><td>3</td><td>13</td></tr>",
                            "<tr><td>54</td><td>3</td><td>13</td></tr>",
                            "<tr><td>77</td><td>3</td><td>13</td></tr>",
                            "<tr><td>82</td><td>3</td><td>13</td></tr>",
                            "<tr><td>92</td><td>3</td><td>13</td></tr>",
                            "<tr><td>132</td><td>3</td><td>13</td></tr>",
                            "<tr><td>133</td><td>3</td><td>13</td></tr>",
                            "<tr><td>134</td><td>3</td><td>13</td></tr>",
                            "<tr><td>146</td><td>3</td><td>13</td></tr>",
                            "<tr><td>124</td><td>3</td><td>13</td></tr>",
                            "<tr><td>120</td><td>3</td><td>13</td></tr>",
                            "<tr><td>176</td><td>3</td><td>13</td></tr>",
                            "<tr><td>181</td><td>3</td><td>13</td></tr>",
                            "<tr><td>188</td><td>3</td><td>13</td></tr>",
                            "<tr><td>197</td><td>3</td><td>13</td></tr>",
                            "<tr><td>189</td><td>2</td><td>14</td></tr>",
                            "<tr><td>190</td><td>2</td><td>14</td></tr>",
                            "<tr><td>191</td><td>2</td><td>14</td></tr>",
                            "<tr><td>168</td><td>2</td><td>14</td></tr>",
                            "<tr><td>175</td><td>2</td><td>14</td></tr>",
                            "<tr><td>170</td><td>2</td><td>14</td></tr>",
                            "<tr><td>171</td><td>2</td><td>14</td></tr>",
                            "<tr><td>157</td><td>2</td><td>14</td></tr>",
                            "<tr><td>154</td><td>2</td><td>14</td></tr>",
                            "<tr><td>164</td><td>2</td><td>14</td></tr>",
                            "<tr><td>119</td><td>2</td><td>14</td></tr>",
                            "<tr><td>107</td><td>2</td><td>14</td></tr>",
                            "<tr><td>128</td><td>2</td><td>14</td></tr>",
                            "<tr><td>131</td><td>2</td><td>14</td></tr>",
                            "<tr><td>99</td><td>2</td><td>14</td></tr>",
                            "<tr><td>111</td><td>2</td><td>14</td></tr>",
                            "<tr><td>81</td><td>2</td><td>14</td></tr>",
                            "<tr><td>86</td><td>2</td><td>14</td></tr>",
                            "<tr><td>52</td><td>2</td><td>14</td></tr>",
                            "<tr><td>45</td><td>2</td><td>14</td></tr>",
                            "<tr><td>62</td><td>2</td><td>14</td></tr>",
                            "<tr><td>61</td><td>3</td><td>15</td></tr>",
                            "<tr><td>51</td><td>3</td><td>15</td></tr>",
                            "<tr><td>20</td><td>3</td><td>15</td></tr>",
                            "<tr><td>8</td><td>3</td><td>15</td></tr>",
                            "<tr><td>16</td><td>3</td><td>15</td></tr>",
                            "<tr><td>87</td><td>3</td><td>15</td></tr>",
                            "<tr><td>79</td><td>3</td><td>15</td></tr>",
                            "<tr><td>112</td><td>3</td><td>15</td></tr>",
                            "<tr><td>113</td><td>3</td><td>15</td></tr>",
                            "<tr><td>93</td><td>3</td><td>15</td></tr>",
                            "<tr><td>144</td><td>3</td><td>15</td></tr>",
                            "<tr><td>123</td><td>3</td><td>15</td></tr>",
                            "<tr><td>153</td><td>3</td><td>15</td></tr>",
                            "<tr><td>160</td><td>3</td><td>15</td></tr>",
                            "<tr><td>155</td><td>3</td><td>15</td></tr>",
                            "<tr><td>152</td><td>2</td><td>16</td></tr>",
                            "<tr><td>173</td><td>2</td><td>16</td></tr>",
                            "<tr><td>174</td><td>2</td><td>16</td></tr>",
                            "<tr><td>186</td><td>2</td><td>16</td></tr>",
                            "<tr><td>196</td><td>2</td><td>16</td></tr>",
                            "<tr><td>184</td><td>2</td><td>16</td></tr>",
                            "<tr><td>129</td><td>2</td><td>16</td></tr>",
                            "<tr><td>100</td><td>2</td><td>16</td></tr>",
                            "<tr><td>114</td><td>2</td><td>16</td></tr>",
                            "<tr><td>98</td><td>2</td><td>16</td></tr>",
                            "<tr><td>103</td><td>2</td><td>16</td></tr>",
                            "<tr><td>85</td><td>2</td><td>16</td></tr>",
                            "<tr><td>91</td><td>2</td><td>16</td></tr>",
                            "<tr><td>11</td><td>2</td><td>16</td></tr>",
                            "<tr><td>5</td><td>2</td><td>16</td></tr>",
                            "<tr><td>21</td><td>2</td><td>16</td></tr>",
                            "<tr><td>50</td><td>2</td><td>16</td></tr>",
                            "<tr><td>57</td><td>2</td><td>16</td></tr>",
                            "<tr><td>63</td><td>2</td><td>16</td></tr>",
                            "<tr><td>72</td><td>2</td><td>16</td></tr>",
                            "<tr><td>73</td><td>2</td><td>16</td></tr>",
                            "<tr><td>66</td><td>3</td><td>17</td></tr>",
                            "<tr><td>69</td><td>3</td><td>17</td></tr>",
                            "<tr><td>46</td><td>3</td><td>17</td></tr>",
                            "<tr><td>34</td><td>3</td><td>17</td></tr>",
                            "<tr><td>40</td><td>3</td><td>17</td></tr>",
                            "<tr><td>2</td><td>3</td><td>17</td></tr>",
                            "<tr><td>10</td><td>3</td><td>17</td></tr>",
                            "<tr><td>13</td><td>3</td><td>17</td></tr>",
                            "<tr><td>90</td><td>3</td><td>17</td></tr>",
                            "<tr><td>84</td><td>3</td><td>17</td></tr>",
                            "<tr><td>104</td><td>3</td><td>17</td></tr>",
                            "<tr><td>95</td><td>3</td><td>17</td></tr>",
                            "<tr><td>183</td><td>3</td><td>17</td></tr>",
                            "<tr><td>177</td><td>3</td><td>17</td></tr>",
                            "<tr><td>178</td><td>3</td><td>17</td></tr>",
                            "<tr><td>180</td><td>2</td><td>18</td></tr>",
                            "<tr><td>151</td><td>2</td><td>18</td></tr>",
                            "<tr><td>158</td><td>2</td><td>18</td></tr>",
                            "<tr><td>166</td><td>2</td><td>18</td></tr>",
                            "<tr><td>101</td><td>2</td><td>18</td></tr>",
                            "<tr><td>75</td><td>2</td><td>18</td></tr>",
                            "<tr><td>76</td><td>2</td><td>18</td></tr>",
                            "<tr><td>136</td><td>2</td><td>18</td></tr>",
                            "<tr><td>23</td><td>2</td><td>18</td></tr>",
                            "<tr><td>37</td><td>2</td><td>18</td></tr>",
                            "<tr><td>68</td><td>2</td><td>18</td></tr>",
                            "<tr><td>71</td><td>3</td><td>19</td></tr>",
                            "<tr><td>30</td><td>3</td><td>19</td></tr>",
                            "<tr><td>31</td><td>3</td><td>19</td></tr>",
                            "<tr><td>14</td><td>3</td><td>19</td></tr>",
                            "<tr><td>135</td><td>3</td><td>19</td></tr>",
                            "<tr><td>162</td><td>3</td><td>19</td></tr>",
                            "<tr><td>179</td><td>3</td><td>19</td></tr>",
                            "<tr><td>24</td><td>4</td><td>20</td></tr>",
                            "<tr><td>26</td><td>2</td><td>21</td></tr>",
                            "<tr><td>47</td><td>2</td><td>21</td></tr>",
                            "<tr><td>53</td><td>2</td><td>21</td></tr>",
                            "<tr><td>56</td><td>2</td><td>21</td></tr>",
                            "<tr><td>108</td><td>2</td><td>21</td></tr>",
                            "<tr><td>102</td><td>2</td><td>21</td></tr>",
                            "<tr><td>105</td><td>2</td><td>21</td></tr>",
                            "<tr><td>192</td><td>2</td><td>21</td></tr>",
                            "<tr><td>167</td><td>3</td><td>22</td></tr>",
                            "<tr><td>116</td><td>3</td><td>22</td></tr>",
                            "<tr><td>142</td><td>3</td><td>22</td></tr>",
                            "<tr><td>25</td><td>3</td><td>22</td></tr>",
                            "<tr><td>41</td><td>3</td><td>22</td></tr>",
                            "<tr><td>32</td><td>2</td><td>23</td></tr>",
                            "<tr><td>65</td><td>2</td><td>23</td></tr>",
                            "<tr><td>147</td><td>2</td><td>23</td></tr>",
                            "<tr><td>125</td><td>2</td><td>23</td></tr>",
                            "<tr><td>194</td><td>2</td><td>23</td></tr>",
                            "<tr><td>60</td><td>3</td><td>24</td></tr>",
                            "</table>"
                        ]
                    }
                }
            ],
            "execution_count": 8
        },
        {
            "cell_type": "markdown",
            "source": [
                "<span style=\"color: rgb(0, 0, 0); font-family: &quot;Open Sans&quot;, sans-serif; font-size: 14.44px; background-color: rgb(255, 255, 255);\">Egészítse ki a megkezdett lekérdezést, amely megjeleníti a második legfiatalabb foglaló ügyfél foglalási adatait!</span>"
            ],
            "metadata": {
                "azdata_cell_guid": "5bcd94c0-c6cd-4823-9278-33d397cfa3ad"
            },
            "attachments": {}
        },
        {
            "cell_type": "code",
            "source": [
                "SELECT f.*, MAX(SZUL_DAT)\r\n",
                "FROM foglalas f join Vendeg v ON f.UGYFEL_FK = v.USERNEV\r\n",
                "WHERE v.USERNEV =\r\n",
                "(\r\n",
                "    SELECT v.USERNEV\r\n",
                "    FROM Vendeg\r\n",
                "    WHERE v.SZUL_DAT <\r\n",
                "    (\r\n",
                "     SELECT MAX(v.szul_dat) \r\n",
                "     FROM Vendeg\r\n",
                "    )\r\n",
                ")"
            ],
            "metadata": {
                "azdata_cell_guid": "02f378dd-cb9e-4b4b-a2a4-0dc80815156e",
                "language": "sql"
            },
            "outputs": [
{
    "output_type": "error",
    "ename": "",
    "evalue": "Msg 147, Level 15, State 1, Line 9\r\nAn aggregate may not appear in the WHERE clause unless it is in a subquery contained in a HAVING clause or a select list, and the column being aggregated is an outer reference.",
    "traceback": []
}, {
    "output_type": "display_data",
    "data": {
        "text/html": "Total execution time: 00:00:00.002"
    },
    "metadata": {}
}
],
            "execution_count": 17
        }
    ]
}