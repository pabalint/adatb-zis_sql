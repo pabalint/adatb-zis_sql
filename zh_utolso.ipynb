{
    "metadata": {
        "kernelspec": {
            "name": "SQL",
            "display_name": "SQL",
            "language": "sql"
        },
        "language_info": {
            "name": "sql",
            "version": ""
        }
    },
    "nbformat_minor": 2,
    "nbformat": 4,
    "cells": [
        {
            "cell_type": "markdown",
            "source": [
                "Listázzuk azon vendégek nevét, email-címét és felhasználói nevét, akik egynél többször foglaltak!\n",
                "\n",
                "- Hagyjuk ki azokat a vendégeket, akik május hónapban születtek!"
            ],
            "metadata": {
                "azdata_cell_guid": "27c28043-e233-4f9f-a12c-c0bb147f3aa7"
            },
            "attachments": {}
        },
        {
            "cell_type": "code",
            "source": [
                "SELECT DISTINCT v.nev AS 'Név', v.email AS 'Email', v.USERNEV AS 'felhasználó'\r\n",
                "FROM Vendeg v join Foglalas f on v.USERNEV = f.UGYFEL_FK\r\n",
                "WHERE MONTH(v.SZUL_DAT) != 5\r\n",
                "GROUP by v.nev, v.email, v.usernev\r\n",
                "HAVING COUNT(*) > 1\r\n",
                ""
            ],
            "metadata": {
                "azdata_cell_guid": "c5c5ca45-ca72-4d6f-971b-c21772a5edb5",
                "language": "sql"
            },
            "outputs": [
                {
                    "output_type": "display_data",
                    "data": {
                        "text/html": "(169 rows affected)"
                    },
                    "metadata": {}
                },
                {
                    "output_type": "display_data",
                    "data": {
                        "text/html": "Total execution time: 00:00:00.014"
                    },
                    "metadata": {}
                },
                {
                    "output_type": "execute_result",
                    "metadata": {},
                    "execution_count": 6,
                    "data": {
                        "application/vnd.dataresource+json": {
                            "schema": {
                                "fields": [
                                    {
                                        "name": "Név"
                                    },
                                    {
                                        "name": "Email"
                                    },
                                    {
                                        "name": "felhasználó"
                                    }
                                ]
                            },
                            "data": [
                                {
                                    "Név": "Kiss Ádám",
                                    "Email": "ádám.kiss@mail.hu",
                                    "felhasználó": "adam1"
                                },
                                {
                                    "Név": "Barkóci Ádám",
                                    "Email": "adam3@gmail.com",
                                    "felhasználó": "adam3"
                                },
                                {
                                    "Név": "Bieniek Ádám",
                                    "Email": "ádám.bieniek@mail.hu",
                                    "felhasználó": "adam4"
                                },
                                {
                                    "Név": "Lengyel Ágnes",
                                    "Email": "agnes@gmail.com",
                                    "felhasználó": "agnes"
                                },
                                {
                                    "Név": "Hartyánszky Ágnes",
                                    "Email": "agnes3@gmail.com",
                                    "felhasználó": "agnes3"
                                },
                                {
                                    "Név": "Horváth Ágnes",
                                    "Email": "AGNESH@gmail.com",
                                    "felhasználó": "AGNESH"
                                },
                                {
                                    "Név": "Kovács Ágnes",
                                    "Email": "AGNESK@gmail.com",
                                    "felhasználó": "AGNESK"
                                },
                                {
                                    "Név": "Bíró Ákos",
                                    "Email": "ákos.bíró@mail.hu",
                                    "felhasználó": "akos"
                                },
                                {
                                    "Név": "Dunai Aladár",
                                    "Email": "aladár.dunai@mail.hu",
                                    "felhasználó": "aladar"
                                },
                                {
                                    "Név": "Bagóczki Alexandra",
                                    "Email": "alexandra.bagóczki@mail.hu",
                                    "felhasználó": "alexandra"
                                },
                                {
                                    "Név": "Tóth András",
                                    "Email": "andrás.tóth@mail.hu",
                                    "felhasználó": "andras2"
                                },
                                {
                                    "Név": "Molnár András",
                                    "Email": "andrás.molnár@mail.hu",
                                    "felhasználó": "andras21"
                                },
                                {
                                    "Név": "Vígh András",
                                    "Email": "andrás.vígh@mail.hu",
                                    "felhasználó": "andras3"
                                },
                                {
                                    "Név": "Back András",
                                    "Email": "andras4@gmail.com",
                                    "felhasználó": "andras4"
                                },
                                {
                                    "Név": "Komjáti András",
                                    "Email": "andras41@gmail.com",
                                    "felhasználó": "andras41"
                                },
                                {
                                    "Név": "Kiss Andrea",
                                    "Email": "andrea.kiss@mail.hu",
                                    "felhasználó": "andrea"
                                },
                                {
                                    "Név": "Tornyos Andrea",
                                    "Email": "ANDREAT@gmail.com",
                                    "felhasználó": "ANDREAT"
                                },
                                {
                                    "Név": "Pivarcsi Anett",
                                    "Email": "anett.pivarcsi@mail.hu",
                                    "felhasználó": "anett3"
                                },
                                {
                                    "Név": "Tóth Anikó",
                                    "Email": "aniko@gmail.com",
                                    "felhasználó": "aniko"
                                },
                                {
                                    "Név": "Böröcz Anikó",
                                    "Email": "aniko4@gmail.com",
                                    "felhasználó": "aniko4"
                                },
                                {
                                    "Név": "Simon Anikó",
                                    "Email": "ANIKOS@gmail.com",
                                    "felhasználó": "ANIKOS"
                                },
                                {
                                    "Név": "Hamvay-Kovács Anita",
                                    "Email": "anita.hamvay-kovács@mail.hu",
                                    "felhasználó": "anita"
                                },
                                {
                                    "Név": "Szűcs Annamária",
                                    "Email": "annamária.szűcs@mail.hu",
                                    "felhasználó": "annamaria1"
                                },
                                {
                                    "Név": "Regős Annamária",
                                    "Email": "ANNAMARIAR@gmail.com",
                                    "felhasználó": "ANNAMARIAR"
                                },
                                {
                                    "Név": "Jakab Áron",
                                    "Email": "aron2@gmail.com",
                                    "felhasználó": "aron2"
                                },
                                {
                                    "Név": "Kelemen Áron",
                                    "Email": "áron.kelemen@mail.hu",
                                    "felhasználó": "ARONK"
                                },
                                {
                                    "Név": "Ötvös Árpád",
                                    "Email": "árpád.ötvös@mail.hu",
                                    "felhasználó": "arpad2"
                                },
                                {
                                    "Név": "Móricz Árpád",
                                    "Email": "árpád.móricz@mail.hu",
                                    "felhasználó": "ARPADM"
                                },
                                {
                                    "Név": "Csóti Attila",
                                    "Email": "attila@gmail.com",
                                    "felhasználó": "attila"
                                },
                                {
                                    "Név": "Gulyás Attila",
                                    "Email": "attila.gulyás@mail.hu",
                                    "felhasználó": "attila1"
                                },
                                {
                                    "Név": "Baróti Attila",
                                    "Email": "attila.baróti@mail.hu",
                                    "felhasználó": "attila4"
                                },
                                {
                                    "Név": "Bozsik Balázs",
                                    "Email": "balázs.bozsik@mail.hu",
                                    "felhasználó": "balazs1"
                                },
                                {
                                    "Név": "Szűcs Balázs",
                                    "Email": "balázs.szűcs@mail.hu",
                                    "felhasználó": "balazs2"
                                },
                                {
                                    "Név": "Bakódy Balázs",
                                    "Email": "balazs3@gmail.com",
                                    "felhasználó": "balazs3"
                                },
                                {
                                    "Név": "Horváth Bálint",
                                    "Email": "balint@gmail.com",
                                    "felhasználó": "balint"
                                },
                                {
                                    "Név": "Molnár Bálint",
                                    "Email": "balint1@gmail.com",
                                    "felhasználó": "balint1"
                                },
                                {
                                    "Név": "Vukasinovity Bálint",
                                    "Email": "balint2@gmail.com",
                                    "felhasználó": "balint2"
                                },
                                {
                                    "Név": "Endresz Bálint",
                                    "Email": "bálint.endresz@mail.hu",
                                    "felhasználó": "balu"
                                },
                                {
                                    "Név": "Bagi Beáta",
                                    "Email": "beáta.bagi@mail.hu",
                                    "felhasználó": "beata4"
                                },
                                {
                                    "Név": "Kerényi Beatrix",
                                    "Email": "beatrix.kerényi@mail.hu",
                                    "felhasználó": "BEATRIXK"
                                },
                                {
                                    "Név": "Szekendi Beatrix",
                                    "Email": "beatrix.szekendi@mail.hu",
                                    "felhasználó": "BEATRIXS"
                                },
                                {
                                    "Név": "Farkas Béla",
                                    "Email": "BELAF@gmail.com",
                                    "felhasználó": "BELAF"
                                },
                                {
                                    "Név": "Győrffy Bence",
                                    "Email": "bence@gmail.com",
                                    "felhasználó": "bence"
                                },
                                {
                                    "Név": "Bajusz Bence",
                                    "Email": "bence.bajusz@mail.hu",
                                    "felhasználó": "BENCEB"
                                },
                                {
                                    "Név": "Simon Bernadett",
                                    "Email": "bernadett1@gmail.com",
                                    "felhasználó": "bernadett1"
                                },
                                {
                                    "Név": "Kovács Bernadett",
                                    "Email": "bernadett.kovács@mail.hu",
                                    "felhasználó": "bernadett2"
                                },
                                {
                                    "Név": "Orbán Bernadett",
                                    "Email": "bernadett.orbán@mail.hu",
                                    "felhasználó": "BERNADETTO"
                                },
                                {
                                    "Név": "Csiger Bertalan",
                                    "Email": "bertalan@gmail.com",
                                    "felhasználó": "bertalan"
                                },
                                {
                                    "Név": "Székely Brigitta",
                                    "Email": "brigitta.székely@mail.hu",
                                    "felhasználó": "brigitta"
                                },
                                {
                                    "Név": "Nagymihály Csongor",
                                    "Email": "csongor.nagymihály@mail.hu",
                                    "felhasználó": "csongor3"
                                },
                                {
                                    "Név": "Vörös Dániel",
                                    "Email": "daniel@gmail.com",
                                    "felhasználó": "dani"
                                },
                                {
                                    "Név": "Rácz Dániel",
                                    "Email": "dániel.rácz@mail.hu",
                                    "felhasználó": "daniel"
                                },
                                {
                                    "Név": "Keszler Dániel",
                                    "Email": "dániel.keszler@mail.hu",
                                    "felhasználó": "daniel1"
                                },
                                {
                                    "Név": "Ambrus Dávid",
                                    "Email": "david@gmail.com",
                                    "felhasználó": "david"
                                },
                                {
                                    "Név": "Sobják Dávid",
                                    "Email": "david1@gmail.com",
                                    "felhasználó": "david1"
                                },
                                {
                                    "Név": "Barna Debóra",
                                    "Email": "debóra.barna@mail.hu",
                                    "felhasználó": "debora"
                                },
                                {
                                    "Név": "Tömböly Dénes",
                                    "Email": "denes@gmail.com",
                                    "felhasználó": "denes"
                                },
                                {
                                    "Név": "Bittmann Edit",
                                    "Email": "edit.bittmann@mail.hu",
                                    "felhasználó": "edit"
                                },
                                {
                                    "Név": "Kuruc Emese",
                                    "Email": "emese.kuruc@mail.hu",
                                    "felhasználó": "emese"
                                },
                                {
                                    "Név": "Balogh Eszter",
                                    "Email": "eszter.balogh@mail.hu",
                                    "felhasználó": "eszter2"
                                },
                                {
                                    "Név": "Fülöp Eszter",
                                    "Email": "eszter.fülöp@mail.hu",
                                    "felhasználó": "eszter4"
                                },
                                {
                                    "Név": "Érsek Eszter",
                                    "Email": "eszter.érsek@mail.hu",
                                    "felhasználó": "ESZTERE"
                                },
                                {
                                    "Név": "Enyedi Éva",
                                    "Email": "eva@gmail.com",
                                    "felhasználó": "eva"
                                },
                                {
                                    "Név": "Perlinger Éva",
                                    "Email": "eva2@gmail.com",
                                    "felhasználó": "eva2"
                                },
                                {
                                    "Név": "Viktor Éva",
                                    "Email": "EVAV@gmail.com",
                                    "felhasználó": "EVAV"
                                },
                                {
                                    "Név": "Orosz Ferenc",
                                    "Email": "ferenc.orosz@mail.hu",
                                    "felhasználó": "ferenc1"
                                },
                                {
                                    "Név": "Frank Fruzsina",
                                    "Email": "fruzsina4@gmail.com",
                                    "felhasználó": "fruzsina4"
                                },
                                {
                                    "Név": "Köves Gábor",
                                    "Email": "gabor1@gmail.com",
                                    "felhasználó": "gabor1"
                                },
                                {
                                    "Név": "Telek Gábor",
                                    "Email": "gábor.telek@mail.hu",
                                    "felhasználó": "gabor4"
                                },
                                {
                                    "Név": "Nagy Gabriella",
                                    "Email": "gabriella1@gmail.com",
                                    "felhasználó": "gabriella1"
                                },
                                {
                                    "Név": "Nyíri Georgij",
                                    "Email": "georgij.nyíri@mail.hu",
                                    "felhasználó": "georgij"
                                },
                                {
                                    "Név": "Bárci Gusztáv",
                                    "Email": "gusztav@gmail.com",
                                    "felhasználó": "gusztav"
                                },
                                {
                                    "Név": "Kornseé Gyöngyi",
                                    "Email": "gyöngyi.kornseé@mail.hu",
                                    "felhasználó": "GYONGYIK"
                                },
                                {
                                    "Név": "Oroszi György",
                                    "Email": "GYORGYO@gmail.com",
                                    "felhasználó": "GYORGYO"
                                },
                                {
                                    "Név": "Nádudvari Henrik",
                                    "Email": "henrik.nádudvari@mail.hu",
                                    "felhasználó": "henrik3"
                                },
                                {
                                    "Név": "Andor Ibolya",
                                    "Email": "ibolya.andor@mail.hu",
                                    "felhasználó": "IBOLYAA"
                                },
                                {
                                    "Név": "Bosnyák Ilona",
                                    "Email": "ilona3@gmail.com",
                                    "felhasználó": "ilona3"
                                },
                                {
                                    "Név": "Búza Imre",
                                    "Email": "imre.búza@mail.hu",
                                    "felhasználó": "imre"
                                },
                                {
                                    "Név": "Papp Imre",
                                    "Email": "imre.papp@mail.hu",
                                    "felhasználó": "imre1"
                                },
                                {
                                    "Név": "Soós István",
                                    "Email": "istvan@gmail.com",
                                    "felhasználó": "istvan"
                                },
                                {
                                    "Név": "Vizi István",
                                    "Email": "istván.vizi@mail.hu",
                                    "felhasználó": "istvan1"
                                },
                                {
                                    "Név": "Varga István",
                                    "Email": "ISTVANV@gmail.com",
                                    "felhasználó": "ISTVANV"
                                },
                                {
                                    "Név": "Harangozó János",
                                    "Email": "janos3@gmail.com",
                                    "felhasználó": "janos3"
                                },
                                {
                                    "Név": "Giliga János",
                                    "Email": "JANOSG@gmail.com",
                                    "felhasználó": "JANOSG"
                                },
                                {
                                    "Név": "Pálinkás János",
                                    "Email": "JANOSP@gmail.com",
                                    "felhasználó": "JANOSP"
                                },
                                {
                                    "Név": "Gergely József",
                                    "Email": "jozsef@gmail.com",
                                    "felhasználó": "jozsef"
                                },
                                {
                                    "Név": "Vajda József",
                                    "Email": "józsef.vajda@mail.hu",
                                    "felhasználó": "jozsef2"
                                },
                                {
                                    "Név": "Hídasi Judit",
                                    "Email": "JUDITH@gmail.com",
                                    "felhasználó": "JUDITH"
                                },
                                {
                                    "Név": "Tóth Júlia",
                                    "Email": "julia@gmail.com",
                                    "felhasználó": "julia"
                                },
                                {
                                    "Név": "Nagy Júlia",
                                    "Email": "julia4@gmail.com",
                                    "felhasználó": "julia4"
                                },
                                {
                                    "Név": "Szabó Julianna",
                                    "Email": "julianna4@gmail.com",
                                    "felhasználó": "julianna4"
                                },
                                {
                                    "Név": "Gondos Katalin",
                                    "Email": "katalin.gondos@mail.hu",
                                    "felhasználó": "kata"
                                },
                                {
                                    "Név": "Horváth Katalin",
                                    "Email": "katalin.horváth@mail.hu",
                                    "felhasználó": "katalin"
                                },
                                {
                                    "Név": "Kertész Katalin",
                                    "Email": "katalin4@gmail.com",
                                    "felhasználó": "katalin4"
                                },
                                {
                                    "Név": "Kovács Katalin",
                                    "Email": "katalin.kovács@mail.hu",
                                    "felhasználó": "katka"
                                },
                                {
                                    "Név": "Bakó Klaudia",
                                    "Email": "klaudia.bakó@mail.hu",
                                    "felhasználó": "klaudia2"
                                },
                                {
                                    "Név": "Lukács Kornél",
                                    "Email": "kornél.lukács@mail.hu",
                                    "felhasználó": "kornel4"
                                },
                                {
                                    "Név": "Poprádi Kristóf",
                                    "Email": "kristof4@gmail.com",
                                    "felhasználó": "kristof4"
                                },
                                {
                                    "Név": "Horváth Krisztina",
                                    "Email": "kriszti@gmail.com",
                                    "felhasználó": "kriszti"
                                },
                                {
                                    "Név": "Czérna Krisztián",
                                    "Email": "krisztián.czérna@mail.hu",
                                    "felhasználó": "krisztian4"
                                },
                                {
                                    "Név": "Bori Krisztina",
                                    "Email": "krisztina.bori@mail.hu",
                                    "felhasználó": "krisztina1"
                                },
                                {
                                    "Név": "Gyárfás Krisztina",
                                    "Email": "KRISZTINAG@gmail.com",
                                    "felhasználó": "KRISZTINAG"
                                },
                                {
                                    "Név": "Kiss Lajos",
                                    "Email": "lajos.kiss@mail.hu",
                                    "felhasználó": "lajos"
                                },
                                {
                                    "Név": "Nagymihály Lajos",
                                    "Email": "lajos.nagymihály@mail.hu",
                                    "felhasználó": "lala"
                                },
                                {
                                    "Név": "Móra László",
                                    "Email": "lászló.móra@mail.hu",
                                    "felhasználó": "laszlo2"
                                },
                                {
                                    "Név": "Antal László",
                                    "Email": "lászló.antal@mail.hu",
                                    "felhasználó": "LASZLOA"
                                },
                                {
                                    "Név": "Nagy László",
                                    "Email": "lászló.nagy@mail.hu",
                                    "felhasználó": "LASZLON"
                                },
                                {
                                    "Név": "Baráth Mária",
                                    "Email": "mária.baráth@mail.hu",
                                    "felhasználó": "maria1"
                                },
                                {
                                    "Név": "Kispál Márk",
                                    "Email": "márk.kispál@mail.hu",
                                    "felhasználó": "mark"
                                },
                                {
                                    "Név": "Horváth Márk",
                                    "Email": "márk.horváth@mail.hu",
                                    "felhasználó": "MARKH"
                                },
                                {
                                    "Név": "Kalacsi Márton",
                                    "Email": "marton@gmail.com",
                                    "felhasználó": "marton"
                                },
                                {
                                    "Név": "Koza Máté",
                                    "Email": "máté.koza@mail.hu",
                                    "felhasználó": "MATEK"
                                },
                                {
                                    "Név": "Botka Mátyás",
                                    "Email": "matyas2@gmail.com",
                                    "felhasználó": "matyas2"
                                },
                                {
                                    "Név": "Szilágyi Mátyás",
                                    "Email": "mátyás.szilágyi@mail.hu",
                                    "felhasználó": "MATYASS"
                                },
                                {
                                    "Név": "Juhász Mihály",
                                    "Email": "mihály.juhász@mail.hu",
                                    "felhasználó": "MIHALYJ"
                                },
                                {
                                    "Név": "Gondos Miklós",
                                    "Email": "miklos2@gmail.com",
                                    "felhasználó": "miklos2"
                                },
                                {
                                    "Név": "Balla Miklós",
                                    "Email": "miklós.balla@mail.hu",
                                    "felhasználó": "MIKLOSB"
                                },
                                {
                                    "Név": "Mohos Mónika",
                                    "Email": "mónika.mohos@mail.hu",
                                    "felhasználó": "MONIKAM"
                                },
                                {
                                    "Név": "Fő Nándor",
                                    "Email": "nándor.fő@mail.hu",
                                    "felhasználó": "NANDORF"
                                },
                                {
                                    "Név": "Horváth Nikolett",
                                    "Email": "nikolett3@gmail.com",
                                    "felhasználó": "nikolett3"
                                },
                                {
                                    "Név": "Kő Nikoletta",
                                    "Email": "nikoletta4@gmail.com",
                                    "felhasználó": "nikoletta4"
                                },
                                {
                                    "Név": "Tatár Nikoletta",
                                    "Email": "nikoletta.tatár@mail.hu",
                                    "felhasználó": "NIKOLETTAT"
                                },
                                {
                                    "Név": "Szűcs Norbert",
                                    "Email": "norbert@gmail.com",
                                    "felhasználó": "norbert"
                                },
                                {
                                    "Név": "Hegedűs Norbert",
                                    "Email": "norbert.hegedűs@mail.hu",
                                    "felhasználó": "norbert2"
                                },
                                {
                                    "Név": "Mile Norbert",
                                    "Email": "norbert4@gmail.com",
                                    "felhasználó": "norbert4"
                                },
                                {
                                    "Név": "Béres Norbert",
                                    "Email": "norbert5@gmail.com",
                                    "felhasználó": "norbert5"
                                },
                                {
                                    "Név": "Barabás Pál",
                                    "Email": "pál.barabás@mail.hu",
                                    "felhasználó": "pal"
                                },
                                {
                                    "Név": "Kozma Péter",
                                    "Email": "peter1@gmail.com",
                                    "felhasználó": "peter1"
                                },
                                {
                                    "Név": "Bozsó Péter",
                                    "Email": "peter2@gmail.com",
                                    "felhasználó": "peter2"
                                },
                                {
                                    "Név": "Szalai Péter",
                                    "Email": "peter3@gmail.com",
                                    "felhasználó": "peter3"
                                },
                                {
                                    "Név": "Bíró Péter",
                                    "Email": "péter.bíró@mail.hu",
                                    "felhasználó": "peter4"
                                },
                                {
                                    "Név": "Berendi Péter",
                                    "Email": "péter.berendi@mail.hu",
                                    "felhasználó": "PETERB"
                                },
                                {
                                    "Név": "Palágyi Polla",
                                    "Email": "polla@gmail.com",
                                    "felhasználó": "polla"
                                },
                                {
                                    "Név": "Rácz Rajmond",
                                    "Email": "rajmond.rácz@mail.hu",
                                    "felhasználó": "rajmond4"
                                },
                                {
                                    "Név": "Szikszai Réka",
                                    "Email": "réka.szikszai@mail.hu",
                                    "felhasználó": "reka4"
                                },
                                {
                                    "Név": "Szirmai Renáta",
                                    "Email": "RENATAS@gmail.com",
                                    "felhasználó": "RENATAS"
                                },
                                {
                                    "Név": "Patay Róbert",
                                    "Email": "robert2@gmail.com",
                                    "felhasználó": "robert2"
                                },
                                {
                                    "Név": "Iván Róbert",
                                    "Email": "róbert.iván@mail.hu",
                                    "felhasználó": "ROBERTI"
                                },
                                {
                                    "Név": "Tóth Roland",
                                    "Email": "roland@gmail.com",
                                    "felhasználó": "roland"
                                },
                                {
                                    "Név": "Ferencz Roland",
                                    "Email": "roland.ferencz@mail.hu",
                                    "felhasználó": "roland1"
                                },
                                {
                                    "Név": "Bucskó Róza",
                                    "Email": "roza2@gmail.com",
                                    "felhasználó": "roza2"
                                },
                                {
                                    "Név": "Karasz Sándor",
                                    "Email": "sandor@gmail.com",
                                    "felhasználó": "sandor"
                                },
                                {
                                    "Név": "Farkas Sándor",
                                    "Email": "sándor.farkas@mail.hu",
                                    "felhasználó": "sandor3"
                                },
                                {
                                    "Név": "Nagy Sándor",
                                    "Email": "sandor4@gmail.com",
                                    "felhasználó": "sandor4"
                                },
                                {
                                    "Név": "Farkas Sára",
                                    "Email": "sára.farkas@mail.hu",
                                    "felhasználó": "sara"
                                },
                                {
                                    "Név": "Foltényi Sebastián",
                                    "Email": "SEBASTIANF@gmail.com",
                                    "felhasználó": "SEBASTIANF"
                                },
                                {
                                    "Név": "Rab Sebestyén",
                                    "Email": "sebestyen@gmail.com",
                                    "felhasználó": "sebestyen"
                                },
                                {
                                    "Név": "Miklós Szabolcs",
                                    "Email": "szabolcs.miklós@mail.hu",
                                    "felhasználó": "SZABOLCSM"
                                },
                                {
                                    "Név": "Szalai Szilárd",
                                    "Email": "szilárd.szalai@mail.hu",
                                    "felhasználó": "SZILARDS"
                                },
                                {
                                    "Név": "Tari Szilvia",
                                    "Email": "szilvia.tari@mail.hu",
                                    "felhasználó": "szilvia1"
                                },
                                {
                                    "Név": "Miklós Tamara",
                                    "Email": "tamara.miklós@mail.hu",
                                    "felhasználó": "tamara2"
                                },
                                {
                                    "Név": "Antal Tamás",
                                    "Email": "tamás.antal@mail.hu",
                                    "felhasználó": "tamas"
                                },
                                {
                                    "Név": "Fényes Tamás",
                                    "Email": "TAMASF@gmail.com",
                                    "felhasználó": "TAMASF"
                                },
                                {
                                    "Név": "Gombos Tibor",
                                    "Email": "tibor.gombos@mail.hu",
                                    "felhasználó": "tibor"
                                },
                                {
                                    "Név": "Kazy Tihamér",
                                    "Email": "tihamér.kazy@mail.hu",
                                    "felhasználó": "tihamer"
                                },
                                {
                                    "Név": "Dusha Tímea",
                                    "Email": "tímea.dusha@mail.hu",
                                    "felhasználó": "timea2"
                                },
                                {
                                    "Név": "Turcsik Tünde",
                                    "Email": "tunde@gmail.com",
                                    "felhasználó": "tunde"
                                },
                                {
                                    "Név": "Feró Valentin",
                                    "Email": "valentin.feró@mail.hu",
                                    "felhasználó": "valentin"
                                },
                                {
                                    "Név": "Tankó Veronika",
                                    "Email": "veronika4@gmail.com",
                                    "felhasználó": "veronika4"
                                },
                                {
                                    "Név": "Boros Vivien",
                                    "Email": "vivien3@gmail.com",
                                    "felhasználó": "vivien3"
                                },
                                {
                                    "Név": "Fodor Zoltán",
                                    "Email": "zoltán.fodor@mail.hu",
                                    "felhasználó": "zoltan"
                                },
                                {
                                    "Név": "Pintér Zoltán",
                                    "Email": "zoltán.pintér@mail.hu",
                                    "felhasználó": "ZOLTANP"
                                },
                                {
                                    "Név": "Tóth Zoltán",
                                    "Email": "zoltán.tóth@mail.hu",
                                    "felhasználó": "ZOLTANT"
                                },
                                {
                                    "Név": "Molnár Zsófi",
                                    "Email": "zsofi1@gmail.com",
                                    "felhasználó": "zsofi1"
                                },
                                {
                                    "Név": "Józsa Zsolt",
                                    "Email": "ZSOLTJ@gmail.com",
                                    "felhasználó": "ZSOLTJ"
                                },
                                {
                                    "Név": "Pusztai Zsuzsanna",
                                    "Email": "zsuzsanna@gmail.com",
                                    "felhasználó": "zsuzsa"
                                },
                                {
                                    "Név": "Varsányi Zsuzsa",
                                    "Email": "zsuzsa.varsányi@mail.hu",
                                    "felhasználó": "zsuzsa3"
                                },
                                {
                                    "Név": "Barta Zsuzsanna",
                                    "Email": "zsuzsanna.barta@mail.hu",
                                    "felhasználó": "zsuzsanna"
                                },
                                {
                                    "Név": "Vajda Zsuzsa",
                                    "Email": "zsuzsa.vajda@mail.hu",
                                    "felhasználó": "ZSUZSAV"
                                }
                            ]
                        },
                        "text/html": [
                            "<table>",
                            "<tr><th>Név</th><th>Email</th><th>felhasználó</th></tr>",
                            "<tr><td>Kiss Ádám</td><td>ádám.kiss@mail.hu</td><td>adam1</td></tr>",
                            "<tr><td>Barkóci Ádám</td><td>adam3@gmail.com</td><td>adam3</td></tr>",
                            "<tr><td>Bieniek Ádám</td><td>ádám.bieniek@mail.hu</td><td>adam4</td></tr>",
                            "<tr><td>Lengyel Ágnes</td><td>agnes@gmail.com</td><td>agnes</td></tr>",
                            "<tr><td>Hartyánszky Ágnes</td><td>agnes3@gmail.com</td><td>agnes3</td></tr>",
                            "<tr><td>Horváth Ágnes</td><td>AGNESH@gmail.com</td><td>AGNESH</td></tr>",
                            "<tr><td>Kovács Ágnes</td><td>AGNESK@gmail.com</td><td>AGNESK</td></tr>",
                            "<tr><td>Bíró Ákos</td><td>ákos.bíró@mail.hu</td><td>akos</td></tr>",
                            "<tr><td>Dunai Aladár</td><td>aladár.dunai@mail.hu</td><td>aladar</td></tr>",
                            "<tr><td>Bagóczki Alexandra</td><td>alexandra.bagóczki@mail.hu</td><td>alexandra</td></tr>",
                            "<tr><td>Tóth András</td><td>andrás.tóth@mail.hu</td><td>andras2</td></tr>",
                            "<tr><td>Molnár András</td><td>andrás.molnár@mail.hu</td><td>andras21</td></tr>",
                            "<tr><td>Vígh András</td><td>andrás.vígh@mail.hu</td><td>andras3</td></tr>",
                            "<tr><td>Back András</td><td>andras4@gmail.com</td><td>andras4</td></tr>",
                            "<tr><td>Komjáti András</td><td>andras41@gmail.com</td><td>andras41</td></tr>",
                            "<tr><td>Kiss Andrea</td><td>andrea.kiss@mail.hu</td><td>andrea</td></tr>",
                            "<tr><td>Tornyos Andrea</td><td>ANDREAT@gmail.com</td><td>ANDREAT</td></tr>",
                            "<tr><td>Pivarcsi Anett</td><td>anett.pivarcsi@mail.hu</td><td>anett3</td></tr>",
                            "<tr><td>Tóth Anikó</td><td>aniko@gmail.com</td><td>aniko</td></tr>",
                            "<tr><td>Böröcz Anikó</td><td>aniko4@gmail.com</td><td>aniko4</td></tr>",
                            "<tr><td>Simon Anikó</td><td>ANIKOS@gmail.com</td><td>ANIKOS</td></tr>",
                            "<tr><td>Hamvay-Kovács Anita</td><td>anita.hamvay-kovács@mail.hu</td><td>anita</td></tr>",
                            "<tr><td>Szűcs Annamária</td><td>annamária.szűcs@mail.hu</td><td>annamaria1</td></tr>",
                            "<tr><td>Regős Annamária</td><td>ANNAMARIAR@gmail.com</td><td>ANNAMARIAR</td></tr>",
                            "<tr><td>Jakab Áron</td><td>aron2@gmail.com</td><td>aron2</td></tr>",
                            "<tr><td>Kelemen Áron</td><td>áron.kelemen@mail.hu</td><td>ARONK</td></tr>",
                            "<tr><td>Ötvös Árpád</td><td>árpád.ötvös@mail.hu</td><td>arpad2</td></tr>",
                            "<tr><td>Móricz Árpád</td><td>árpád.móricz@mail.hu</td><td>ARPADM</td></tr>",
                            "<tr><td>Csóti Attila</td><td>attila@gmail.com</td><td>attila</td></tr>",
                            "<tr><td>Gulyás Attila</td><td>attila.gulyás@mail.hu</td><td>attila1</td></tr>",
                            "<tr><td>Baróti Attila</td><td>attila.baróti@mail.hu</td><td>attila4</td></tr>",
                            "<tr><td>Bozsik Balázs</td><td>balázs.bozsik@mail.hu</td><td>balazs1</td></tr>",
                            "<tr><td>Szűcs Balázs</td><td>balázs.szűcs@mail.hu</td><td>balazs2</td></tr>",
                            "<tr><td>Bakódy Balázs</td><td>balazs3@gmail.com</td><td>balazs3</td></tr>",
                            "<tr><td>Horváth Bálint</td><td>balint@gmail.com</td><td>balint</td></tr>",
                            "<tr><td>Molnár Bálint</td><td>balint1@gmail.com</td><td>balint1</td></tr>",
                            "<tr><td>Vukasinovity Bálint</td><td>balint2@gmail.com</td><td>balint2</td></tr>",
                            "<tr><td>Endresz Bálint</td><td>bálint.endresz@mail.hu</td><td>balu</td></tr>",
                            "<tr><td>Bagi Beáta</td><td>beáta.bagi@mail.hu</td><td>beata4</td></tr>",
                            "<tr><td>Kerényi Beatrix</td><td>beatrix.kerényi@mail.hu</td><td>BEATRIXK</td></tr>",
                            "<tr><td>Szekendi Beatrix</td><td>beatrix.szekendi@mail.hu</td><td>BEATRIXS</td></tr>",
                            "<tr><td>Farkas Béla</td><td>BELAF@gmail.com</td><td>BELAF</td></tr>",
                            "<tr><td>Győrffy Bence</td><td>bence@gmail.com</td><td>bence</td></tr>",
                            "<tr><td>Bajusz Bence</td><td>bence.bajusz@mail.hu</td><td>BENCEB</td></tr>",
                            "<tr><td>Simon Bernadett</td><td>bernadett1@gmail.com</td><td>bernadett1</td></tr>",
                            "<tr><td>Kovács Bernadett</td><td>bernadett.kovács@mail.hu</td><td>bernadett2</td></tr>",
                            "<tr><td>Orbán Bernadett</td><td>bernadett.orbán@mail.hu</td><td>BERNADETTO</td></tr>",
                            "<tr><td>Csiger Bertalan</td><td>bertalan@gmail.com</td><td>bertalan</td></tr>",
                            "<tr><td>Székely Brigitta</td><td>brigitta.székely@mail.hu</td><td>brigitta</td></tr>",
                            "<tr><td>Nagymihály Csongor</td><td>csongor.nagymihály@mail.hu</td><td>csongor3</td></tr>",
                            "<tr><td>Vörös Dániel</td><td>daniel@gmail.com</td><td>dani</td></tr>",
                            "<tr><td>Rácz Dániel</td><td>dániel.rácz@mail.hu</td><td>daniel</td></tr>",
                            "<tr><td>Keszler Dániel</td><td>dániel.keszler@mail.hu</td><td>daniel1</td></tr>",
                            "<tr><td>Ambrus Dávid</td><td>david@gmail.com</td><td>david</td></tr>",
                            "<tr><td>Sobják Dávid</td><td>david1@gmail.com</td><td>david1</td></tr>",
                            "<tr><td>Barna Debóra</td><td>debóra.barna@mail.hu</td><td>debora</td></tr>",
                            "<tr><td>Tömböly Dénes</td><td>denes@gmail.com</td><td>denes</td></tr>",
                            "<tr><td>Bittmann Edit</td><td>edit.bittmann@mail.hu</td><td>edit</td></tr>",
                            "<tr><td>Kuruc Emese</td><td>emese.kuruc@mail.hu</td><td>emese</td></tr>",
                            "<tr><td>Balogh Eszter</td><td>eszter.balogh@mail.hu</td><td>eszter2</td></tr>",
                            "<tr><td>Fülöp Eszter</td><td>eszter.fülöp@mail.hu</td><td>eszter4</td></tr>",
                            "<tr><td>Érsek Eszter</td><td>eszter.érsek@mail.hu</td><td>ESZTERE</td></tr>",
                            "<tr><td>Enyedi Éva</td><td>eva@gmail.com</td><td>eva</td></tr>",
                            "<tr><td>Perlinger Éva</td><td>eva2@gmail.com</td><td>eva2</td></tr>",
                            "<tr><td>Viktor Éva</td><td>EVAV@gmail.com</td><td>EVAV</td></tr>",
                            "<tr><td>Orosz Ferenc</td><td>ferenc.orosz@mail.hu</td><td>ferenc1</td></tr>",
                            "<tr><td>Frank Fruzsina</td><td>fruzsina4@gmail.com</td><td>fruzsina4</td></tr>",
                            "<tr><td>Köves Gábor</td><td>gabor1@gmail.com</td><td>gabor1</td></tr>",
                            "<tr><td>Telek Gábor</td><td>gábor.telek@mail.hu</td><td>gabor4</td></tr>",
                            "<tr><td>Nagy Gabriella</td><td>gabriella1@gmail.com</td><td>gabriella1</td></tr>",
                            "<tr><td>Nyíri Georgij</td><td>georgij.nyíri@mail.hu</td><td>georgij</td></tr>",
                            "<tr><td>Bárci Gusztáv</td><td>gusztav@gmail.com</td><td>gusztav</td></tr>",
                            "<tr><td>Kornseé Gyöngyi</td><td>gyöngyi.kornseé@mail.hu</td><td>GYONGYIK</td></tr>",
                            "<tr><td>Oroszi György</td><td>GYORGYO@gmail.com</td><td>GYORGYO</td></tr>",
                            "<tr><td>Nádudvari Henrik</td><td>henrik.nádudvari@mail.hu</td><td>henrik3</td></tr>",
                            "<tr><td>Andor Ibolya</td><td>ibolya.andor@mail.hu</td><td>IBOLYAA</td></tr>",
                            "<tr><td>Bosnyák Ilona</td><td>ilona3@gmail.com</td><td>ilona3</td></tr>",
                            "<tr><td>Búza Imre</td><td>imre.búza@mail.hu</td><td>imre</td></tr>",
                            "<tr><td>Papp Imre</td><td>imre.papp@mail.hu</td><td>imre1</td></tr>",
                            "<tr><td>Soós István</td><td>istvan@gmail.com</td><td>istvan</td></tr>",
                            "<tr><td>Vizi István</td><td>istván.vizi@mail.hu</td><td>istvan1</td></tr>",
                            "<tr><td>Varga István</td><td>ISTVANV@gmail.com</td><td>ISTVANV</td></tr>",
                            "<tr><td>Harangozó János</td><td>janos3@gmail.com</td><td>janos3</td></tr>",
                            "<tr><td>Giliga János</td><td>JANOSG@gmail.com</td><td>JANOSG</td></tr>",
                            "<tr><td>Pálinkás János</td><td>JANOSP@gmail.com</td><td>JANOSP</td></tr>",
                            "<tr><td>Gergely József</td><td>jozsef@gmail.com</td><td>jozsef</td></tr>",
                            "<tr><td>Vajda József</td><td>józsef.vajda@mail.hu</td><td>jozsef2</td></tr>",
                            "<tr><td>Hídasi Judit</td><td>JUDITH@gmail.com</td><td>JUDITH</td></tr>",
                            "<tr><td>Tóth Júlia</td><td>julia@gmail.com</td><td>julia</td></tr>",
                            "<tr><td>Nagy Júlia</td><td>julia4@gmail.com</td><td>julia4</td></tr>",
                            "<tr><td>Szabó Julianna</td><td>julianna4@gmail.com</td><td>julianna4</td></tr>",
                            "<tr><td>Gondos Katalin</td><td>katalin.gondos@mail.hu</td><td>kata</td></tr>",
                            "<tr><td>Horváth Katalin</td><td>katalin.horváth@mail.hu</td><td>katalin</td></tr>",
                            "<tr><td>Kertész Katalin</td><td>katalin4@gmail.com</td><td>katalin4</td></tr>",
                            "<tr><td>Kovács Katalin</td><td>katalin.kovács@mail.hu</td><td>katka</td></tr>",
                            "<tr><td>Bakó Klaudia</td><td>klaudia.bakó@mail.hu</td><td>klaudia2</td></tr>",
                            "<tr><td>Lukács Kornél</td><td>kornél.lukács@mail.hu</td><td>kornel4</td></tr>",
                            "<tr><td>Poprádi Kristóf</td><td>kristof4@gmail.com</td><td>kristof4</td></tr>",
                            "<tr><td>Horváth Krisztina</td><td>kriszti@gmail.com</td><td>kriszti</td></tr>",
                            "<tr><td>Czérna Krisztián</td><td>krisztián.czérna@mail.hu</td><td>krisztian4</td></tr>",
                            "<tr><td>Bori Krisztina</td><td>krisztina.bori@mail.hu</td><td>krisztina1</td></tr>",
                            "<tr><td>Gyárfás Krisztina</td><td>KRISZTINAG@gmail.com</td><td>KRISZTINAG</td></tr>",
                            "<tr><td>Kiss Lajos</td><td>lajos.kiss@mail.hu</td><td>lajos</td></tr>",
                            "<tr><td>Nagymihály Lajos</td><td>lajos.nagymihály@mail.hu</td><td>lala</td></tr>",
                            "<tr><td>Móra László</td><td>lászló.móra@mail.hu</td><td>laszlo2</td></tr>",
                            "<tr><td>Antal László</td><td>lászló.antal@mail.hu</td><td>LASZLOA</td></tr>",
                            "<tr><td>Nagy László</td><td>lászló.nagy@mail.hu</td><td>LASZLON</td></tr>",
                            "<tr><td>Baráth Mária</td><td>mária.baráth@mail.hu</td><td>maria1</td></tr>",
                            "<tr><td>Kispál Márk</td><td>márk.kispál@mail.hu</td><td>mark</td></tr>",
                            "<tr><td>Horváth Márk</td><td>márk.horváth@mail.hu</td><td>MARKH</td></tr>",
                            "<tr><td>Kalacsi Márton</td><td>marton@gmail.com</td><td>marton</td></tr>",
                            "<tr><td>Koza Máté</td><td>máté.koza@mail.hu</td><td>MATEK</td></tr>",
                            "<tr><td>Botka Mátyás</td><td>matyas2@gmail.com</td><td>matyas2</td></tr>",
                            "<tr><td>Szilágyi Mátyás</td><td>mátyás.szilágyi@mail.hu</td><td>MATYASS</td></tr>",
                            "<tr><td>Juhász Mihály</td><td>mihály.juhász@mail.hu</td><td>MIHALYJ</td></tr>",
                            "<tr><td>Gondos Miklós</td><td>miklos2@gmail.com</td><td>miklos2</td></tr>",
                            "<tr><td>Balla Miklós</td><td>miklós.balla@mail.hu</td><td>MIKLOSB</td></tr>",
                            "<tr><td>Mohos Mónika</td><td>mónika.mohos@mail.hu</td><td>MONIKAM</td></tr>",
                            "<tr><td>Fő Nándor</td><td>nándor.fő@mail.hu</td><td>NANDORF</td></tr>",
                            "<tr><td>Horváth Nikolett</td><td>nikolett3@gmail.com</td><td>nikolett3</td></tr>",
                            "<tr><td>Kő Nikoletta</td><td>nikoletta4@gmail.com</td><td>nikoletta4</td></tr>",
                            "<tr><td>Tatár Nikoletta</td><td>nikoletta.tatár@mail.hu</td><td>NIKOLETTAT</td></tr>",
                            "<tr><td>Szűcs Norbert</td><td>norbert@gmail.com</td><td>norbert</td></tr>",
                            "<tr><td>Hegedűs Norbert</td><td>norbert.hegedűs@mail.hu</td><td>norbert2</td></tr>",
                            "<tr><td>Mile Norbert</td><td>norbert4@gmail.com</td><td>norbert4</td></tr>",
                            "<tr><td>Béres Norbert</td><td>norbert5@gmail.com</td><td>norbert5</td></tr>",
                            "<tr><td>Barabás Pál</td><td>pál.barabás@mail.hu</td><td>pal</td></tr>",
                            "<tr><td>Kozma Péter</td><td>peter1@gmail.com</td><td>peter1</td></tr>",
                            "<tr><td>Bozsó Péter</td><td>peter2@gmail.com</td><td>peter2</td></tr>",
                            "<tr><td>Szalai Péter</td><td>peter3@gmail.com</td><td>peter3</td></tr>",
                            "<tr><td>Bíró Péter</td><td>péter.bíró@mail.hu</td><td>peter4</td></tr>",
                            "<tr><td>Berendi Péter</td><td>péter.berendi@mail.hu</td><td>PETERB</td></tr>",
                            "<tr><td>Palágyi Polla</td><td>polla@gmail.com</td><td>polla</td></tr>",
                            "<tr><td>Rácz Rajmond</td><td>rajmond.rácz@mail.hu</td><td>rajmond4</td></tr>",
                            "<tr><td>Szikszai Réka</td><td>réka.szikszai@mail.hu</td><td>reka4</td></tr>",
                            "<tr><td>Szirmai Renáta</td><td>RENATAS@gmail.com</td><td>RENATAS</td></tr>",
                            "<tr><td>Patay Róbert</td><td>robert2@gmail.com</td><td>robert2</td></tr>",
                            "<tr><td>Iván Róbert</td><td>róbert.iván@mail.hu</td><td>ROBERTI</td></tr>",
                            "<tr><td>Tóth Roland</td><td>roland@gmail.com</td><td>roland</td></tr>",
                            "<tr><td>Ferencz Roland</td><td>roland.ferencz@mail.hu</td><td>roland1</td></tr>",
                            "<tr><td>Bucskó Róza</td><td>roza2@gmail.com</td><td>roza2</td></tr>",
                            "<tr><td>Karasz Sándor</td><td>sandor@gmail.com</td><td>sandor</td></tr>",
                            "<tr><td>Farkas Sándor</td><td>sándor.farkas@mail.hu</td><td>sandor3</td></tr>",
                            "<tr><td>Nagy Sándor</td><td>sandor4@gmail.com</td><td>sandor4</td></tr>",
                            "<tr><td>Farkas Sára</td><td>sára.farkas@mail.hu</td><td>sara</td></tr>",
                            "<tr><td>Foltényi Sebastián</td><td>SEBASTIANF@gmail.com</td><td>SEBASTIANF</td></tr>",
                            "<tr><td>Rab Sebestyén</td><td>sebestyen@gmail.com</td><td>sebestyen</td></tr>",
                            "<tr><td>Miklós Szabolcs</td><td>szabolcs.miklós@mail.hu</td><td>SZABOLCSM</td></tr>",
                            "<tr><td>Szalai Szilárd</td><td>szilárd.szalai@mail.hu</td><td>SZILARDS</td></tr>",
                            "<tr><td>Tari Szilvia</td><td>szilvia.tari@mail.hu</td><td>szilvia1</td></tr>",
                            "<tr><td>Miklós Tamara</td><td>tamara.miklós@mail.hu</td><td>tamara2</td></tr>",
                            "<tr><td>Antal Tamás</td><td>tamás.antal@mail.hu</td><td>tamas</td></tr>",
                            "<tr><td>Fényes Tamás</td><td>TAMASF@gmail.com</td><td>TAMASF</td></tr>",
                            "<tr><td>Gombos Tibor</td><td>tibor.gombos@mail.hu</td><td>tibor</td></tr>",
                            "<tr><td>Kazy Tihamér</td><td>tihamér.kazy@mail.hu</td><td>tihamer</td></tr>",
                            "<tr><td>Dusha Tímea</td><td>tímea.dusha@mail.hu</td><td>timea2</td></tr>",
                            "<tr><td>Turcsik Tünde</td><td>tunde@gmail.com</td><td>tunde</td></tr>",
                            "<tr><td>Feró Valentin</td><td>valentin.feró@mail.hu</td><td>valentin</td></tr>",
                            "<tr><td>Tankó Veronika</td><td>veronika4@gmail.com</td><td>veronika4</td></tr>",
                            "<tr><td>Boros Vivien</td><td>vivien3@gmail.com</td><td>vivien3</td></tr>",
                            "<tr><td>Fodor Zoltán</td><td>zoltán.fodor@mail.hu</td><td>zoltan</td></tr>",
                            "<tr><td>Pintér Zoltán</td><td>zoltán.pintér@mail.hu</td><td>ZOLTANP</td></tr>",
                            "<tr><td>Tóth Zoltán</td><td>zoltán.tóth@mail.hu</td><td>ZOLTANT</td></tr>",
                            "<tr><td>Molnár Zsófi</td><td>zsofi1@gmail.com</td><td>zsofi1</td></tr>",
                            "<tr><td>Józsa Zsolt</td><td>ZSOLTJ@gmail.com</td><td>ZSOLTJ</td></tr>",
                            "<tr><td>Pusztai Zsuzsanna</td><td>zsuzsanna@gmail.com</td><td>zsuzsa</td></tr>",
                            "<tr><td>Varsányi Zsuzsa</td><td>zsuzsa.varsányi@mail.hu</td><td>zsuzsa3</td></tr>",
                            "<tr><td>Barta Zsuzsanna</td><td>zsuzsanna.barta@mail.hu</td><td>zsuzsanna</td></tr>",
                            "<tr><td>Vajda Zsuzsa</td><td>zsuzsa.vajda@mail.hu</td><td>ZSUZSAV</td></tr>",
                            "</table>"
                        ]
                    }
                }
            ],
            "execution_count": 6
        },
        {
            "cell_type": "markdown",
            "source": [
                "<span style=\"color: rgb(0, 0, 0); font-family: &quot;Open Sans&quot;, sans-serif; font-size: 14.44px; background-color: rgb(255, 255, 255);\">Listázzuk azon szálláshelyek azonosítóját és nevét, amelyek a saját helyükön (HELY) a legtöbb csillaggal rendelkeznek!</span>"
            ],
            "metadata": {
                "azdata_cell_guid": "99702914-a52e-4515-a224-8464e2386bbb"
            },
            "attachments": {}
        },
        {
            "cell_type": "code",
            "source": [
                "SELECT sz.SZALLAS_ID AS \"Az\", sz.SZALLAS_NEV AS \"Név\"\r\n",
                "FROM Szallashely sz\r\n",
                "WHERE sz.CSILLAGOK_SZAMA = (SELECT MAX(szh.CSILLAGOK_SZAMA)     \r\n",
                "                            FROM Szallashely szh\r\n",
                "                            WHERE sz.HELY = szh.HELY )\r\n",
                "ORDER BY sz.HELY, sz.CSILLAGOK_SZAMA DESC"
            ],
            "metadata": {
                "azdata_cell_guid": "c73a5d15-f65d-4f22-9788-ad98a8639d75",
                "language": "sql"
            },
            "outputs": [
                {
                    "output_type": "display_data",
                    "data": {
                        "text/html": "(11 rows affected)"
                    },
                    "metadata": {}
                },
                {
                    "output_type": "display_data",
                    "data": {
                        "text/html": "Total execution time: 00:00:00.009"
                    },
                    "metadata": {}
                },
                {
                    "output_type": "execute_result",
                    "metadata": {},
                    "execution_count": 19,
                    "data": {
                        "application/vnd.dataresource+json": {
                            "schema": {
                                "fields": [
                                    {
                                        "name": "Az"
                                    },
                                    {
                                        "name": "Név"
                                    }
                                ]
                            },
                            "data": [
                                {
                                    "Az": "8",
                                    "Név": "Hotel Három Hattyú"
                                },
                                {
                                    "Az": "11",
                                    "Név": "Partiszél Vendégház"
                                },
                                {
                                    "Az": "5",
                                    "Név": "Fortuna Panzió"
                                },
                                {
                                    "Az": "10",
                                    "Név": "Lagúna Hotel"
                                },
                                {
                                    "Az": "13",
                                    "Név": "Riviéra Panzió"
                                },
                                {
                                    "Az": "18",
                                    "Név": "Fortuna Apartman"
                                },
                                {
                                    "Az": "19",
                                    "Név": "Nyárfás Vendégház"
                                },
                                {
                                    "Az": "21",
                                    "Név": "Müller Vendégház"
                                },
                                {
                                    "Az": "3",
                                    "Név": "Fortuna Apartman"
                                },
                                {
                                    "Az": "16",
                                    "Név": "Bagoly Hotel"
                                },
                                {
                                    "Az": "17",
                                    "Név": "Szarvas Hotel"
                                }
                            ]
                        },
                        "text/html": [
                            "<table>",
                            "<tr><th>Az</th><th>Név</th></tr>",
                            "<tr><td>8</td><td>Hotel Három Hattyú</td></tr>",
                            "<tr><td>11</td><td>Partiszél Vendégház</td></tr>",
                            "<tr><td>5</td><td>Fortuna Panzió</td></tr>",
                            "<tr><td>10</td><td>Lagúna Hotel</td></tr>",
                            "<tr><td>13</td><td>Riviéra Panzió</td></tr>",
                            "<tr><td>18</td><td>Fortuna Apartman</td></tr>",
                            "<tr><td>19</td><td>Nyárfás Vendégház</td></tr>",
                            "<tr><td>21</td><td>Müller Vendégház</td></tr>",
                            "<tr><td>3</td><td>Fortuna Apartman</td></tr>",
                            "<tr><td>16</td><td>Bagoly Hotel</td></tr>",
                            "<tr><td>17</td><td>Szarvas Hotel</td></tr>",
                            "</table>"
                        ]
                    }
                }
            ],
            "execution_count": 19
        },
        {
            "cell_type": "markdown",
            "source": [
                "Készítsen lekérdezést, amely sorszámozza a vendégeket a foglalások száma alapján\n",
                "\n",
                "- A sorszám mellett jelenjen meg a vendég azonosítója, neve és a foglalások száma is\n",
                "- A legtöbbet foglaló vendég kapja az egyes sorszámot\n",
                "- Holtverseny esetén a számozás annyit ugorjon, ahány egyforma érték van"
            ],
            "metadata": {
                "azdata_cell_guid": "cfe7b44b-c202-4a1c-b7fc-746520fe9084"
            },
            "attachments": {}
        },
        {
            "cell_type": "code",
            "source": [
                "SELECT v.USERNEV, v.NEV, COUNT(f.FOGLALAS_PK) AS 'foglalasok_szama',\r\n",
                "    DENSE_RANK() OVER (ORDER BY COUNT(f.FOGLALAS_PK) DESC) AS 'rang'\r\n",
                "FROM vendeg v LEFT JOIN foglalas f ON v.USERNEV = f.UGYFEL_FK\r\n",
                "GROUP BY v.USERNEV, v.NEV\r\n",
                "ORDER BY 'rang'"
            ],
            "metadata": {
                "azdata_cell_guid": "a8e8b545-428d-4918-a5a6-99627438562f",
                "language": "sql",
                "tags": []
            },
            "outputs": [
                {
                    "output_type": "display_data",
                    "data": {
                        "text/html": "(196 rows affected)"
                    },
                    "metadata": {}
                },
                {
                    "output_type": "display_data",
                    "data": {
                        "text/html": "Total execution time: 00:00:00.013"
                    },
                    "metadata": {}
                },
                {
                    "output_type": "execute_result",
                    "metadata": {},
                    "execution_count": 20,
                    "data": {
                        "application/vnd.dataresource+json": {
                            "schema": {
                                "fields": [
                                    {
                                        "name": "USERNEV"
                                    },
                                    {
                                        "name": "NEV"
                                    },
                                    {
                                        "name": "foglalasok_szama"
                                    },
                                    {
                                        "name": "rang"
                                    }
                                ]
                            },
                            "data": [
                                {
                                    "USERNEV": "andras41",
                                    "NEV": "Komjáti András",
                                    "foglalasok_szama": "13",
                                    "rang": "1"
                                },
                                {
                                    "USERNEV": "ARONK",
                                    "NEV": "Kelemen Áron",
                                    "foglalasok_szama": "13",
                                    "rang": "1"
                                },
                                {
                                    "USERNEV": "krisztian4",
                                    "NEV": "Czérna Krisztián",
                                    "foglalasok_szama": "12",
                                    "rang": "2"
                                },
                                {
                                    "USERNEV": "peter4",
                                    "NEV": "Bíró Péter",
                                    "foglalasok_szama": "12",
                                    "rang": "2"
                                },
                                {
                                    "USERNEV": "sara",
                                    "NEV": "Farkas Sára",
                                    "foglalasok_szama": "12",
                                    "rang": "2"
                                },
                                {
                                    "USERNEV": "zoltan4",
                                    "NEV": "Barna Zoltán",
                                    "foglalasok_szama": "12",
                                    "rang": "2"
                                },
                                {
                                    "USERNEV": "kata",
                                    "NEV": "Gondos Katalin",
                                    "foglalasok_szama": "10",
                                    "rang": "3"
                                },
                                {
                                    "USERNEV": "akos",
                                    "NEV": "Bíró Ákos",
                                    "foglalasok_szama": "10",
                                    "rang": "3"
                                },
                                {
                                    "USERNEV": "balazs2",
                                    "NEV": "Szűcs Balázs",
                                    "foglalasok_szama": "10",
                                    "rang": "3"
                                },
                                {
                                    "USERNEV": "balint1",
                                    "NEV": "Molnár Bálint",
                                    "foglalasok_szama": "10",
                                    "rang": "3"
                                },
                                {
                                    "USERNEV": "eszter2",
                                    "NEV": "Balogh Eszter",
                                    "foglalasok_szama": "10",
                                    "rang": "3"
                                },
                                {
                                    "USERNEV": "dani",
                                    "NEV": "Vörös Dániel",
                                    "foglalasok_szama": "9",
                                    "rang": "4"
                                },
                                {
                                    "USERNEV": "daniel",
                                    "NEV": "Rácz Dániel",
                                    "foglalasok_szama": "9",
                                    "rang": "4"
                                },
                                {
                                    "USERNEV": "david",
                                    "NEV": "Ambrus Dávid",
                                    "foglalasok_szama": "9",
                                    "rang": "4"
                                },
                                {
                                    "USERNEV": "BEATRIXK",
                                    "NEV": "Kerényi Beatrix",
                                    "foglalasok_szama": "9",
                                    "rang": "4"
                                },
                                {
                                    "USERNEV": "bence",
                                    "NEV": "Győrffy Bence",
                                    "foglalasok_szama": "9",
                                    "rang": "4"
                                },
                                {
                                    "USERNEV": "ANIKOS",
                                    "NEV": "Simon Anikó",
                                    "foglalasok_szama": "9",
                                    "rang": "4"
                                },
                                {
                                    "USERNEV": "katalin",
                                    "NEV": "Horváth Katalin",
                                    "foglalasok_szama": "9",
                                    "rang": "4"
                                },
                                {
                                    "USERNEV": "katka",
                                    "NEV": "Kovács Katalin",
                                    "foglalasok_szama": "9",
                                    "rang": "4"
                                },
                                {
                                    "USERNEV": "norbert4",
                                    "NEV": "Mile Norbert",
                                    "foglalasok_szama": "9",
                                    "rang": "4"
                                },
                                {
                                    "USERNEV": "szilvia1",
                                    "NEV": "Tari Szilvia",
                                    "foglalasok_szama": "9",
                                    "rang": "4"
                                },
                                {
                                    "USERNEV": "TAMASF",
                                    "NEV": "Fényes Tamás",
                                    "foglalasok_szama": "9",
                                    "rang": "4"
                                },
                                {
                                    "USERNEV": "tunde",
                                    "NEV": "Turcsik Tünde",
                                    "foglalasok_szama": "8",
                                    "rang": "5"
                                },
                                {
                                    "USERNEV": "ROBERTI",
                                    "NEV": "Iván Róbert",
                                    "foglalasok_szama": "8",
                                    "rang": "5"
                                },
                                {
                                    "USERNEV": "MATYASS",
                                    "NEV": "Szilágyi Mátyás",
                                    "foglalasok_szama": "8",
                                    "rang": "5"
                                },
                                {
                                    "USERNEV": "krisztina",
                                    "NEV": "Szedlár Krisztina",
                                    "foglalasok_szama": "8",
                                    "rang": "5"
                                },
                                {
                                    "USERNEV": "maria1",
                                    "NEV": "Baráth Mária",
                                    "foglalasok_szama": "8",
                                    "rang": "5"
                                },
                                {
                                    "USERNEV": "fruzsina4",
                                    "NEV": "Frank Fruzsina",
                                    "foglalasok_szama": "8",
                                    "rang": "5"
                                },
                                {
                                    "USERNEV": "GYORGYO",
                                    "NEV": "Oroszi György",
                                    "foglalasok_szama": "8",
                                    "rang": "5"
                                },
                                {
                                    "USERNEV": "anett3",
                                    "NEV": "Pivarcsi Anett",
                                    "foglalasok_szama": "8",
                                    "rang": "5"
                                },
                                {
                                    "USERNEV": "andras3",
                                    "NEV": "Vígh András",
                                    "foglalasok_szama": "8",
                                    "rang": "5"
                                },
                                {
                                    "USERNEV": "bernadett2",
                                    "NEV": "Kovács Bernadett",
                                    "foglalasok_szama": "8",
                                    "rang": "5"
                                },
                                {
                                    "USERNEV": "csongor3",
                                    "NEV": "Nagymihály Csongor",
                                    "foglalasok_szama": "8",
                                    "rang": "5"
                                },
                                {
                                    "USERNEV": "daniel1",
                                    "NEV": "Keszler Dániel",
                                    "foglalasok_szama": "7",
                                    "rang": "6"
                                },
                                {
                                    "USERNEV": "edit",
                                    "NEV": "Bittmann Edit",
                                    "foglalasok_szama": "7",
                                    "rang": "6"
                                },
                                {
                                    "USERNEV": "emese",
                                    "NEV": "Kuruc Emese",
                                    "foglalasok_szama": "7",
                                    "rang": "6"
                                },
                                {
                                    "USERNEV": "BERNADETTO",
                                    "NEV": "Orbán Bernadett",
                                    "foglalasok_szama": "7",
                                    "rang": "6"
                                },
                                {
                                    "USERNEV": "bernadett1",
                                    "NEV": "Simon Bernadett",
                                    "foglalasok_szama": "7",
                                    "rang": "6"
                                },
                                {
                                    "USERNEV": "alexandra",
                                    "NEV": "Bagóczki Alexandra",
                                    "foglalasok_szama": "7",
                                    "rang": "6"
                                },
                                {
                                    "USERNEV": "andras21",
                                    "NEV": "Molnár András",
                                    "foglalasok_szama": "7",
                                    "rang": "6"
                                },
                                {
                                    "USERNEV": "arpad2",
                                    "NEV": "Ötvös Árpád",
                                    "foglalasok_szama": "7",
                                    "rang": "6"
                                },
                                {
                                    "USERNEV": "ARPADH",
                                    "NEV": "Horváth Árpád",
                                    "foglalasok_szama": "7",
                                    "rang": "6"
                                },
                                {
                                    "USERNEV": "GYONGYIK",
                                    "NEV": "Kornseé Gyöngyi",
                                    "foglalasok_szama": "7",
                                    "rang": "6"
                                },
                                {
                                    "USERNEV": "imre1",
                                    "NEV": "Papp Imre",
                                    "foglalasok_szama": "7",
                                    "rang": "6"
                                },
                                {
                                    "USERNEV": "JANOSG",
                                    "NEV": "Giliga János",
                                    "foglalasok_szama": "7",
                                    "rang": "6"
                                },
                                {
                                    "USERNEV": "JOZSEFG",
                                    "NEV": "Gyuris József",
                                    "foglalasok_szama": "7",
                                    "rang": "6"
                                },
                                {
                                    "USERNEV": "kati",
                                    "NEV": "Zatykó Katalin",
                                    "foglalasok_szama": "7",
                                    "rang": "6"
                                },
                                {
                                    "USERNEV": "marton",
                                    "NEV": "Kalacsi Márton",
                                    "foglalasok_szama": "7",
                                    "rang": "6"
                                },
                                {
                                    "USERNEV": "nikoletta4",
                                    "NEV": "Kő Nikoletta",
                                    "foglalasok_szama": "7",
                                    "rang": "6"
                                },
                                {
                                    "USERNEV": "norbert2",
                                    "NEV": "Hegedűs Norbert",
                                    "foglalasok_szama": "7",
                                    "rang": "6"
                                },
                                {
                                    "USERNEV": "SZABOLCSM",
                                    "NEV": "Miklós Szabolcs",
                                    "foglalasok_szama": "7",
                                    "rang": "6"
                                },
                                {
                                    "USERNEV": "SZILARDS",
                                    "NEV": "Szalai Szilárd",
                                    "foglalasok_szama": "7",
                                    "rang": "6"
                                },
                                {
                                    "USERNEV": "vivien3",
                                    "NEV": "Boros Vivien",
                                    "foglalasok_szama": "7",
                                    "rang": "6"
                                },
                                {
                                    "USERNEV": "veronika4",
                                    "NEV": "Tankó Veronika",
                                    "foglalasok_szama": "6",
                                    "rang": "7"
                                },
                                {
                                    "USERNEV": "ZOLTANP",
                                    "NEV": "Pintér Zoltán",
                                    "foglalasok_szama": "6",
                                    "rang": "7"
                                },
                                {
                                    "USERNEV": "ZSOLTJ",
                                    "NEV": "Józsa Zsolt",
                                    "foglalasok_szama": "6",
                                    "rang": "7"
                                },
                                {
                                    "USERNEV": "ZSUZSAV",
                                    "NEV": "Vajda Zsuzsa",
                                    "foglalasok_szama": "6",
                                    "rang": "7"
                                },
                                {
                                    "USERNEV": "tihamer",
                                    "NEV": "Kazy Tihamér",
                                    "foglalasok_szama": "6",
                                    "rang": "7"
                                },
                                {
                                    "USERNEV": "peter3",
                                    "NEV": "Szalai Péter",
                                    "foglalasok_szama": "6",
                                    "rang": "7"
                                },
                                {
                                    "USERNEV": "polla",
                                    "NEV": "Palágyi Polla",
                                    "foglalasok_szama": "6",
                                    "rang": "7"
                                },
                                {
                                    "USERNEV": "RENATAK",
                                    "NEV": "Kardos Renáta",
                                    "foglalasok_szama": "6",
                                    "rang": "7"
                                },
                                {
                                    "USERNEV": "MONIKAM",
                                    "NEV": "Mohos Mónika",
                                    "foglalasok_szama": "6",
                                    "rang": "7"
                                },
                                {
                                    "USERNEV": "KRISZTIANM",
                                    "NEV": "Mogyródi Krisztián",
                                    "foglalasok_szama": "6",
                                    "rang": "7"
                                },
                                {
                                    "USERNEV": "krisztina1",
                                    "NEV": "Bori Krisztina",
                                    "foglalasok_szama": "6",
                                    "rang": "7"
                                },
                                {
                                    "USERNEV": "kriszti",
                                    "NEV": "Horváth Krisztina",
                                    "foglalasok_szama": "6",
                                    "rang": "7"
                                },
                                {
                                    "USERNEV": "LASZLON",
                                    "NEV": "Nagy László",
                                    "foglalasok_szama": "6",
                                    "rang": "7"
                                },
                                {
                                    "USERNEV": "lala",
                                    "NEV": "Nagymihály Lajos",
                                    "foglalasok_szama": "6",
                                    "rang": "7"
                                },
                                {
                                    "USERNEV": "katalin4",
                                    "NEV": "Kertész Katalin",
                                    "foglalasok_szama": "6",
                                    "rang": "7"
                                },
                                {
                                    "USERNEV": "gabor1",
                                    "NEV": "Köves Gábor",
                                    "foglalasok_szama": "6",
                                    "rang": "7"
                                },
                                {
                                    "USERNEV": "gabriella1",
                                    "NEV": "Nagy Gabriella",
                                    "foglalasok_szama": "6",
                                    "rang": "7"
                                },
                                {
                                    "USERNEV": "ARPADM",
                                    "NEV": "Móricz Árpád",
                                    "foglalasok_szama": "6",
                                    "rang": "7"
                                },
                                {
                                    "USERNEV": "ANNAMARIAR",
                                    "NEV": "Regős Annamária",
                                    "foglalasok_szama": "6",
                                    "rang": "7"
                                },
                                {
                                    "USERNEV": "aron2",
                                    "NEV": "Jakab Áron",
                                    "foglalasok_szama": "6",
                                    "rang": "7"
                                },
                                {
                                    "USERNEV": "attila1",
                                    "NEV": "Gulyás Attila",
                                    "foglalasok_szama": "6",
                                    "rang": "7"
                                },
                                {
                                    "USERNEV": "andrea",
                                    "NEV": "Kiss Andrea",
                                    "foglalasok_szama": "6",
                                    "rang": "7"
                                },
                                {
                                    "USERNEV": "AGNESH",
                                    "NEV": "Horváth Ágnes",
                                    "foglalasok_szama": "6",
                                    "rang": "7"
                                },
                                {
                                    "USERNEV": "adam4",
                                    "NEV": "Bieniek Ádám",
                                    "foglalasok_szama": "6",
                                    "rang": "7"
                                },
                                {
                                    "USERNEV": "beata4",
                                    "NEV": "Bagi Beáta",
                                    "foglalasok_szama": "6",
                                    "rang": "7"
                                },
                                {
                                    "USERNEV": "BENCEB",
                                    "NEV": "Bajusz Bence",
                                    "foglalasok_szama": "6",
                                    "rang": "7"
                                },
                                {
                                    "USERNEV": "bertalan",
                                    "NEV": "Csiger Bertalan",
                                    "foglalasok_szama": "6",
                                    "rang": "7"
                                },
                                {
                                    "USERNEV": "BEATRIXS",
                                    "NEV": "Szekendi Beatrix",
                                    "foglalasok_szama": "6",
                                    "rang": "7"
                                },
                                {
                                    "USERNEV": "BELAF",
                                    "NEV": "Farkas Béla",
                                    "foglalasok_szama": "6",
                                    "rang": "7"
                                },
                                {
                                    "USERNEV": "balazs3",
                                    "NEV": "Bakódy Balázs",
                                    "foglalasok_szama": "6",
                                    "rang": "7"
                                },
                                {
                                    "USERNEV": "balazs1",
                                    "NEV": "Bozsik Balázs",
                                    "foglalasok_szama": "6",
                                    "rang": "7"
                                },
                                {
                                    "USERNEV": "david1",
                                    "NEV": "Sobják Dávid",
                                    "foglalasok_szama": "6",
                                    "rang": "7"
                                },
                                {
                                    "USERNEV": "denes",
                                    "NEV": "Tömböly Dénes",
                                    "foglalasok_szama": "6",
                                    "rang": "7"
                                },
                                {
                                    "USERNEV": "dora3",
                                    "NEV": "Sarodi Dóra",
                                    "foglalasok_szama": "5",
                                    "rang": "8"
                                },
                                {
                                    "USERNEV": "EVAV",
                                    "NEV": "Viktor Éva",
                                    "foglalasok_szama": "5",
                                    "rang": "8"
                                },
                                {
                                    "USERNEV": "brigitta",
                                    "NEV": "Székely Brigitta",
                                    "foglalasok_szama": "5",
                                    "rang": "8"
                                },
                                {
                                    "USERNEV": "brigitta3",
                                    "NEV": "Pataki Brigitta",
                                    "foglalasok_szama": "5",
                                    "rang": "8"
                                },
                                {
                                    "USERNEV": "agnes",
                                    "NEV": "Lengyel Ágnes",
                                    "foglalasok_szama": "5",
                                    "rang": "8"
                                },
                                {
                                    "USERNEV": "ANDRASE",
                                    "NEV": "Erdei András",
                                    "foglalasok_szama": "5",
                                    "rang": "8"
                                },
                                {
                                    "USERNEV": "andi",
                                    "NEV": "Maródi Andrea",
                                    "foglalasok_szama": "5",
                                    "rang": "8"
                                },
                                {
                                    "USERNEV": "andras2",
                                    "NEV": "Tóth András",
                                    "foglalasok_szama": "5",
                                    "rang": "8"
                                },
                                {
                                    "USERNEV": "gusztav",
                                    "NEV": "Bárci Gusztáv",
                                    "foglalasok_szama": "5",
                                    "rang": "8"
                                },
                                {
                                    "USERNEV": "julia",
                                    "NEV": "Tóth Júlia",
                                    "foglalasok_szama": "5",
                                    "rang": "8"
                                },
                                {
                                    "USERNEV": "janos3",
                                    "NEV": "Harangozó János",
                                    "foglalasok_szama": "5",
                                    "rang": "8"
                                },
                                {
                                    "USERNEV": "jozsef2",
                                    "NEV": "Vajda József",
                                    "foglalasok_szama": "5",
                                    "rang": "8"
                                },
                                {
                                    "USERNEV": "laszlo2",
                                    "NEV": "Móra László",
                                    "foglalasok_szama": "5",
                                    "rang": "8"
                                },
                                {
                                    "USERNEV": "mark",
                                    "NEV": "Kispál Márk",
                                    "foglalasok_szama": "5",
                                    "rang": "8"
                                },
                                {
                                    "USERNEV": "KRISZTINAG",
                                    "NEV": "Gyárfás Krisztina",
                                    "foglalasok_szama": "5",
                                    "rang": "8"
                                },
                                {
                                    "USERNEV": "MIHALYJ",
                                    "NEV": "Juhász Mihály",
                                    "foglalasok_szama": "5",
                                    "rang": "8"
                                },
                                {
                                    "USERNEV": "norbert",
                                    "NEV": "Szűcs Norbert",
                                    "foglalasok_szama": "5",
                                    "rang": "8"
                                },
                                {
                                    "USERNEV": "pal",
                                    "NEV": "Barabás Pál",
                                    "foglalasok_szama": "5",
                                    "rang": "8"
                                },
                                {
                                    "USERNEV": "RENATAS",
                                    "NEV": "Szirmai Renáta",
                                    "foglalasok_szama": "5",
                                    "rang": "8"
                                },
                                {
                                    "USERNEV": "PETERB",
                                    "NEV": "Berendi Péter",
                                    "foglalasok_szama": "5",
                                    "rang": "8"
                                },
                                {
                                    "USERNEV": "reka4",
                                    "NEV": "Szikszai Réka",
                                    "foglalasok_szama": "5",
                                    "rang": "8"
                                },
                                {
                                    "USERNEV": "sandor3",
                                    "NEV": "Farkas Sándor",
                                    "foglalasok_szama": "5",
                                    "rang": "8"
                                },
                                {
                                    "USERNEV": "valentin",
                                    "NEV": "Feró Valentin",
                                    "foglalasok_szama": "5",
                                    "rang": "8"
                                },
                                {
                                    "USERNEV": "timea2",
                                    "NEV": "Dusha Tímea",
                                    "foglalasok_szama": "5",
                                    "rang": "8"
                                },
                                {
                                    "USERNEV": "SEBASTIANF",
                                    "NEV": "Foltényi Sebastián",
                                    "foglalasok_szama": "5",
                                    "rang": "8"
                                },
                                {
                                    "USERNEV": "sebestyen",
                                    "NEV": "Rab Sebestyén",
                                    "foglalasok_szama": "4",
                                    "rang": "9"
                                },
                                {
                                    "USERNEV": "tamas",
                                    "NEV": "Antal Tamás",
                                    "foglalasok_szama": "4",
                                    "rang": "9"
                                },
                                {
                                    "USERNEV": "sandor4",
                                    "NEV": "Nagy Sándor",
                                    "foglalasok_szama": "4",
                                    "rang": "9"
                                },
                                {
                                    "USERNEV": "sandor",
                                    "NEV": "Karasz Sándor",
                                    "foglalasok_szama": "4",
                                    "rang": "9"
                                },
                                {
                                    "USERNEV": "roland",
                                    "NEV": "Tóth Roland",
                                    "foglalasok_szama": "4",
                                    "rang": "9"
                                },
                                {
                                    "USERNEV": "roland1",
                                    "NEV": "Ferencz Roland",
                                    "foglalasok_szama": "4",
                                    "rang": "9"
                                },
                                {
                                    "USERNEV": "robert2",
                                    "NEV": "Patay Róbert",
                                    "foglalasok_szama": "4",
                                    "rang": "9"
                                },
                                {
                                    "USERNEV": "rajmond4",
                                    "NEV": "Rácz Rajmond",
                                    "foglalasok_szama": "4",
                                    "rang": "9"
                                },
                                {
                                    "USERNEV": "zsolt1",
                                    "NEV": "Pulai Zsolt",
                                    "foglalasok_szama": "4",
                                    "rang": "9"
                                },
                                {
                                    "USERNEV": "zsuzsa3",
                                    "NEV": "Varsányi Zsuzsa",
                                    "foglalasok_szama": "4",
                                    "rang": "9"
                                },
                                {
                                    "USERNEV": "zsuzsanna",
                                    "NEV": "Barta Zsuzsanna",
                                    "foglalasok_szama": "4",
                                    "rang": "9"
                                },
                                {
                                    "USERNEV": "VIKTORIAU",
                                    "NEV": "Urbán Viktoria",
                                    "foglalasok_szama": "4",
                                    "rang": "9"
                                },
                                {
                                    "USERNEV": "peter1",
                                    "NEV": "Kozma Péter",
                                    "foglalasok_szama": "4",
                                    "rang": "9"
                                },
                                {
                                    "USERNEV": "peter2",
                                    "NEV": "Bozsó Péter",
                                    "foglalasok_szama": "4",
                                    "rang": "9"
                                },
                                {
                                    "USERNEV": "nikolett3",
                                    "NEV": "Horváth Nikolett",
                                    "foglalasok_szama": "4",
                                    "rang": "9"
                                },
                                {
                                    "USERNEV": "NIKOLETTAT",
                                    "NEV": "Tatár Nikoletta",
                                    "foglalasok_szama": "4",
                                    "rang": "9"
                                },
                                {
                                    "USERNEV": "julianna4",
                                    "NEV": "Szabó Julianna",
                                    "foglalasok_szama": "4",
                                    "rang": "9"
                                },
                                {
                                    "USERNEV": "MARKH",
                                    "NEV": "Horváth Márk",
                                    "foglalasok_szama": "4",
                                    "rang": "9"
                                },
                                {
                                    "USERNEV": "LASZLOA",
                                    "NEV": "Antal László",
                                    "foglalasok_szama": "4",
                                    "rang": "9"
                                },
                                {
                                    "USERNEV": "JANOSP",
                                    "NEV": "Pálinkás János",
                                    "foglalasok_szama": "4",
                                    "rang": "9"
                                },
                                {
                                    "USERNEV": "istvan1",
                                    "NEV": "Vizi István",
                                    "foglalasok_szama": "4",
                                    "rang": "9"
                                },
                                {
                                    "USERNEV": "ilona3",
                                    "NEV": "Bosnyák Ilona",
                                    "foglalasok_szama": "4",
                                    "rang": "9"
                                },
                                {
                                    "USERNEV": "eva2",
                                    "NEV": "Perlinger Éva",
                                    "foglalasok_szama": "4",
                                    "rang": "9"
                                },
                                {
                                    "USERNEV": "georgij",
                                    "NEV": "Nyíri Georgij",
                                    "foglalasok_szama": "4",
                                    "rang": "9"
                                },
                                {
                                    "USERNEV": "gabor4",
                                    "NEV": "Telek Gábor",
                                    "foglalasok_szama": "4",
                                    "rang": "9"
                                },
                                {
                                    "USERNEV": "aniko4",
                                    "NEV": "Böröcz Anikó",
                                    "foglalasok_szama": "4",
                                    "rang": "9"
                                },
                                {
                                    "USERNEV": "anita",
                                    "NEV": "Hamvay-Kovács Anita",
                                    "foglalasok_szama": "4",
                                    "rang": "9"
                                },
                                {
                                    "USERNEV": "andrea4",
                                    "NEV": "Neizer Andrea",
                                    "foglalasok_szama": "4",
                                    "rang": "9"
                                },
                                {
                                    "USERNEV": "ATTILAO",
                                    "NEV": "Opra Attila",
                                    "foglalasok_szama": "4",
                                    "rang": "9"
                                },
                                {
                                    "USERNEV": "ferenc1",
                                    "NEV": "Orosz Ferenc",
                                    "foglalasok_szama": "4",
                                    "rang": "9"
                                },
                                {
                                    "USERNEV": "ESZTERE",
                                    "NEV": "Érsek Eszter",
                                    "foglalasok_szama": "4",
                                    "rang": "9"
                                },
                                {
                                    "USERNEV": "eszter",
                                    "NEV": "Molnár Eszter",
                                    "foglalasok_szama": "4",
                                    "rang": "9"
                                },
                                {
                                    "USERNEV": "debora",
                                    "NEV": "Barna Debóra",
                                    "foglalasok_szama": "4",
                                    "rang": "9"
                                },
                                {
                                    "USERNEV": "eszter4",
                                    "NEV": "Fülöp Eszter",
                                    "foglalasok_szama": "3",
                                    "rang": "10"
                                },
                                {
                                    "USERNEV": "balint",
                                    "NEV": "Horváth Bálint",
                                    "foglalasok_szama": "3",
                                    "rang": "10"
                                },
                                {
                                    "USERNEV": "ANDREAT",
                                    "NEV": "Tornyos Andrea",
                                    "foglalasok_szama": "3",
                                    "rang": "10"
                                },
                                {
                                    "USERNEV": "aniko",
                                    "NEV": "Tóth Anikó",
                                    "foglalasok_szama": "3",
                                    "rang": "10"
                                },
                                {
                                    "USERNEV": "attila4",
                                    "NEV": "Baróti Attila",
                                    "foglalasok_szama": "3",
                                    "rang": "10"
                                },
                                {
                                    "USERNEV": "attila",
                                    "NEV": "Csóti Attila",
                                    "foglalasok_szama": "3",
                                    "rang": "10"
                                },
                                {
                                    "USERNEV": "andras4",
                                    "NEV": "Back András",
                                    "foglalasok_szama": "3",
                                    "rang": "10"
                                },
                                {
                                    "USERNEV": "agnes3",
                                    "NEV": "Hartyánszky Ágnes",
                                    "foglalasok_szama": "3",
                                    "rang": "10"
                                },
                                {
                                    "USERNEV": "adam1",
                                    "NEV": "Kiss Ádám",
                                    "foglalasok_szama": "3",
                                    "rang": "10"
                                },
                                {
                                    "USERNEV": "AGNESK",
                                    "NEV": "Kovács Ágnes",
                                    "foglalasok_szama": "3",
                                    "rang": "10"
                                },
                                {
                                    "USERNEV": "aladar",
                                    "NEV": "Dunai Aladár",
                                    "foglalasok_szama": "3",
                                    "rang": "10"
                                },
                                {
                                    "USERNEV": "istvan",
                                    "NEV": "Soós István",
                                    "foglalasok_szama": "3",
                                    "rang": "10"
                                },
                                {
                                    "USERNEV": "henrik3",
                                    "NEV": "Nádudvari Henrik",
                                    "foglalasok_szama": "3",
                                    "rang": "10"
                                },
                                {
                                    "USERNEV": "IBOLYAA",
                                    "NEV": "Andor Ibolya",
                                    "foglalasok_szama": "3",
                                    "rang": "10"
                                },
                                {
                                    "USERNEV": "jozsef",
                                    "NEV": "Gergely József",
                                    "foglalasok_szama": "3",
                                    "rang": "10"
                                },
                                {
                                    "USERNEV": "JUDITH",
                                    "NEV": "Hídasi Judit",
                                    "foglalasok_szama": "3",
                                    "rang": "10"
                                },
                                {
                                    "USERNEV": "klaudia2",
                                    "NEV": "Bakó Klaudia",
                                    "foglalasok_szama": "3",
                                    "rang": "10"
                                },
                                {
                                    "USERNEV": "kornel4",
                                    "NEV": "Lukács Kornél",
                                    "foglalasok_szama": "3",
                                    "rang": "10"
                                },
                                {
                                    "USERNEV": "lajos",
                                    "NEV": "Kiss Lajos",
                                    "foglalasok_szama": "3",
                                    "rang": "10"
                                },
                                {
                                    "USERNEV": "norbert5",
                                    "NEV": "Béres Norbert",
                                    "foglalasok_szama": "3",
                                    "rang": "10"
                                },
                                {
                                    "USERNEV": "miklos2",
                                    "NEV": "Gondos Miklós",
                                    "foglalasok_szama": "3",
                                    "rang": "10"
                                },
                                {
                                    "USERNEV": "MIKLOSB",
                                    "NEV": "Balla Miklós",
                                    "foglalasok_szama": "3",
                                    "rang": "10"
                                },
                                {
                                    "USERNEV": "NANDORF",
                                    "NEV": "Fő Nándor",
                                    "foglalasok_szama": "3",
                                    "rang": "10"
                                },
                                {
                                    "USERNEV": "MATEK",
                                    "NEV": "Koza Máté",
                                    "foglalasok_szama": "3",
                                    "rang": "10"
                                },
                                {
                                    "USERNEV": "ZOLTANT",
                                    "NEV": "Tóth Zoltán",
                                    "foglalasok_szama": "3",
                                    "rang": "10"
                                },
                                {
                                    "USERNEV": "zsuzsa",
                                    "NEV": "Pusztai Zsuzsanna",
                                    "foglalasok_szama": "3",
                                    "rang": "10"
                                },
                                {
                                    "USERNEV": "roza2",
                                    "NEV": "Bucskó Róza",
                                    "foglalasok_szama": "3",
                                    "rang": "10"
                                },
                                {
                                    "USERNEV": "ROBERTP",
                                    "NEV": "Pásztor Róbert",
                                    "foglalasok_szama": "2",
                                    "rang": "11"
                                },
                                {
                                    "USERNEV": "tibor",
                                    "NEV": "Gombos Tibor",
                                    "foglalasok_szama": "2",
                                    "rang": "11"
                                },
                                {
                                    "USERNEV": "tamara2",
                                    "NEV": "Miklós Tamara",
                                    "foglalasok_szama": "2",
                                    "rang": "11"
                                },
                                {
                                    "USERNEV": "zsofi1",
                                    "NEV": "Molnár Zsófi",
                                    "foglalasok_szama": "2",
                                    "rang": "11"
                                },
                                {
                                    "USERNEV": "VIKTORK",
                                    "NEV": "Keresztúri Viktor",
                                    "foglalasok_szama": "2",
                                    "rang": "11"
                                },
                                {
                                    "USERNEV": "zoltan",
                                    "NEV": "Fodor Zoltán",
                                    "foglalasok_szama": "2",
                                    "rang": "11"
                                },
                                {
                                    "USERNEV": "matyas2",
                                    "NEV": "Botka Mátyás",
                                    "foglalasok_szama": "2",
                                    "rang": "11"
                                },
                                {
                                    "USERNEV": "kristof4",
                                    "NEV": "Poprádi Kristóf",
                                    "foglalasok_szama": "2",
                                    "rang": "11"
                                },
                                {
                                    "USERNEV": "julia4",
                                    "NEV": "Nagy Júlia",
                                    "foglalasok_szama": "2",
                                    "rang": "11"
                                },
                                {
                                    "USERNEV": "ISTVANV",
                                    "NEV": "Varga István",
                                    "foglalasok_szama": "2",
                                    "rang": "11"
                                },
                                {
                                    "USERNEV": "imre",
                                    "NEV": "Búza Imre",
                                    "foglalasok_szama": "2",
                                    "rang": "11"
                                },
                                {
                                    "USERNEV": "adam3",
                                    "NEV": "Barkóci Ádám",
                                    "foglalasok_szama": "2",
                                    "rang": "11"
                                },
                                {
                                    "USERNEV": "annamaria1",
                                    "NEV": "Szűcs Annamária",
                                    "foglalasok_szama": "2",
                                    "rang": "11"
                                },
                                {
                                    "USERNEV": "balint2",
                                    "NEV": "Vukasinovity Bálint",
                                    "foglalasok_szama": "2",
                                    "rang": "11"
                                },
                                {
                                    "USERNEV": "balu",
                                    "NEV": "Endresz Bálint",
                                    "foglalasok_szama": "2",
                                    "rang": "11"
                                },
                                {
                                    "USERNEV": "eva",
                                    "NEV": "Enyedi Éva",
                                    "foglalasok_szama": "2",
                                    "rang": "11"
                                },
                                {
                                    "USERNEV": "david4",
                                    "NEV": "Berta Dávid",
                                    "foglalasok_szama": "1",
                                    "rang": "12"
                                },
                                {
                                    "USERNEV": "ANDRASN",
                                    "NEV": "Nagy András",
                                    "foglalasok_szama": "1",
                                    "rang": "12"
                                },
                                {
                                    "USERNEV": "andrea3",
                                    "NEV": "Szomor Andrea",
                                    "foglalasok_szama": "1",
                                    "rang": "12"
                                },
                                {
                                    "USERNEV": "gabriella10",
                                    "NEV": "Vida Gabriella",
                                    "foglalasok_szama": "1",
                                    "rang": "12"
                                },
                                {
                                    "USERNEV": "laszlo1",
                                    "NEV": "Farkas László",
                                    "foglalasok_szama": "1",
                                    "rang": "12"
                                },
                                {
                                    "USERNEV": "szabolcs",
                                    "NEV": "Bodor Szabolcs",
                                    "foglalasok_szama": "1",
                                    "rang": "12"
                                },
                                {
                                    "USERNEV": "tibor2",
                                    "NEV": "Dániel Tibor",
                                    "foglalasok_szama": "1",
                                    "rang": "12"
                                },
                                {
                                    "USERNEV": "timea",
                                    "NEV": "Papós Tímea",
                                    "foglalasok_szama": "1",
                                    "rang": "12"
                                },
                                {
                                    "USERNEV": "GABORS",
                                    "NEV": "Szöllősi Gábor",
                                    "foglalasok_szama": "0",
                                    "rang": "13"
                                }
                            ]
                        },
                        "text/html": [
                            "<table>",
                            "<tr><th>USERNEV</th><th>NEV</th><th>foglalasok_szama</th><th>rang</th></tr>",
                            "<tr><td>andras41</td><td>Komjáti András</td><td>13</td><td>1</td></tr>",
                            "<tr><td>ARONK</td><td>Kelemen Áron</td><td>13</td><td>1</td></tr>",
                            "<tr><td>krisztian4</td><td>Czérna Krisztián</td><td>12</td><td>2</td></tr>",
                            "<tr><td>peter4</td><td>Bíró Péter</td><td>12</td><td>2</td></tr>",
                            "<tr><td>sara</td><td>Farkas Sára</td><td>12</td><td>2</td></tr>",
                            "<tr><td>zoltan4</td><td>Barna Zoltán</td><td>12</td><td>2</td></tr>",
                            "<tr><td>kata</td><td>Gondos Katalin</td><td>10</td><td>3</td></tr>",
                            "<tr><td>akos</td><td>Bíró Ákos</td><td>10</td><td>3</td></tr>",
                            "<tr><td>balazs2</td><td>Szűcs Balázs</td><td>10</td><td>3</td></tr>",
                            "<tr><td>balint1</td><td>Molnár Bálint</td><td>10</td><td>3</td></tr>",
                            "<tr><td>eszter2</td><td>Balogh Eszter</td><td>10</td><td>3</td></tr>",
                            "<tr><td>dani</td><td>Vörös Dániel</td><td>9</td><td>4</td></tr>",
                            "<tr><td>daniel</td><td>Rácz Dániel</td><td>9</td><td>4</td></tr>",
                            "<tr><td>david</td><td>Ambrus Dávid</td><td>9</td><td>4</td></tr>",
                            "<tr><td>BEATRIXK</td><td>Kerényi Beatrix</td><td>9</td><td>4</td></tr>",
                            "<tr><td>bence</td><td>Győrffy Bence</td><td>9</td><td>4</td></tr>",
                            "<tr><td>ANIKOS</td><td>Simon Anikó</td><td>9</td><td>4</td></tr>",
                            "<tr><td>katalin</td><td>Horváth Katalin</td><td>9</td><td>4</td></tr>",
                            "<tr><td>katka</td><td>Kovács Katalin</td><td>9</td><td>4</td></tr>",
                            "<tr><td>norbert4</td><td>Mile Norbert</td><td>9</td><td>4</td></tr>",
                            "<tr><td>szilvia1</td><td>Tari Szilvia</td><td>9</td><td>4</td></tr>",
                            "<tr><td>TAMASF</td><td>Fényes Tamás</td><td>9</td><td>4</td></tr>",
                            "<tr><td>tunde</td><td>Turcsik Tünde</td><td>8</td><td>5</td></tr>",
                            "<tr><td>ROBERTI</td><td>Iván Róbert</td><td>8</td><td>5</td></tr>",
                            "<tr><td>MATYASS</td><td>Szilágyi Mátyás</td><td>8</td><td>5</td></tr>",
                            "<tr><td>krisztina</td><td>Szedlár Krisztina</td><td>8</td><td>5</td></tr>",
                            "<tr><td>maria1</td><td>Baráth Mária</td><td>8</td><td>5</td></tr>",
                            "<tr><td>fruzsina4</td><td>Frank Fruzsina</td><td>8</td><td>5</td></tr>",
                            "<tr><td>GYORGYO</td><td>Oroszi György</td><td>8</td><td>5</td></tr>",
                            "<tr><td>anett3</td><td>Pivarcsi Anett</td><td>8</td><td>5</td></tr>",
                            "<tr><td>andras3</td><td>Vígh András</td><td>8</td><td>5</td></tr>",
                            "<tr><td>bernadett2</td><td>Kovács Bernadett</td><td>8</td><td>5</td></tr>",
                            "<tr><td>csongor3</td><td>Nagymihály Csongor</td><td>8</td><td>5</td></tr>",
                            "<tr><td>daniel1</td><td>Keszler Dániel</td><td>7</td><td>6</td></tr>",
                            "<tr><td>edit</td><td>Bittmann Edit</td><td>7</td><td>6</td></tr>",
                            "<tr><td>emese</td><td>Kuruc Emese</td><td>7</td><td>6</td></tr>",
                            "<tr><td>BERNADETTO</td><td>Orbán Bernadett</td><td>7</td><td>6</td></tr>",
                            "<tr><td>bernadett1</td><td>Simon Bernadett</td><td>7</td><td>6</td></tr>",
                            "<tr><td>alexandra</td><td>Bagóczki Alexandra</td><td>7</td><td>6</td></tr>",
                            "<tr><td>andras21</td><td>Molnár András</td><td>7</td><td>6</td></tr>",
                            "<tr><td>arpad2</td><td>Ötvös Árpád</td><td>7</td><td>6</td></tr>",
                            "<tr><td>ARPADH</td><td>Horváth Árpád</td><td>7</td><td>6</td></tr>",
                            "<tr><td>GYONGYIK</td><td>Kornseé Gyöngyi</td><td>7</td><td>6</td></tr>",
                            "<tr><td>imre1</td><td>Papp Imre</td><td>7</td><td>6</td></tr>",
                            "<tr><td>JANOSG</td><td>Giliga János</td><td>7</td><td>6</td></tr>",
                            "<tr><td>JOZSEFG</td><td>Gyuris József</td><td>7</td><td>6</td></tr>",
                            "<tr><td>kati</td><td>Zatykó Katalin</td><td>7</td><td>6</td></tr>",
                            "<tr><td>marton</td><td>Kalacsi Márton</td><td>7</td><td>6</td></tr>",
                            "<tr><td>nikoletta4</td><td>Kő Nikoletta</td><td>7</td><td>6</td></tr>",
                            "<tr><td>norbert2</td><td>Hegedűs Norbert</td><td>7</td><td>6</td></tr>",
                            "<tr><td>SZABOLCSM</td><td>Miklós Szabolcs</td><td>7</td><td>6</td></tr>",
                            "<tr><td>SZILARDS</td><td>Szalai Szilárd</td><td>7</td><td>6</td></tr>",
                            "<tr><td>vivien3</td><td>Boros Vivien</td><td>7</td><td>6</td></tr>",
                            "<tr><td>veronika4</td><td>Tankó Veronika</td><td>6</td><td>7</td></tr>",
                            "<tr><td>ZOLTANP</td><td>Pintér Zoltán</td><td>6</td><td>7</td></tr>",
                            "<tr><td>ZSOLTJ</td><td>Józsa Zsolt</td><td>6</td><td>7</td></tr>",
                            "<tr><td>ZSUZSAV</td><td>Vajda Zsuzsa</td><td>6</td><td>7</td></tr>",
                            "<tr><td>tihamer</td><td>Kazy Tihamér</td><td>6</td><td>7</td></tr>",
                            "<tr><td>peter3</td><td>Szalai Péter</td><td>6</td><td>7</td></tr>",
                            "<tr><td>polla</td><td>Palágyi Polla</td><td>6</td><td>7</td></tr>",
                            "<tr><td>RENATAK</td><td>Kardos Renáta</td><td>6</td><td>7</td></tr>",
                            "<tr><td>MONIKAM</td><td>Mohos Mónika</td><td>6</td><td>7</td></tr>",
                            "<tr><td>KRISZTIANM</td><td>Mogyródi Krisztián</td><td>6</td><td>7</td></tr>",
                            "<tr><td>krisztina1</td><td>Bori Krisztina</td><td>6</td><td>7</td></tr>",
                            "<tr><td>kriszti</td><td>Horváth Krisztina</td><td>6</td><td>7</td></tr>",
                            "<tr><td>LASZLON</td><td>Nagy László</td><td>6</td><td>7</td></tr>",
                            "<tr><td>lala</td><td>Nagymihály Lajos</td><td>6</td><td>7</td></tr>",
                            "<tr><td>katalin4</td><td>Kertész Katalin</td><td>6</td><td>7</td></tr>",
                            "<tr><td>gabor1</td><td>Köves Gábor</td><td>6</td><td>7</td></tr>",
                            "<tr><td>gabriella1</td><td>Nagy Gabriella</td><td>6</td><td>7</td></tr>",
                            "<tr><td>ARPADM</td><td>Móricz Árpád</td><td>6</td><td>7</td></tr>",
                            "<tr><td>ANNAMARIAR</td><td>Regős Annamária</td><td>6</td><td>7</td></tr>",
                            "<tr><td>aron2</td><td>Jakab Áron</td><td>6</td><td>7</td></tr>",
                            "<tr><td>attila1</td><td>Gulyás Attila</td><td>6</td><td>7</td></tr>",
                            "<tr><td>andrea</td><td>Kiss Andrea</td><td>6</td><td>7</td></tr>",
                            "<tr><td>AGNESH</td><td>Horváth Ágnes</td><td>6</td><td>7</td></tr>",
                            "<tr><td>adam4</td><td>Bieniek Ádám</td><td>6</td><td>7</td></tr>",
                            "<tr><td>beata4</td><td>Bagi Beáta</td><td>6</td><td>7</td></tr>",
                            "<tr><td>BENCEB</td><td>Bajusz Bence</td><td>6</td><td>7</td></tr>",
                            "<tr><td>bertalan</td><td>Csiger Bertalan</td><td>6</td><td>7</td></tr>",
                            "<tr><td>BEATRIXS</td><td>Szekendi Beatrix</td><td>6</td><td>7</td></tr>",
                            "<tr><td>BELAF</td><td>Farkas Béla</td><td>6</td><td>7</td></tr>",
                            "<tr><td>balazs3</td><td>Bakódy Balázs</td><td>6</td><td>7</td></tr>",
                            "<tr><td>balazs1</td><td>Bozsik Balázs</td><td>6</td><td>7</td></tr>",
                            "<tr><td>david1</td><td>Sobják Dávid</td><td>6</td><td>7</td></tr>",
                            "<tr><td>denes</td><td>Tömböly Dénes</td><td>6</td><td>7</td></tr>",
                            "<tr><td>dora3</td><td>Sarodi Dóra</td><td>5</td><td>8</td></tr>",
                            "<tr><td>EVAV</td><td>Viktor Éva</td><td>5</td><td>8</td></tr>",
                            "<tr><td>brigitta</td><td>Székely Brigitta</td><td>5</td><td>8</td></tr>",
                            "<tr><td>brigitta3</td><td>Pataki Brigitta</td><td>5</td><td>8</td></tr>",
                            "<tr><td>agnes</td><td>Lengyel Ágnes</td><td>5</td><td>8</td></tr>",
                            "<tr><td>ANDRASE</td><td>Erdei András</td><td>5</td><td>8</td></tr>",
                            "<tr><td>andi</td><td>Maródi Andrea</td><td>5</td><td>8</td></tr>",
                            "<tr><td>andras2</td><td>Tóth András</td><td>5</td><td>8</td></tr>",
                            "<tr><td>gusztav</td><td>Bárci Gusztáv</td><td>5</td><td>8</td></tr>",
                            "<tr><td>julia</td><td>Tóth Júlia</td><td>5</td><td>8</td></tr>",
                            "<tr><td>janos3</td><td>Harangozó János</td><td>5</td><td>8</td></tr>",
                            "<tr><td>jozsef2</td><td>Vajda József</td><td>5</td><td>8</td></tr>",
                            "<tr><td>laszlo2</td><td>Móra László</td><td>5</td><td>8</td></tr>",
                            "<tr><td>mark</td><td>Kispál Márk</td><td>5</td><td>8</td></tr>",
                            "<tr><td>KRISZTINAG</td><td>Gyárfás Krisztina</td><td>5</td><td>8</td></tr>",
                            "<tr><td>MIHALYJ</td><td>Juhász Mihály</td><td>5</td><td>8</td></tr>",
                            "<tr><td>norbert</td><td>Szűcs Norbert</td><td>5</td><td>8</td></tr>",
                            "<tr><td>pal</td><td>Barabás Pál</td><td>5</td><td>8</td></tr>",
                            "<tr><td>RENATAS</td><td>Szirmai Renáta</td><td>5</td><td>8</td></tr>",
                            "<tr><td>PETERB</td><td>Berendi Péter</td><td>5</td><td>8</td></tr>",
                            "<tr><td>reka4</td><td>Szikszai Réka</td><td>5</td><td>8</td></tr>",
                            "<tr><td>sandor3</td><td>Farkas Sándor</td><td>5</td><td>8</td></tr>",
                            "<tr><td>valentin</td><td>Feró Valentin</td><td>5</td><td>8</td></tr>",
                            "<tr><td>timea2</td><td>Dusha Tímea</td><td>5</td><td>8</td></tr>",
                            "<tr><td>SEBASTIANF</td><td>Foltényi Sebastián</td><td>5</td><td>8</td></tr>",
                            "<tr><td>sebestyen</td><td>Rab Sebestyén</td><td>4</td><td>9</td></tr>",
                            "<tr><td>tamas</td><td>Antal Tamás</td><td>4</td><td>9</td></tr>",
                            "<tr><td>sandor4</td><td>Nagy Sándor</td><td>4</td><td>9</td></tr>",
                            "<tr><td>sandor</td><td>Karasz Sándor</td><td>4</td><td>9</td></tr>",
                            "<tr><td>roland</td><td>Tóth Roland</td><td>4</td><td>9</td></tr>",
                            "<tr><td>roland1</td><td>Ferencz Roland</td><td>4</td><td>9</td></tr>",
                            "<tr><td>robert2</td><td>Patay Róbert</td><td>4</td><td>9</td></tr>",
                            "<tr><td>rajmond4</td><td>Rácz Rajmond</td><td>4</td><td>9</td></tr>",
                            "<tr><td>zsolt1</td><td>Pulai Zsolt</td><td>4</td><td>9</td></tr>",
                            "<tr><td>zsuzsa3</td><td>Varsányi Zsuzsa</td><td>4</td><td>9</td></tr>",
                            "<tr><td>zsuzsanna</td><td>Barta Zsuzsanna</td><td>4</td><td>9</td></tr>",
                            "<tr><td>VIKTORIAU</td><td>Urbán Viktoria</td><td>4</td><td>9</td></tr>",
                            "<tr><td>peter1</td><td>Kozma Péter</td><td>4</td><td>9</td></tr>",
                            "<tr><td>peter2</td><td>Bozsó Péter</td><td>4</td><td>9</td></tr>",
                            "<tr><td>nikolett3</td><td>Horváth Nikolett</td><td>4</td><td>9</td></tr>",
                            "<tr><td>NIKOLETTAT</td><td>Tatár Nikoletta</td><td>4</td><td>9</td></tr>",
                            "<tr><td>julianna4</td><td>Szabó Julianna</td><td>4</td><td>9</td></tr>",
                            "<tr><td>MARKH</td><td>Horváth Márk</td><td>4</td><td>9</td></tr>",
                            "<tr><td>LASZLOA</td><td>Antal László</td><td>4</td><td>9</td></tr>",
                            "<tr><td>JANOSP</td><td>Pálinkás János</td><td>4</td><td>9</td></tr>",
                            "<tr><td>istvan1</td><td>Vizi István</td><td>4</td><td>9</td></tr>",
                            "<tr><td>ilona3</td><td>Bosnyák Ilona</td><td>4</td><td>9</td></tr>",
                            "<tr><td>eva2</td><td>Perlinger Éva</td><td>4</td><td>9</td></tr>",
                            "<tr><td>georgij</td><td>Nyíri Georgij</td><td>4</td><td>9</td></tr>",
                            "<tr><td>gabor4</td><td>Telek Gábor</td><td>4</td><td>9</td></tr>",
                            "<tr><td>aniko4</td><td>Böröcz Anikó</td><td>4</td><td>9</td></tr>",
                            "<tr><td>anita</td><td>Hamvay-Kovács Anita</td><td>4</td><td>9</td></tr>",
                            "<tr><td>andrea4</td><td>Neizer Andrea</td><td>4</td><td>9</td></tr>",
                            "<tr><td>ATTILAO</td><td>Opra Attila</td><td>4</td><td>9</td></tr>",
                            "<tr><td>ferenc1</td><td>Orosz Ferenc</td><td>4</td><td>9</td></tr>",
                            "<tr><td>ESZTERE</td><td>Érsek Eszter</td><td>4</td><td>9</td></tr>",
                            "<tr><td>eszter</td><td>Molnár Eszter</td><td>4</td><td>9</td></tr>",
                            "<tr><td>debora</td><td>Barna Debóra</td><td>4</td><td>9</td></tr>",
                            "<tr><td>eszter4</td><td>Fülöp Eszter</td><td>3</td><td>10</td></tr>",
                            "<tr><td>balint</td><td>Horváth Bálint</td><td>3</td><td>10</td></tr>",
                            "<tr><td>ANDREAT</td><td>Tornyos Andrea</td><td>3</td><td>10</td></tr>",
                            "<tr><td>aniko</td><td>Tóth Anikó</td><td>3</td><td>10</td></tr>",
                            "<tr><td>attila4</td><td>Baróti Attila</td><td>3</td><td>10</td></tr>",
                            "<tr><td>attila</td><td>Csóti Attila</td><td>3</td><td>10</td></tr>",
                            "<tr><td>andras4</td><td>Back András</td><td>3</td><td>10</td></tr>",
                            "<tr><td>agnes3</td><td>Hartyánszky Ágnes</td><td>3</td><td>10</td></tr>",
                            "<tr><td>adam1</td><td>Kiss Ádám</td><td>3</td><td>10</td></tr>",
                            "<tr><td>AGNESK</td><td>Kovács Ágnes</td><td>3</td><td>10</td></tr>",
                            "<tr><td>aladar</td><td>Dunai Aladár</td><td>3</td><td>10</td></tr>",
                            "<tr><td>istvan</td><td>Soós István</td><td>3</td><td>10</td></tr>",
                            "<tr><td>henrik3</td><td>Nádudvari Henrik</td><td>3</td><td>10</td></tr>",
                            "<tr><td>IBOLYAA</td><td>Andor Ibolya</td><td>3</td><td>10</td></tr>",
                            "<tr><td>jozsef</td><td>Gergely József</td><td>3</td><td>10</td></tr>",
                            "<tr><td>JUDITH</td><td>Hídasi Judit</td><td>3</td><td>10</td></tr>",
                            "<tr><td>klaudia2</td><td>Bakó Klaudia</td><td>3</td><td>10</td></tr>",
                            "<tr><td>kornel4</td><td>Lukács Kornél</td><td>3</td><td>10</td></tr>",
                            "<tr><td>lajos</td><td>Kiss Lajos</td><td>3</td><td>10</td></tr>",
                            "<tr><td>norbert5</td><td>Béres Norbert</td><td>3</td><td>10</td></tr>",
                            "<tr><td>miklos2</td><td>Gondos Miklós</td><td>3</td><td>10</td></tr>",
                            "<tr><td>MIKLOSB</td><td>Balla Miklós</td><td>3</td><td>10</td></tr>",
                            "<tr><td>NANDORF</td><td>Fő Nándor</td><td>3</td><td>10</td></tr>",
                            "<tr><td>MATEK</td><td>Koza Máté</td><td>3</td><td>10</td></tr>",
                            "<tr><td>ZOLTANT</td><td>Tóth Zoltán</td><td>3</td><td>10</td></tr>",
                            "<tr><td>zsuzsa</td><td>Pusztai Zsuzsanna</td><td>3</td><td>10</td></tr>",
                            "<tr><td>roza2</td><td>Bucskó Róza</td><td>3</td><td>10</td></tr>",
                            "<tr><td>ROBERTP</td><td>Pásztor Róbert</td><td>2</td><td>11</td></tr>",
                            "<tr><td>tibor</td><td>Gombos Tibor</td><td>2</td><td>11</td></tr>",
                            "<tr><td>tamara2</td><td>Miklós Tamara</td><td>2</td><td>11</td></tr>",
                            "<tr><td>zsofi1</td><td>Molnár Zsófi</td><td>2</td><td>11</td></tr>",
                            "<tr><td>VIKTORK</td><td>Keresztúri Viktor</td><td>2</td><td>11</td></tr>",
                            "<tr><td>zoltan</td><td>Fodor Zoltán</td><td>2</td><td>11</td></tr>",
                            "<tr><td>matyas2</td><td>Botka Mátyás</td><td>2</td><td>11</td></tr>",
                            "<tr><td>kristof4</td><td>Poprádi Kristóf</td><td>2</td><td>11</td></tr>",
                            "<tr><td>julia4</td><td>Nagy Júlia</td><td>2</td><td>11</td></tr>",
                            "<tr><td>ISTVANV</td><td>Varga István</td><td>2</td><td>11</td></tr>",
                            "<tr><td>imre</td><td>Búza Imre</td><td>2</td><td>11</td></tr>",
                            "<tr><td>adam3</td><td>Barkóci Ádám</td><td>2</td><td>11</td></tr>",
                            "<tr><td>annamaria1</td><td>Szűcs Annamária</td><td>2</td><td>11</td></tr>",
                            "<tr><td>balint2</td><td>Vukasinovity Bálint</td><td>2</td><td>11</td></tr>",
                            "<tr><td>balu</td><td>Endresz Bálint</td><td>2</td><td>11</td></tr>",
                            "<tr><td>eva</td><td>Enyedi Éva</td><td>2</td><td>11</td></tr>",
                            "<tr><td>david4</td><td>Berta Dávid</td><td>1</td><td>12</td></tr>",
                            "<tr><td>ANDRASN</td><td>Nagy András</td><td>1</td><td>12</td></tr>",
                            "<tr><td>andrea3</td><td>Szomor Andrea</td><td>1</td><td>12</td></tr>",
                            "<tr><td>gabriella10</td><td>Vida Gabriella</td><td>1</td><td>12</td></tr>",
                            "<tr><td>laszlo1</td><td>Farkas László</td><td>1</td><td>12</td></tr>",
                            "<tr><td>szabolcs</td><td>Bodor Szabolcs</td><td>1</td><td>12</td></tr>",
                            "<tr><td>tibor2</td><td>Dániel Tibor</td><td>1</td><td>12</td></tr>",
                            "<tr><td>timea</td><td>Papós Tímea</td><td>1</td><td>12</td></tr>",
                            "<tr><td>GABORS</td><td>Szöllősi Gábor</td><td>0</td><td>13</td></tr>",
                            "</table>"
                        ]
                    }
                }
            ],
            "execution_count": 20
        },
        {
            "cell_type": "markdown",
            "source": [
                "A Szoba tábla Ferohely oszlopára végezzük el a következő számításokat:\n",
                "\n",
                "- Különböző értékek száma\n",
                "- Minimum, maximum, átlag\n",
                "- Null és Not null értékek százalékos aránya"
            ],
            "metadata": {
                "azdata_cell_guid": "7644fd4c-ac23-4d18-a1eb-8350ce67b135"
            },
            "attachments": {}
        },
        {
            "cell_type": "code",
            "source": [
                "SELECT\r\n",
                "    COUNT(DISTINCT Ferohely) AS 'különböző értékek',\r\n",
                "    MIN(Ferohely) AS 'minimum',\r\n",
                "    MAX(Ferohely) AS 'maximum',\r\n",
                "    AVG(Ferohely) AS 'átlag',\r\n",
                "    SUM(CASE WHEN Ferohely IS NULL THEN 1 ELSE 0 END) * 100.0 / COUNT(*) AS 'Null százalékos aránya',\r\n",
                "    SUM(CASE WHEN Ferohely IS NOT NULL THEN 1 ELSE 0 END) * 100.0 / COUNT(*) AS 'Not null százalékos aránya'\r\n",
                "FROM Szoba"
            ],
            "metadata": {
                "azdata_cell_guid": "fbfe7398-5a91-4521-a45b-df96cfe43b4f",
                "language": "sql"
            },
            "outputs": [
                {
                    "output_type": "display_data",
                    "data": {
                        "text/html": "(1 row affected)"
                    },
                    "metadata": {}
                },
                {
                    "output_type": "display_data",
                    "data": {
                        "text/html": "Total execution time: 00:00:00.011"
                    },
                    "metadata": {}
                },
                {
                    "output_type": "execute_result",
                    "metadata": {},
                    "execution_count": 23,
                    "data": {
                        "application/vnd.dataresource+json": {
                            "schema": {
                                "fields": [
                                    {
                                        "name": "különböző értékek"
                                    },
                                    {
                                        "name": "minimum"
                                    },
                                    {
                                        "name": "maximum"
                                    },
                                    {
                                        "name": "átlag"
                                    },
                                    {
                                        "name": "Null százalékos aránya"
                                    },
                                    {
                                        "name": "Not null százalékos aránya"
                                    }
                                ]
                            },
                            "data": [
                                {
                                    "különböző értékek": "4",
                                    "minimum": "1",
                                    "maximum": "4",
                                    "átlag": "2",
                                    "Null százalékos aránya": "0.000000000000",
                                    "Not null százalékos aránya": "100.000000000000"
                                }
                            ]
                        },
                        "text/html": [
                            "<table>",
                            "<tr><th>különböző értékek</th><th>minimum</th><th>maximum</th><th>átlag</th><th>Null százalékos aránya</th><th>Not null százalékos aránya</th></tr>",
                            "<tr><td>4</td><td>1</td><td>4</td><td>2</td><td>0.000000000000</td><td>100.000000000000</td></tr>",
                            "</table>"
                        ]
                    }
                }
            ],
            "execution_count": 23
        },
        {
            "cell_type": "markdown",
            "source": [
                "Valósítsa meg REDIS-ben a következő táblákat:\n",
                "\n",
                "- <span style=\"box-sizing: border-box; font-size: 0.9375rem;\">IRO(ID, nev, nemzetiseg)</span>\n",
                "- KONYV(ID, cim, mufaj, IRO\\_ID)\n",
                "\n",
                "Vigyen fel táblánként legalább 2-2 sornyi adatot!"
            ],
            "metadata": {
                "azdata_cell_guid": "2a8bc6fe-3999-4dc5-8ef7-1fac44f8aedd"
            },
            "attachments": {}
        },
        {
            "cell_type": "code",
            "source": [
                "HSET iro:1 ID 1 nev \"Móricz Zsigmond\" nemzetiseg \"Magyar\"\r\n",
                "HSET iro:2 ID 2 nev \"Stephen Hawking\" nemzetiseg \"Angol\"\r\n",
                "HSET konyv:1 ID 1 cim \"Tündérkert\" mufaj \"Regény\" IRO_ID 1\r\n",
                "HSET konyv:2 ID 2 cim \"Az idő rövid története\" mufaj \"Ismeretterjesztő\" IRO_ID 2"
            ],
            "metadata": {
                "azdata_cell_guid": "b9ac0b74-1575-4188-9de6-c3e1b2454cd4",
                "language": "sql"
            },
            "outputs": [],
            "execution_count": null
        },
        {
            "cell_type": "markdown",
            "source": [
                "A Neo4j Sandbox-ban vagy a Desktopban jelenítsük meg azon személyeket, akik egy filmben szerepeltek Tom Hanks-sel.\n",
                "\n",
                "- Egy szereplő neve csak egyszer jelenjen meg\n",
                "- Tom Hanks ne legyen benne a listában"
            ],
            "metadata": {
                "azdata_cell_guid": "90a0856f-3cff-47ae-86f4-408f6610cbeb"
            },
            "attachments": {}
        },
        {
            "cell_type": "code",
            "source": [
                "MATCH (p:Person)-[:ACTED_IN]->(m:Movie)<-[:ACTED_IN]-(p2:Person)\r\n",
                "WHERE  p2.name ='Tom Hanks' and  p.name <> 'Tom Hanks'\r\n",
                "RETURN  p.name"
            ],
            "metadata": {
                "azdata_cell_guid": "bf1f7bfd-5498-46f5-91d4-eab312e23f05",
                "language": "sql"
            },
            "outputs": [],
            "execution_count": null
        },
        {
            "cell_type": "markdown",
            "source": [
                "Cassandra CQL Shellben hozza létre a következő táblát:\n",
                "\n",
                "STUDENT(ID, Nev, Teljesitett\\_felevek, Eredmenyek, Nyelvtudas)\n",
                "\n",
                "- Az ID legyen az elsődleges kulcs\n",
                "- A Teljesitett félévek legyen LIST, tartalma egész számok, pl: 1, 2, 3\n",
                "- Az Eredmenyek legyen MAP, tartalma, hogy melyik félévben mennyi volt az átlag, pl: 1: 3,00, 2: 4.55, 3: 4,10\n",
                "- A Nyelvtudas legyen SET, tartalma a nyelvek megnevezése\n",
                "\n",
                "Vigyen fel legalább 2 rekordot!"
            ],
            "metadata": {
                "azdata_cell_guid": "2d4907c2-7619-4bfc-a1db-2c0c62576138"
            },
            "attachments": {}
        },
        {
            "cell_type": "code",
            "source": [
                "create table STUDENT(ID INT, nev text, Teljesitett_felevek list<int>, Eredmenyek map<int, float>, nyelvtudas set<text>, primary key(ID));\r\n",
                "insert into STUDENT(ID, nev, Teljesitett_felevek, Eredmenyek, nyelvtudas) values (1, 'Kolozsi Péter', [1,2], {1: 4.2, 2: 4.0}, {'Angol'});\r\n",
                "insert into STUDENT(ID, nev, Teljesitett_felevek, Eredmenyek, nyelvtudas) values (1, 'Balázs Adrienn', [1,2], {1: 3.8, 2: 4.2}, {'Német'});"
            ],
            "metadata": {
                "azdata_cell_guid": "3ad4202a-5070-4c4d-9331-923de57fe2f1",
                "language": "sql"
            },
            "outputs": [],
            "execution_count": null
        }
    ]
}