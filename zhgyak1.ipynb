{
    "metadata": {
        "kernelspec": {
            "name": "SQL",
            "display_name": "SQL",
            "language": "sql"
        },
        "language_info": {
            "name": "sql",
            "version": ""
        }
    },
    "nbformat_minor": 2,
    "nbformat": 4,
    "cells": [
        {
            "cell_type": "code",
            "source": [
                "SELECT *, IIF(MONTH(METTOL) IN (6,7,8), 'IGEN', 'NEM') AS 'Nyári szezon'\n",
                "FROM Foglalas\n",
                "WHERE GYERMEK_SZAM = 0 AND UGYFEL_FK = 'laszlo2'"
            ],
            "metadata": {
                "tags": [],
                "azdata_cell_guid": "bd8a763f-0671-464a-835d-23b3e105061e",
                "language": "sql"
            },
            "outputs": [
                {
                    "output_type": "display_data",
                    "data": {
                        "text/html": "(1 row affected)"
                    },
                    "metadata": {}
                },
                {
                    "output_type": "display_data",
                    "data": {
                        "text/html": "Total execution time: 00:00:00.009"
                    },
                    "metadata": {}
                },
                {
                    "output_type": "execute_result",
                    "execution_count": 1,
                    "data": {
                        "application/vnd.dataresource+json": {
                            "schema": {
                                "fields": [
                                    {
                                        "name": "FOGLALAS_PK"
                                    },
                                    {
                                        "name": "UGYFEL_FK"
                                    },
                                    {
                                        "name": "SZOBA_FK"
                                    },
                                    {
                                        "name": "METTOL"
                                    },
                                    {
                                        "name": "MEDDIG"
                                    },
                                    {
                                        "name": "FELNOTT_SZAM"
                                    },
                                    {
                                        "name": "GYERMEK_SZAM"
                                    },
                                    {
                                        "name": "Nyári szezon"
                                    }
                                ]
                            },
                            "data": [
                                {
                                    "FOGLALAS_PK": "561",
                                    "UGYFEL_FK": "laszlo2",
                                    "SZOBA_FK": "42",
                                    "METTOL": "2016-04-06",
                                    "MEDDIG": "2016-04-10",
                                    "FELNOTT_SZAM": "2",
                                    "GYERMEK_SZAM": "0",
                                    "Nyári szezon": "NEM"
                                }
                            ]
                        },
                        "text/html": "<table><tr><th>FOGLALAS_PK</th><th>UGYFEL_FK</th><th>SZOBA_FK</th><th>METTOL</th><th>MEDDIG</th><th>FELNOTT_SZAM</th><th>GYERMEK_SZAM</th><th>Nyári szezon</th></tr><tr><td>561</td><td>laszlo2</td><td>42</td><td>2016-04-06</td><td>2016-04-10</td><td>2</td><td>0</td><td>NEM</td></tr></table>"
                    },
                    "metadata": {}
                }
            ],
            "execution_count": 1
        },
        {
            "cell_type": "code",
            "source": [
                " SELECT szh.TIPUS, YEAR(f.METTOL) AS 'Év', MONTH(f.METTOL) AS 'Hónap', COUNT(*)\r\n",
                " FROM Foglalas f JOIN Szoba sz ON f.SZOBA_FK = sz.SZOBA_ID \r\n",
                "                JOIN Szallashely szh ON sz.SZALLAS_FK = szh.SZALLAS_ID\r\n",
                "WHERE DATEDIFF(day, f.METTOL, F.MEDDIG) >=5 \r\n",
                "szh.TIPUS, YEAR(f.METTOL), MONTH(f.METTOL)"
            ],
            "metadata": {
                "language": "sql",
                "azdata_cell_guid": "1808fb64-890b-4599-8301-8efa5d1b7776"
            },
            "outputs": [
                {
                    "output_type": "error",
                    "evalue": "Msg 102, Level 15, State 1, Line 5\r\nIncorrect syntax near 'szh'.",
                    "ename": "",
                    "traceback": []
                },
                {
                    "output_type": "display_data",
                    "data": {
                        "text/html": "Total execution time: 00:00:00.003"
                    },
                    "metadata": {}
                }
            ],
            "execution_count": 1
        }
    ]
}